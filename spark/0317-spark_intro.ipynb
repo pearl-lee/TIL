{
 "cells": [
  {
   "cell_type": "markdown",
   "metadata": {},
   "source": [
    "## Spark\n",
    "- GCP(Google Cloud Platform) 서버 이용\n",
    "    - scale out: 서버늘리기    \n",
    "- Hadoop : 서버 1대로 처리가 불가능한 빅데이터를 여러 서버를 이용(클러스터)하여 처리하는 오픈소스\n",
    "    - 대용량 파일을 쪼개 여러 서버에 나눠서 저장\n",
    "    - 여러대의 머신을 이용하여 연산하는 엔진\n",
    "- Spark\n",
    "    - Hadoop보다 더 빠르게 연산"
   ]
  },
  {
   "cell_type": "markdown",
   "metadata": {},
   "source": [
    "---\n",
    "### Apache Zeppelin\n",
    "- Spark를 코딩하는 오픈소스 프로그램 (python의 jupyter notebook)\n",
    "- Scalar Language\n",
    "    - compile language\n",
    "    - interpreter도 지원\n",
    "    - java와 호환\n",
    "- linux 기반 설치\n",
    "    - pandas, pandasql, matplotlib, sklearn, etc...\n",
    "    - pandasql : pandas에서 제공하는 dataframe을 sql로 다루기 위한 library\n",
    "    - sklearn : 이미 작성 되어 있는 머신러닝 패키지\n",
    "    - MLlib : Spark의 머신러닝 library. 분산환경에서 실행\n",
    "---\n",
    "### %pyspark\n",
    "- python 기반 spark\n",
    "- 알아서 분산환경에서 실행 -> 속도가 빠름\n",
    "- `pyspark.sql.functions` : sql의 함수를 그대로 쓸 수 있다\n",
    "- spark sql\n",
    "    - python sql을 사용하는 것보다 복잡하지만 물리적인 다른 저장소에 저장이 가능\n",
    "    - 코드의 성능이 떨어져도, 최적화를 해주기 때문에 좋은 성능의 코드(속도가 빠른것) 실행계획은 같음\n",
    "---\n",
    "### Cluster Resource Manager\n",
    "- 여러 서버가 한꺼번에 돌아갈 때, 적절하게 메모리와 CPU를 할당\n",
    "    - Hadoop \n",
    "        - 메모리 이상을 사용하면, 서버 중단\n",
    "        - spark 외에도 다양한 tool을 사용할 수 있다\n",
    "    - Spark\n",
    "        - 메모리 이상 사용하더라도 조금은 봐준다(?)\n",
    "        - spark만 돌림\n",
    "        - History Server : 실행 완료 후에도 오류가 어디에서 발생했는지 볼 수 있다\n",
    "- spark가 무얼 하고 있는지 ui로 보여줌\n"
   ]
  },
  {
   "cell_type": "markdown",
   "metadata": {},
   "source": [
    "---\n",
    "#### 머신러닝\n",
    "- 데이터를 통해 기계가 학습\n",
    "    - 지도학습 : 정답이 있음\n",
    "    - 비지도학습 : 정답이 없음\n",
    "        - (ex) k-means clustering\n",
    "            - 데이터를 k개의 군집으로 나눔\n",
    "            - elbow method: 적절한 k값을 찾는 방법, 급격하게 감소하다가 완만해지는 point\n",
    "        \n",
    "    - 강화학습: 상황에 따른 보상을 주고, 보상이 증가하는 방향으로 학습"
   ]
  }
 ],
 "metadata": {
  "kernelspec": {
   "display_name": "Python 3",
   "language": "python",
   "name": "python3"
  },
  "language_info": {
   "codemirror_mode": {
    "name": "ipython",
    "version": 3
   },
   "file_extension": ".py",
   "mimetype": "text/x-python",
   "name": "python",
   "nbconvert_exporter": "python",
   "pygments_lexer": "ipython3",
   "version": "3.7.4"
  }
 },
 "nbformat": 4,
 "nbformat_minor": 2
}
