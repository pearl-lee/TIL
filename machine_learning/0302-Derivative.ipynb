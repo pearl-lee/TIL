{
 "cells": [
  {
   "cell_type": "markdown",
   "metadata": {},
   "source": [
    "### 미분의 활용\n",
    "- 극댓값, 극솟값\n",
    "    - 미분값은 접선의 기울기 도함수를 통하여 미분가능한 함수의 극댓값, 극솟값을 구할 수 있음.\n",
    "---\n",
    "#### 확률분포함수(Probability distribution function)\n",
    "- 모수를 알 때, 확률변수의 실현값을 예측하고자 함\n",
    "    - 확률밀도함수(probability density function)\n",
    "        - 연속형 확률변수의 확률 분포함수\n",
    "        - 평균 $\\mu_0$, 분산 1을 독립 정규분포를 따르는 확률변수 $X_i$의 확률분포함수\n",
    "            - $f(x_i) = {1 \\over \\sqrt{2 \\pi \\cdot 1}}exp\\big(-{(x_i - \\mu)^2 \\over 2 \\cdot 1}\\big)$\n",
    "        - $X_1 = x_1$, $X_2 = x_2$, $X_3 = x_3$, 3개의 자료가 있을 때 확률분포함수\n",
    "            - $f(x_1, x_2, x_3) = \\big({1\\over \\sqrt{2 \\pi \\cdot 1}}\\big)^3exp\\big(-{(x_1 - \\mu_0)^2 + (x_2 - \\mu_0)^2 + (x_3 - \\mu_0)^2 \\over 2 \\cdot 1}\\big)$\n",
    "    - 확률질량함수(probability mass function)\n",
    "        - 이산형 확률변수의 확률 분포함수\n",
    "        - $f(x) = P(X = x)$\n",
    "    - 누적분포함수(cumulative distribution function)\n",
    "        - $F(x) = P(X \\le x)$\n",
    "---\n",
    "#### 가능도함수(Likelihood function)\n",
    "- 확률변수의 실현값을 알 때(데이터$x$가 있을 때), 모수를 추정하고자 함\n",
    "    - 확률분포함수와 동일한 함수이나, $\\mu_0$를 변수로 인식\n",
    "        - $L(\\mu_0; x_1, x_2, x_3) = \\big({1\\over \\sqrt{2 \\pi \\cdot 1}}\\big)^3exp\\big(-{(\\mu_0 - x_1)^2 + (\\mu_0 - x_2)^2 + (\\mu_0 - x_3)^2 \\over 2 \\cdot 1}\\big)$\n",
    "    - $X_1 = 1, X_2 = 2, X_3 = 3$ 일 때,\n",
    "        - $L(\\mu_0; 1, 2, 3) = \\big({1\\over \\sqrt{2 \\pi \\cdot 1}}\\big)^3exp\\big(-{(\\mu_0 - 1)^2 + (\\mu_0 - 2)^2 + (\\mu_0 - 3)^2 \\over 2 \\cdot 1}\\big)$\n",
    "\n",
    "    - MLE(Maximum Likelihood Estimator)\n",
    "        - Likelihood를 최대로 만드는 모수 $\\mu_0$의 값\n",
    "        - 주로 모수에 hat(^)을 붙여 표현 -> $\\hat {\\mu_0}$"
   ]
  },
  {
   "cell_type": "code",
   "execution_count": null,
   "metadata": {},
   "outputs": [],
   "source": []
  }
 ],
 "metadata": {
  "kernelspec": {
   "display_name": "Python 3",
   "language": "python",
   "name": "python3"
  },
  "language_info": {
   "codemirror_mode": {
    "name": "ipython",
    "version": 3
   },
   "file_extension": ".py",
   "mimetype": "text/x-python",
   "name": "python",
   "nbconvert_exporter": "python",
   "pygments_lexer": "ipython3",
   "version": "3.7.4"
  }
 },
 "nbformat": 4,
 "nbformat_minor": 2
}
