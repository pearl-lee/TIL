{
 "cells": [
  {
   "cell_type": "markdown",
   "metadata": {},
   "source": [
    "### 모델평가\n",
    "- 다양한 모델, 다양한 파라미터를 두고 상대적으로 비교\n",
    "- 데이터 수집/가공/변환 $\\rightarrow$ 모델 학습/예측 $\\rightarrow$ 모델 평가 $\\rightarrow$ 데이터 수집/가공/변환 $\\cdots$\n",
    "\n",
    "\n",
    "#### 회귀모델\n",
    "- 실제값과 에러치를 가지고 계산\n",
    "- 간단한 편\n",
    "\n",
    "#### 분류모델\n",
    "- 정확도(Accuracy)\n",
    "- 오차행렬(Confusion Matrix)\n",
    "- 정밀도(Precision)\n",
    "- 재현율(Recall)\n",
    "- F1 score\n",
    "- ROC AUC\n",
    "\n",
    "#### 이진분류모델\n",
    "- TP(True Positive)\n",
    "    - 실제 positive를 positive라고 맞춘 경우\n",
    "- FN(False Negative): Type 2 Error\n",
    "    - 실제 positive를 negative라고 틀리게 예측한 경우\n",
    "- TN(True Negative)\n",
    "    - 실제 negative를 negative라고 맞춘 경우\n",
    "- FP(False Positive): Type 1 Error\n",
    "    - 실제 negative를 positive라고 예측한 경우\n",
    "\n",
    "모델 평가\n",
    "\n",
    "- Accuracy \n",
    "    - 전체 데이터 중 맞게 예측한 것의 비율\n",
    "    - $TP + TN \\over TP + TF + FP + FN$\n",
    "- Precision \n",
    "    - 참이라고 예측한 것 중에 실제 참인 데이터의 비율\n",
    "    - 실제 거짓(음성)인 데이터를 참(양성)이라고 판단하면 안되는 경우 중요(스팸메일)\n",
    "    - $TP \\over TP + TF$\n",
    "- Recall(TPR True Positive Ratio) \n",
    "    - 참인 데이터 중에서 참이라고 예측한 것의 비율\n",
    "    - 실제 참인 데이터를 거짓이라고 판단하면 안되는 경우 중요(암환자 판별\n",
    "    - $TP \\over TP + FN$\n",
    "- Fall-Out(FPR False Position Ratio) \n",
    "    - 실제로는 거짓인데 참이라고 잘못 예측한 데이터의 비율\n",
    "    - $FP \\over FP + TN$"
   ]
  },
  {
   "cell_type": "code",
   "execution_count": null,
   "metadata": {},
   "outputs": [],
   "source": []
  }
 ],
 "metadata": {
  "kernelspec": {
   "display_name": "Python 3",
   "language": "python",
   "name": "python3"
  },
  "language_info": {
   "codemirror_mode": {
    "name": "ipython",
    "version": 3
   },
   "file_extension": ".py",
   "mimetype": "text/x-python",
   "name": "python",
   "nbconvert_exporter": "python",
   "pygments_lexer": "ipython3",
   "version": "3.7.6"
  }
 },
 "nbformat": 4,
 "nbformat_minor": 4
}
