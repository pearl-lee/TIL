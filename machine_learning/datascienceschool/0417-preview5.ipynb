{
 "cells": [
  {
   "cell_type": "markdown",
   "metadata": {},
   "source": [
    "## 나이브 베이즈 분류(Naive Bayes Classifier)\n",
    "- 특성들 사이의 독립을 가정하는 베이즈 정리를 적용한 확률 분류기의 일종으로 1950년대 이후 광범위하게 연구되고 있음\n",
    "- (ex) 서포트벡터머신(Support Vector Machine)\n",
    "\n",
    "## Distance of Sentences\n",
    "#### CountVectorizer\n",
    "- sklearn이 제공하는 문장을 벡터로 변환하는 함수\n",
    "\n",
    "---\n",
    "\n",
    "## Clustering\n",
    "### K-Means\n",
    "- 군집화에서 가장 일반적인 알고리즘\n",
    "- 군집 중심(centroid)이라는 임의의 지점을 선택해서 해당 중심에 가장 가까운 포인트들을 선택하는 군집화\n",
    "- 거리 기반 알고리즘으로 속성의 개수가 매우 많을 경우 군집화의 정확도가 떨어짐\n",
    "- 원리\n",
    "    - 초기 중심점 설정 \n",
    "    - 각 데이터는 가장 가까움 중심점에 소속\n",
    "    - 중심점에 할당된 평균값으로 중심점 이동 \n",
    "    - 각 데이터는 이동된 중심점 기준으로 가장 가까운 중심점에 소속 \n",
    "    - 다시 중심점에 할당된 데이터들의 평균값으로 중심점 이동\n",
    "    \n",
    "### 군집평가\n",
    "- 군집 결과의 평가\n",
    "- 분류기는 평가기준(정답)을 가지고 있지만, 군집은 그렇지 않다\n",
    "- 군집 결과를 평가하기 위해 실루엣 분석을 많이 활용한다\n",
    "\n",
    "#### 실루엣 분석\n",
    "- 각 군집 간의 거리가 얼마나 효율적으로 분리되어 있는지 나타앰\n",
    "- 다른 군집과의 거리는 떨어져 있고동일 군집끼리의 데이터는 서로 가깝게 잘 뭉쳐 있는지 확인\n",
    "- 군집화가 잘 되어 있을 수록 개별 군집은 비슷한 정도의 여유공간을 가지고 있음\n",
    "- 실루엣 계수 : 개별 데이터가 가지는 군집화 지표"
   ]
  },
  {
   "cell_type": "code",
   "execution_count": null,
   "metadata": {},
   "outputs": [],
   "source": []
  }
 ],
 "metadata": {
  "kernelspec": {
   "display_name": "Python 3",
   "language": "python",
   "name": "python3"
  },
  "language_info": {
   "codemirror_mode": {
    "name": "ipython",
    "version": 3
   },
   "file_extension": ".py",
   "mimetype": "text/x-python",
   "name": "python",
   "nbconvert_exporter": "python",
   "pygments_lexer": "ipython3",
   "version": "3.7.6"
  }
 },
 "nbformat": 4,
 "nbformat_minor": 4
}
