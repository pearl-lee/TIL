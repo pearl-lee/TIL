{
 "cells": [
  {
   "cell_type": "markdown",
   "metadata": {},
   "source": [
    "### confusion matrix \n",
    "$= \\begin{bmatrix}TP & FN \\\\ FP & TN \\end{bmatrix}$\n",
    "\n",
    "```python\n",
    "sk.metrics.confusion_matrix(y_test, y_predict)\n",
    "\n",
    "\n",
    "```\n",
    "\n",
    "- precision \n",
    "    - $TP \\over {TP + FP}$\n",
    "    - True라고 예측한 것 중 실제 True의 비율\n",
    "    - 모델 입장에서 정답이라고 맞춘 경우\n",
    "    \n",
    "- recall\n",
    "    - $TP \\over {TP + FN}$\n",
    "    - 실제 True인 것 중에 True라고 예측한 것의 비율\n",
    "    - 데이터 입장에서 정답이라고 맞춘경우\n",
    "    \n",
    "- 아직도 잘 모르겠다.."
   ]
  },
  {
   "cell_type": "code",
   "execution_count": 1,
   "metadata": {},
   "outputs": [
    {
     "name": "stdout",
     "output_type": "stream",
     "text": [
      "Train Acc : 0.7427361939580527\n",
      "Test Acc : 0.7438461538461538\n"
     ]
    }
   ],
   "source": [
    "url = 'https://raw.githubusercontent.com/PinkWink/ML_tutorial/master/dataset/wine.csv'\n",
    "\n",
    "wine = pd.read_csv(url, index_col=0)\n",
    "wine['taste'] = [1. if grade > 5 else 0. for grade in wine['quality']]\n",
    "\n",
    "X = wine.drop(['taste', 'quality'], axis=1)\n",
    "y = wine['taste']\n",
    "\n",
    "# 데이터 분리\n",
    "from sklearn.model_selection import train_test_split\n",
    "\n",
    "X_train, X_test, y_train, y_test = train_test_split(X, y, test_size=.2, random_state=13)\n",
    "\n",
    "# 로지스틱 회귀\n",
    "from sklearn.linear_model import LogisticRegression\n",
    "from sklearn.metrics import accuracy_score\n",
    "\n",
    "lr = LogisticRegression(solver='liblinear', random_state=13)\n",
    "lr.fit(X_train, y_train)\n",
    "\n",
    "y_pred_train = lr.predict(X_train)\n",
    "y_pred_test = lr.predict(X_test)\n",
    "\n",
    "print(f'Train Acc : {accuracy_score(y_train, y_pred_train)}')\n",
    "print(f'Test Acc : {accuracy_score(y_test, y_pred_test)}')"
   ]
  },
  {
   "cell_type": "code",
   "execution_count": 2,
   "metadata": {},
   "outputs": [
    {
     "name": "stdout",
     "output_type": "stream",
     "text": [
      "              precision    recall  f1-score   support\n",
      "\n",
      "         0.0       0.68      0.58      0.62       477\n",
      "         1.0       0.77      0.84      0.81       823\n",
      "\n",
      "    accuracy                           0.74      1300\n",
      "   macro avg       0.73      0.71      0.71      1300\n",
      "weighted avg       0.74      0.74      0.74      1300\n",
      "\n"
     ]
    }
   ],
   "source": [
    "# classificaion report\n",
    "from sklearn.metrics import classification_report\n",
    "print(classification_report(y_test, lr.predict(X_test)))"
   ]
  },
  {
   "cell_type": "code",
   "execution_count": 3,
   "metadata": {},
   "outputs": [
    {
     "data": {
      "text/plain": [
       "array([[275, 202],\n",
       "       [131, 692]], dtype=int64)"
      ]
     },
     "execution_count": 3,
     "metadata": {},
     "output_type": "execute_result"
    }
   ],
   "source": [
    "# confusion matrix\n",
    "sk.metrics.confusion_matrix(y_test, lr.predict(X_test))"
   ]
  },
  {
   "cell_type": "code",
   "execution_count": 4,
   "metadata": {},
   "outputs": [
    {
     "data": {
      "image/png": "[encoded data removed]",
      "text/plain": [
       "<Figure size 720x576 with 1 Axes>"
      ]
     },
     "metadata": {
      "needs_background": "light"
     },
     "output_type": "display_data"
    }
   ],
   "source": [
    "# precision_recall curve\n",
    "%matplotlib inline\n",
    "plt.figure(figsize=(10, 8))\n",
    "pred = lr.predict_proba(X_test)[:, 1]\n",
    "precisions, recalls, thresholds = sk.metrics.precision_recall_curve(y_test, pred)\n",
    "plt.plot(thresholds, precisions[:len(thresholds)], label='precision')\n",
    "plt.plot(thresholds, recalls[:len(thresholds)], label='recall')\n",
    "plt.grid(True); plt.legend(); plt.show();"
   ]
  },
  {
   "cell_type": "markdown",
   "metadata": {},
   "source": [
    "## Boosting Algorithm\n",
    "### 앙상블 기법\n",
    "- voting, bagging, boosting, stacking 등\n",
    "- voting, bagging : 여러개의 분류가기 투표를 통해 최종 예측 결과를 결정하는 방식\n",
    "- voting : 각각 다른 분류기 사용\n",
    "---\n",
    "- bagging : 같은 분류기 사용 (ex) RandomForest\n",
    "    - Bootstrap AGGregatING\n",
    "    - 한번에 병렬적으로 결과를 얻음(parallel)\n",
    "- boosting\n",
    "    - 여러개의 약한 분류기가 순차적으로 학습을 하면서, 앞에서 학습한 분류기가 예측이 틀린 데이터에 대해 다음 분류기가 가중치를 인가해서 학습을 이어 진행하는 방식\n",
    "    - 예측 성능이 뛰어나 앙상블 학습을 주도\n",
    "        - 순차적으로 진행(sequential)\n",
    "\n",
    "    - gradient boost, XGBoost(eXtra), LightGBM 등\n",
    "    \n",
    "#### AdaBoost\n",
    "- 순차적으로 가중치를 부여해서 최종 결과를 얻음. \n",
    "- DecisionTree 기반 알고리즘\n",
    "- Steps\n",
    "    - 예측하여 +와 -의 경계를 설정\n",
    "    - 틀린 + 에 가중치를 인가하고 경계를 다시 결정\n",
    "    - 다시 놓친 - 에 가중치를 인가하고 경계를 다시 결정\n",
    "    - 앞서 결정한 경계들을 합침\n",
    "---\n",
    "#### 부스팅 기법\n",
    "\n",
    "- GBM(grdient boost machine):\n",
    "    - 가중치를 업데이트할 때 경사하강법을 사용, AdaBoost와 비슷\n",
    "    - 부스팅 알고리즘은 여러 개의 약한 학습기를 순차적으로 **학습-예측**하면서 잘못 예측한 데이터에 가중치를 부여해서 오류를 개선해가는 방식\n",
    "- XGBoost \n",
    "    - GBM에서 PC의 파워를 효율적으로 사용하기 위한 다양한 기법에 채택되어 빠른 속도와 효율을 가짐\n",
    "    - 트리기반의 앙상블 학습 중에 가장 각광받는 알고리즘\n",
    "    - GBM의 느린 속도를 다양한 규제를 통해 해결\n",
    "    - 병렬 학습이 가능하도록 설계\n",
    "    - 반복 수행시마다 내부적으로 학습데이터와 검증데이터를 교차검증\n",
    "    - 교차검증을 통해 최적화되면 반복을 중단하는 조기중단 기능이 있음\n",
    "    \n",
    "- LightGBM \n",
    "    - XGBoost보다 빠른 속도를 가짐\n",
    "    - XGBoost와 함께 부스팅 계열에서 가장 각광받는 알고리즘\n",
    "    - 적은 수의 데이터는 X (일반적으로 10000건 이상의 데이터가 필요하다고 함)\n",
    "    - GPU 버전 존재"
   ]
  },
  {
   "cell_type": "code",
   "execution_count": null,
   "metadata": {},
   "outputs": [],
   "source": []
  }
 ],
 "metadata": {
  "kernelspec": {
   "display_name": "Python 3",
   "language": "python",
   "name": "python3"
  },
  "language_info": {
   "codemirror_mode": {
    "name": "ipython",
    "version": 3
   },
   "file_extension": ".py",
   "mimetype": "text/x-python",
   "name": "python",
   "nbconvert_exporter": "python",
   "pygments_lexer": "ipython3",
   "version": "3.7.6"
  }
 },
 "nbformat": 4,
 "nbformat_minor": 4
}
