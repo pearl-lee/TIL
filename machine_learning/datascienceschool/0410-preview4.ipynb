{
 "cells": [
  {
   "cell_type": "markdown",
   "metadata": {},
   "source": [
    "## $☝️$ PCA(Principal Component Analysis)\n",
    "- 데이터 집합 내에 존재하는 각 데이터의 차이를 가장 잘 나타내주는 요소를 찾아내는 방법\n",
    "- 통계 데이터 분석(주성분 찾기), 데이터 압축(차원 감소), 노이즈 제거 등 다양한 분야에서 사용\n",
    "---\n",
    "#### 개념\n",
    "- 차원축소(dimensionality reduction)와 변수추출(feature extraction) 기법으로 널리쓰이고 있는 주성분 분석\n",
    "- 데이터의 분산을 최대한 보존하면서 서로 직교하는 새 기저(축)를 찾아, 고차원 공간의 표본들을 선형 연관성이 없는 저차원 공간으로 변환하는 기법\n",
    "- 변수추출(feature extraction)은 기존 변수를 조합해 새로운 변수를 만드는 기법 $cf)$ 변수선택(feature selection)과 구분할 것"
   ]
  },
  {
   "cell_type": "markdown",
   "metadata": {},
   "source": [
    "## ✌️ K Nearest Neighbor(KNN)\n",
    "- 새로운 데이터가 있을 때, 기존 데이터의 그룹 중 어떤 그룹에 속하는지를 분류하는 문제\n",
    "- k는 몇번째 가까운 데이터까지 볼 것인가를 정하는 수치\n",
    "- k 값에 따라 결과가 바뀜\n",
    "- 단위에 따라 결과가 바뀌므로 표준화 필요\n",
    "---\n",
    "#### 장단점\n",
    "- 실시간 예측을 위한 학습이 필요하지 않다\n",
    "- 그러므로 속도가 빨라진다\n",
    "- 고차원 데이터에는 적합하지 않다"
   ]
  },
  {
   "cell_type": "code",
   "execution_count": null,
   "metadata": {},
   "outputs": [],
   "source": []
  }
 ],
 "metadata": {
  "kernelspec": {
   "display_name": "Python 3",
   "language": "python",
   "name": "python3"
  },
  "language_info": {
   "codemirror_mode": {
    "name": "ipython",
    "version": 3
   },
   "file_extension": ".py",
   "mimetype": "text/x-python",
   "name": "python",
   "nbconvert_exporter": "python",
   "pygments_lexer": "ipython3",
   "version": "3.7.6"
  }
 },
 "nbformat": 4,
 "nbformat_minor": 4
}
