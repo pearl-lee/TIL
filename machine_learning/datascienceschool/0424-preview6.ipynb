{
 "cells": [
  {
   "cell_type": "markdown",
   "metadata": {},
   "source": [
    "### Recommendations(추천시스템)\n",
    "- 사용자가 특정한 아이템을 선호하는 경우, 그 아이템과 비슷한 아이템을 추천하는 방식\n",
    "\n",
    "#### 최근접 이웃 협업 필터링\n",
    "- 축적된 사용자 행동 데이터를 기반으로 사용자가 아직 평가하지 않은 아이템을 예측 평가\n",
    "- 사용자 기반 : 당신과 비슷한 고객들이 다음 상품도 구매했음\n",
    "- 아이템 기반 : 이 상품을 선택한 다른 고객들은 다음 상품도 구매했음\n",
    "- 일반적으로 사용자 기반보다는 아이템 기반 협업 필터링이 정확도가 높음\n",
    "    - 비슷한 영화를 좋아한다고 취향이 비슷하다고 판단하기 어렵거나\n",
    "    - 매우 유명한 영화는 취향과 관계없이 관람하는 경우가 많고\n",
    "    - 사용자들이 평점을 매기지 않는 경우가 많기 때문\n",
    "    \n",
    "#### 잠재요인 협업 필터링\n",
    "- 사용자-아이템 평점 행렬 데이터를 이용해서 \"잠재요인\"을 도출하는 것\n",
    "- 주요인과 아이템에 대한 잠재요인에 대해 행렬 분해를 하고 다시 행렬곱을 통해 아직 평점을 부여하지 않은 아이템에 대한 예측 평점을 생성하는 것\n",
    "\n",
    "----\n",
    "#### scikit-surprise 모듈\n",
    "- 추천 시스템 관련 모듈\n",
    "- 장점\n",
    "    - 다양한 추천 알고리즘 탑재\n",
    "    - sklearn과 API의 명칭과 속성이 아주 유사함\n",
    "\n",
    "- test() : 사용자-아이템 평점 데이터 세트 전체에 대해서 추천 수행\n",
    "- predict() : 개별 사용자와 개별 영화에 대한 추천 평점을 반환"
   ]
  },
  {
   "cell_type": "code",
   "execution_count": 1,
   "metadata": {},
   "outputs": [
    {
     "name": "stdout",
     "output_type": "stream",
     "text": [
      "Processing /Users/jinjulee/Library/Caches/pip/wheels/14/21/49/2712122e4f70026a9f8c7e0bb6b77fd1da5e84778ec27af6a7/scikit_surprise-1.1.0-cp37-cp37m-macosx_10_9_x86_64.whl\n",
      "Requirement already satisfied: numpy>=1.11.2 in /Users/jinjulee/anaconda3/lib/python3.7/site-packages (from scikit-surprise) (1.18.1)\n",
      "Requirement already satisfied: six>=1.10.0 in /Users/jinjulee/anaconda3/lib/python3.7/site-packages (from scikit-surprise) (1.14.0)\n",
      "Requirement already satisfied: scipy>=1.0.0 in /Users/jinjulee/anaconda3/lib/python3.7/site-packages (from scikit-surprise) (1.4.1)\n",
      "Requirement already satisfied: joblib>=0.11 in /Users/jinjulee/anaconda3/lib/python3.7/site-packages (from scikit-surprise) (0.14.1)\n",
      "Installing collected packages: scikit-surprise\n",
      "Successfully installed scikit-surprise-1.1.0\n"
     ]
    }
   ],
   "source": [
    "!pip install scikit-surprise"
   ]
  },
  {
   "cell_type": "code",
   "execution_count": 2,
   "metadata": {},
   "outputs": [],
   "source": [
    "import surprise"
   ]
  }
 ],
 "metadata": {
  "kernelspec": {
   "display_name": "Python 3",
   "language": "python",
   "name": "python3"
  },
  "language_info": {
   "codemirror_mode": {
    "name": "ipython",
    "version": 3
   },
   "file_extension": ".py",
   "mimetype": "text/x-python",
   "name": "python",
   "nbconvert_exporter": "python",
   "pygments_lexer": "ipython3",
   "version": "3.7.6"
  }
 },
 "nbformat": 4,
 "nbformat_minor": 4
}
