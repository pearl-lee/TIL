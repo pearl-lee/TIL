{
 "cells": [
  {
   "cell_type": "markdown",
   "metadata": {},
   "source": [
    "### precision\n",
    "- True라고 예측한 것 중에 실제 True의 비율(TP / TP + FP)\n",
    "- 모델 입장에서 정답이라고 맞춘 경우\n",
    "- 스팸메일 예측시 중요(스팸메일 아닌 메일을 스팸메일로 분류하면 안됨)\n",
    "- threshold를 높이면 precision이 높아짐\n",
    "\n",
    "### recall\n",
    "- 실제로 True인 것 중에 True라고 예측한 것의 비율\n",
    "- 데이터 입장에서 정답이라고 맞춘 경우\n",
    "- 참인 데이터의 개수를 맞게 해야함\n",
    "- 암환자 판정시 중요(암환자를 암환자가 아니라고 분류하면 안됨)\n",
    "- threshold를 낮추면 recall이 높아짐"
   ]
  },
  {
   "cell_type": "code",
   "execution_count": null,
   "metadata": {},
   "outputs": [],
   "source": []
  }
 ],
 "metadata": {
  "kernelspec": {
   "display_name": "Python 3",
   "language": "python",
   "name": "python3"
  },
  "language_info": {
   "codemirror_mode": {
    "name": "ipython",
    "version": 3
   },
   "file_extension": ".py",
   "mimetype": "text/x-python",
   "name": "python",
   "nbconvert_exporter": "python",
   "pygments_lexer": "ipython3",
   "version": "3.7.6"
  }
 },
 "nbformat": 4,
 "nbformat_minor": 4
}
