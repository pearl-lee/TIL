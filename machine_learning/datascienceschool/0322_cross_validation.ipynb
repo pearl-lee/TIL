{
 "cells": [
  {
   "cell_type": "markdown",
   "metadata": {},
   "source": [
    "### 교차검증\n",
    "- 과적합 : 모델이 학습데이터에 과도하게 최적화된 현상. 일반화된 데이터에서는 예측성능이 과하게 떨어지는 현상\n",
    "- 나에게 주어진 데이터에 적용한 모델의 성능을 정확히 표현하기 위해 유용하다\n",
    "---\n",
    "- holdout\n",
    "    - train / test 로 나누어 Accuracy 도출\n",
    "- k-fold cross validation \n",
    "    - train 데이터를 k 등분 -> 매번 서로 다른 데이터 조각을 test data로 계산\n",
    "    - k개의 Accuracy의 평균으로 Accuracy를 계산\n",
    "    - 검증이 끝난 후 test 데이터로 최종 평가\n",
    "- stratified k-fold cross validation\n",
    "    - 대상이 되는 클래스의 분포가 불균형한 경우"
   ]
  },
  {
   "cell_type": "markdown",
   "metadata": {},
   "source": [
    "#### 교차검증 구현하기"
   ]
  },
  {
   "cell_type": "code",
   "execution_count": 1,
   "metadata": {},
   "outputs": [
    {
     "name": "stdout",
     "output_type": "stream",
     "text": [
      "2\n",
      "KFold(n_splits=2, random_state=None, shuffle=False)\n",
      "--- idx\n",
      "[2 3] [0 1]\n",
      "--- train data\n",
      "[[1 2]\n",
      " [3 4]]\n",
      "--- val data\n",
      "[[1 2]\n",
      " [3 4]]\n",
      "--- idx\n",
      "[0 1] [2 3]\n",
      "--- train data\n",
      "[[1 2]\n",
      " [3 4]]\n",
      "--- val data\n",
      "[[1 2]\n",
      " [3 4]]\n"
     ]
    }
   ],
   "source": [
    "from sklearn.model_selection import KFold\n",
    "\n",
    "x = np.array([[1, 2], [3, 4], [1, 2], [3, 4]])\n",
    "y = np.array([1, 2, 3, 4])\n",
    "kf = KFold(n_splits=2)\n",
    "\n",
    "print(kf.get_n_splits(x))\n",
    "print(kf)\n",
    "for train_idx, test_idx, in kf.split(x):\n",
    "    print('--- idx')\n",
    "    print(train_idx, test_idx)\n",
    "    print('--- train data')\n",
    "    print (x[train_idx])\n",
    "    print('--- val data')\n",
    "    print(x[test_idx])"
   ]
  },
  {
   "cell_type": "markdown",
   "metadata": {},
   "source": [
    "와인데이터"
   ]
  },
  {
   "cell_type": "code",
   "execution_count": 2,
   "metadata": {},
   "outputs": [],
   "source": [
    "red_url = 'https://raw.githubusercontent.com/PinkWink/ML_tutorial/master/dataset/winequality-red.csv'\n",
    "white_url = 'https://raw.githubusercontent.com/PinkWink/ML_tutorial/master/dataset/winequality-white.csv'\n",
    "\n",
    "red_wine = pd.read_csv(red_url, sep=';')\n",
    "white_wine = pd.read_csv(white_url, sep=';')\n",
    "\n",
    "red_wine['color'] = 1.\n",
    "white_wine['color']= 0.\n",
    "\n",
    "wine = pd.concat([red_wine, white_wine])"
   ]
  },
  {
   "cell_type": "code",
   "execution_count": 3,
   "metadata": {},
   "outputs": [],
   "source": [
    "wine['taste'] = [1. if grade > 5 else 0. for grade in wine['quality']]\n",
    "\n",
    "x = wine.drop(['taste', 'quality'], axis=1)\n",
    "y = wine['taste']"
   ]
  },
  {
   "cell_type": "code",
   "execution_count": 4,
   "metadata": {},
   "outputs": [
    {
     "name": "stdout",
     "output_type": "stream",
     "text": [
      "Train Acc :  0.7294593034442948\n",
      "Test Acc :  0.7161538461538461\n"
     ]
    }
   ],
   "source": [
    "from sklearn.model_selection import train_test_split\n",
    "from sklearn.tree import DecisionTreeClassifier\n",
    "from sklearn.metrics import accuracy_score\n",
    "\n",
    "x_train, x_test, y_train, y_test = train_test_split(x, y, test_size=0.2, random_state=13)\n",
    "\n",
    "wine_tree = DecisionTreeClassifier(max_depth=2, random_state=13)\n",
    "wine_tree.fit(x_train, y_train)\n",
    "\n",
    "y_pred_tr = wine_tree.predict(x_train)\n",
    "y_pred_test = wine_tree.predict(x_test)\n",
    "\n",
    "print('Train Acc : ', accuracy_score(y_train, y_pred_tr))\n",
    "print('Test Acc : ', accuracy_score(y_test, y_pred_test))"
   ]
  },
  {
   "cell_type": "markdown",
   "metadata": {},
   "source": [
    "- k-fold"
   ]
  },
  {
   "cell_type": "code",
   "execution_count": 5,
   "metadata": {},
   "outputs": [],
   "source": [
    "from sklearn.model_selection import KFold\n",
    "\n",
    "kfold = KFold(n_splits=5)\n",
    "wine_tree_cv = DecisionTreeClassifier(max_depth=2, random_state=13)"
   ]
  },
  {
   "cell_type": "markdown",
   "metadata": {},
   "source": [
    "- k-fold는 index를 반환한다"
   ]
  },
  {
   "cell_type": "code",
   "execution_count": 6,
   "metadata": {},
   "outputs": [
    {
     "name": "stdout",
     "output_type": "stream",
     "text": [
      "5197 1300\n",
      "5197 1300\n",
      "5198 1299\n",
      "5198 1299\n",
      "5198 1299\n"
     ]
    }
   ],
   "source": [
    "for train_idx, test_idx in kfold.split(x):\n",
    "    print(len(train_idx), len(test_idx))"
   ]
  },
  {
   "cell_type": "markdown",
   "metadata": {},
   "source": [
    "- 각각의 fold에 대한 학습 후 accuracy"
   ]
  },
  {
   "cell_type": "code",
   "execution_count": 7,
   "metadata": {},
   "outputs": [
    {
     "data": {
      "text/plain": [
       "[0.6007692307692307,\n",
       " 0.6884615384615385,\n",
       " 0.7090069284064665,\n",
       " 0.7628945342571208,\n",
       " 0.7867590454195535]"
      ]
     },
     "execution_count": 7,
     "metadata": {},
     "output_type": "execute_result"
    }
   ],
   "source": [
    "cv_accuracy=[]\n",
    "\n",
    "for train_idx, test_idx in kfold.split(x):\n",
    "    x_train, x_test = x.iloc[train_idx], x.iloc[test_idx]\n",
    "    y_train, y_test = y.iloc[train_idx], y.iloc[test_idx]\n",
    "    wine_tree_cv.fit(x_train, y_train)\n",
    "    pred = wine_tree_cv.predict(x_test)\n",
    "    cv_accuracy.append(accuracy_score(y_test, pred))\n",
    "\n",
    "cv_accuracy"
   ]
  },
  {
   "cell_type": "markdown",
   "metadata": {},
   "source": [
    "- 각 accuracy의 분산이 크지 않다면 평균을 대표값으로 한다"
   ]
  },
  {
   "cell_type": "code",
   "execution_count": 8,
   "metadata": {},
   "outputs": [
    {
     "data": {
      "text/plain": [
       "0.709578255462782"
      ]
     },
     "execution_count": 8,
     "metadata": {},
     "output_type": "execute_result"
    }
   ],
   "source": [
    "np.mean(cv_accuracy)"
   ]
  },
  {
   "cell_type": "markdown",
   "metadata": {},
   "source": [
    "#### StratifiedKFold"
   ]
  },
  {
   "cell_type": "code",
   "execution_count": 9,
   "metadata": {},
   "outputs": [
    {
     "data": {
      "text/plain": [
       "[0.5523076923076923,\n",
       " 0.6884615384615385,\n",
       " 0.7146153846153847,\n",
       " 0.7321016166281755,\n",
       " 0.7565485362095532]"
      ]
     },
     "execution_count": 9,
     "metadata": {},
     "output_type": "execute_result"
    }
   ],
   "source": [
    "from sklearn.model_selection import StratifiedKFold\n",
    "\n",
    "skfold = StratifiedKFold(n_splits=5)\n",
    "wine_tree_cv = DecisionTreeClassifier(max_depth=2, random_state=13)\n",
    "\n",
    "cv_accuracy = []\n",
    "\n",
    "for train_idx, test_idx in skfold.split(x, y):\n",
    "    x_train, x_test = x.iloc[train_idx], x.iloc[test_idx]\n",
    "    y_train, y_test = y.iloc[train_idx], y.iloc[test_idx]\n",
    "    wine_tree_cv.fit(x_train, y_train)\n",
    "    pred = wine_tree_cv.predict(x_test)\n",
    "    cv_accuracy.append(accuracy_score(y_test, pred))\n",
    "    \n",
    "cv_accuracy    "
   ]
  },
  {
   "cell_type": "markdown",
   "metadata": {},
   "source": [
    "- accuracy의 평균이 더 나쁘다 -> 이럴 때 어떻게 해야할까?"
   ]
  },
  {
   "cell_type": "code",
   "execution_count": 10,
   "metadata": {},
   "outputs": [
    {
     "data": {
      "text/plain": [
       "0.6888069536444689"
      ]
     },
     "execution_count": 10,
     "metadata": {},
     "output_type": "execute_result"
    }
   ],
   "source": [
    "np.mean(cv_accuracy)"
   ]
  },
  {
   "cell_type": "markdown",
   "metadata": {},
   "source": [
    "- cross validation을 보다 간편히"
   ]
  },
  {
   "cell_type": "code",
   "execution_count": 11,
   "metadata": {},
   "outputs": [
    {
     "data": {
      "text/plain": [
       "array([0.55230769, 0.68846154, 0.71461538, 0.73210162, 0.75654854])"
      ]
     },
     "execution_count": 11,
     "metadata": {},
     "output_type": "execute_result"
    }
   ],
   "source": [
    "from sklearn.model_selection import cross_val_score\n",
    "\n",
    "skfold = StratifiedKFold(n_splits=5)\n",
    "wine_tree_cv = DecisionTreeClassifier(max_depth=2, random_state=13)\n",
    "\n",
    "cross_val_score(wine_tree_cv, x, y, scoring=None, cv=skfold)"
   ]
  },
  {
   "cell_type": "markdown",
   "metadata": {},
   "source": [
    "- depth가 높다고 무조건 accuracy가 좋아지는 것도 아니다"
   ]
  },
  {
   "cell_type": "code",
   "execution_count": 12,
   "metadata": {},
   "outputs": [
    {
     "data": {
      "text/plain": [
       "array([0.50076923, 0.62615385, 0.69769231, 0.7582756 , 0.74884438])"
      ]
     },
     "execution_count": 12,
     "metadata": {},
     "output_type": "execute_result"
    }
   ],
   "source": [
    "wine_tree_cv = DecisionTreeClassifier(max_depth=5, random_state=13)\n",
    "\n",
    "cross_val_score(wine_tree_cv, x, y, scoring=None, cv=skfold)"
   ]
  },
  {
   "cell_type": "markdown",
   "metadata": {},
   "source": [
    "- train score와 함께 보고싶다면"
   ]
  },
  {
   "cell_type": "code",
   "execution_count": 13,
   "metadata": {},
   "outputs": [
    {
     "data": {
      "text/plain": [
       "{'fit_time': array([0.01196671, 0.01196909, 0.01296544, 0.0129745 , 0.01296544]),\n",
       " 'score_time': array([0.00099683, 0.00099635, 0.00099683, 0.00100303, 0.00101829]),\n",
       " 'test_score': array([0.50076923, 0.62615385, 0.69769231, 0.7582756 , 0.74884438]),\n",
       " 'train_score': array([0.78795459, 0.78045026, 0.77563979, 0.76356291, 0.76283901])}"
      ]
     },
     "execution_count": 13,
     "metadata": {},
     "output_type": "execute_result"
    }
   ],
   "source": [
    "from sklearn.model_selection import cross_validate\n",
    "cross_validate(wine_tree_cv, x, y, scoring=None, cv=skfold, return_train_score=True)"
   ]
  },
  {
   "cell_type": "markdown",
   "metadata": {},
   "source": [
    "-> 과적합 발생"
   ]
  },
  {
   "cell_type": "code",
   "execution_count": null,
   "metadata": {},
   "outputs": [],
   "source": []
  }
 ],
 "metadata": {
  "kernelspec": {
   "display_name": "Python 3",
   "language": "python",
   "name": "python3"
  },
  "language_info": {
   "codemirror_mode": {
    "name": "ipython",
    "version": 3
   },
   "file_extension": ".py",
   "mimetype": "text/x-python",
   "name": "python",
   "nbconvert_exporter": "python",
   "pygments_lexer": "ipython3",
   "version": "3.7.4"
  }
 },
 "nbformat": 4,
 "nbformat_minor": 2
}
