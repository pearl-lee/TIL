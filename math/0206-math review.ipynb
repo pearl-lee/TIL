{
 "cells": [
  {
   "cell_type": "markdown",
   "metadata": {},
   "source": [
    "* 결합확률 모형\n",
    "\n",
    "`JointProbabiltiyDistribution(variables, cardinality, values)`"
   ]
  },
  {
   "cell_type": "code",
   "execution_count": 2,
   "metadata": {},
   "outputs": [
    {
     "name": "stdout",
     "output_type": "stream",
     "text": [
      "+-----+--------+\n",
      "| X   |   P(X) |\n",
      "+=====+========+\n",
      "| X_0 | 0.6000 |\n",
      "+-----+--------+\n",
      "| X_1 | 0.4000 |\n",
      "+-----+--------+\n"
     ]
    }
   ],
   "source": [
    "from pgmpy.factors.discrete import JointProbabilityDistribution as JPD\n",
    "\n",
    "px = JPD(['X'], [2], np.array([12, 8]) / 20)\n",
    "print(px)"
   ]
  },
  {
   "cell_type": "code",
   "execution_count": 3,
   "metadata": {},
   "outputs": [
    {
     "name": "stdout",
     "output_type": "stream",
     "text": [
      "+-----+--------+\n",
      "| Y   |   P(Y) |\n",
      "+=====+========+\n",
      "| Y_0 | 0.5000 |\n",
      "+-----+--------+\n",
      "| Y_1 | 0.5000 |\n",
      "+-----+--------+\n"
     ]
    }
   ],
   "source": [
    "py = JPD(['Y'], [2], np.array([10, 10])/20)\n",
    "print(py)"
   ]
  },
  {
   "cell_type": "code",
   "execution_count": 4,
   "metadata": {},
   "outputs": [
    {
     "name": "stdout",
     "output_type": "stream",
     "text": [
      "+-----+-----+----------+\n",
      "| X   | Y   |   P(X,Y) |\n",
      "+=====+=====+==========+\n",
      "| X_0 | Y_0 |   0.1500 |\n",
      "+-----+-----+----------+\n",
      "| X_0 | Y_1 |   0.4500 |\n",
      "+-----+-----+----------+\n",
      "| X_1 | Y_0 |   0.3500 |\n",
      "+-----+-----+----------+\n",
      "| X_1 | Y_1 |   0.0500 |\n",
      "+-----+-----+----------+\n"
     ]
    }
   ],
   "source": [
    "pxy = JPD(['X', 'Y'], [2, 2], np.array([3, 9, 7, 1])/20)\n",
    "print(pxy)"
   ]
  },
  {
   "cell_type": "code",
   "execution_count": 5,
   "metadata": {},
   "outputs": [
    {
     "name": "stdout",
     "output_type": "stream",
     "text": [
      "+-----+-----+----------+\n",
      "| X   | Y   |   P(X,Y) |\n",
      "+=====+=====+==========+\n",
      "| X_0 | Y_0 |   0.3000 |\n",
      "+-----+-----+----------+\n",
      "| X_0 | Y_1 |   0.3000 |\n",
      "+-----+-----+----------+\n",
      "| X_1 | Y_0 |   0.2000 |\n",
      "+-----+-----+----------+\n",
      "| X_1 | Y_1 |   0.2000 |\n",
      "+-----+-----+----------+\n"
     ]
    }
   ],
   "source": [
    "pxy2 = JPD(['X', 'Y'], [2, 2], np.array([6, 6, 4, 4])/20)\n",
    "print(pxy2)"
   ]
  },
  {
   "cell_type": "markdown",
   "metadata": {},
   "source": [
    "__주변확률 계산__\n",
    "\n",
    "- `marginal_distribution(values, inplace=False)` \n",
    "    - values: 주변확률을 구할 확률변수 이름 문자열 리스트\n",
    "- `marginalize(values, inplace=False)`\n",
    "    - values: 주변확률을 구하기 위해 없앨 확률변수 이름 문자열 리스트\n",
    "    \n",
    "__조건부확률__\n",
    "\n",
    "- `conditional_distribution(values, inplace=False)`\n",
    "    - values: 주변확률을 구할 확률변수 이름 문자열과 값을 묶은 튜플의 리스트[()]"
   ]
  },
  {
   "cell_type": "code",
   "execution_count": 8,
   "metadata": {},
   "outputs": [
    {
     "name": "stdout",
     "output_type": "stream",
     "text": [
      "+-----+--------+\n",
      "| X   |   P(X) |\n",
      "+=====+========+\n",
      "| X_0 | 0.6000 |\n",
      "+-----+--------+\n",
      "| X_1 | 0.4000 |\n",
      "+-----+--------+\n"
     ]
    }
   ],
   "source": [
    "# 경우1\n",
    "pmx = pxy.marginal_distribution(['X'], inplace=False)\n",
    "print(pmx)"
   ]
  },
  {
   "cell_type": "code",
   "execution_count": 14,
   "metadata": {},
   "outputs": [
    {
     "name": "stdout",
     "output_type": "stream",
     "text": [
      "+-----+--------+\n",
      "| Y   |   P(Y) |\n",
      "+=====+========+\n",
      "| Y_0 | 0.5000 |\n",
      "+-----+--------+\n",
      "| Y_1 | 0.5000 |\n",
      "+-----+--------+\n"
     ]
    }
   ],
   "source": [
    "pmy = pxy.marginalize(['X'], inplace=False)\n",
    "print(pmy)"
   ]
  },
  {
   "cell_type": "code",
   "execution_count": 34,
   "metadata": {},
   "outputs": [
    {
     "name": "stdout",
     "output_type": "stream",
     "text": [
      "+-----+--------+\n",
      "| Y   |   P(Y) |\n",
      "+=====+========+\n",
      "| Y_0 | 0.2500 |\n",
      "+-----+--------+\n",
      "| Y_1 | 0.7500 |\n",
      "+-----+--------+\n"
     ]
    }
   ],
   "source": [
    "# 사건 A에 대한 조건부확률\n",
    "py_on_x0 = pxy.conditional_distribution([('X', 0)], inplace=False)\n",
    "print(py_on_x0)"
   ]
  },
  {
   "cell_type": "code",
   "execution_count": 17,
   "metadata": {},
   "outputs": [
    {
     "name": "stdout",
     "output_type": "stream",
     "text": [
      "+-----+--------+\n",
      "| Y   |   P(Y) |\n",
      "+=====+========+\n",
      "| Y_0 | 0.8750 |\n",
      "+-----+--------+\n",
      "| Y_1 | 0.1250 |\n",
      "+-----+--------+\n"
     ]
    }
   ],
   "source": [
    "py_on_x1 = pxy.conditional_distribution([('X', 1)], inplace=False)\n",
    "print(py_on_x1)"
   ]
  },
  {
   "cell_type": "code",
   "execution_count": 19,
   "metadata": {},
   "outputs": [
    {
     "name": "stdout",
     "output_type": "stream",
     "text": [
      "+-----+--------+\n",
      "| X   |   P(X) |\n",
      "+=====+========+\n",
      "| X_0 | 0.3000 |\n",
      "+-----+--------+\n",
      "| X_1 | 0.7000 |\n",
      "+-----+--------+\n"
     ]
    }
   ],
   "source": [
    "px_on_y0 = pxy.conditional_distribution([('Y', 0)], inplace=False)\n",
    "print(px_on_y0)"
   ]
  },
  {
   "cell_type": "code",
   "execution_count": 23,
   "metadata": {},
   "outputs": [
    {
     "name": "stdout",
     "output_type": "stream",
     "text": [
      "+-----+--------+\n",
      "| X   |   P(X) |\n",
      "+=====+========+\n",
      "| X_0 | 0.9000 |\n",
      "+-----+--------+\n",
      "| X_1 | 0.1000 |\n",
      "+-----+--------+\n"
     ]
    }
   ],
   "source": [
    "px_on_y1 = pxy.conditional_distribution([('Y', 1)], inplace=False)\n",
    "print(px_on_y1)"
   ]
  },
  {
   "cell_type": "code",
   "execution_count": 24,
   "metadata": {},
   "outputs": [
    {
     "data": {
      "text/plain": [
       "False"
      ]
     },
     "execution_count": 24,
     "metadata": {},
     "output_type": "execute_result"
    }
   ],
   "source": [
    "pxy.check_independence(['X'], ['Y'])\n",
    "# False: 두 확률변수 X와 Y는 독립이 아님"
   ]
  },
  {
   "cell_type": "code",
   "execution_count": 25,
   "metadata": {},
   "outputs": [
    {
     "name": "stdout",
     "output_type": "stream",
     "text": [
      "+-----+-----+----------+\n",
      "| X   | Y   |   P(X,Y) |\n",
      "+=====+=====+==========+\n",
      "| X_0 | Y_0 |   0.3000 |\n",
      "+-----+-----+----------+\n",
      "| X_0 | Y_1 |   0.3000 |\n",
      "+-----+-----+----------+\n",
      "| X_1 | Y_0 |   0.2000 |\n",
      "+-----+-----+----------+\n",
      "| X_1 | Y_1 |   0.2000 |\n",
      "+-----+-----+----------+\n",
      "\n",
      " +-----+-----+----------+\n",
      "| X   | Y   |   P(X,Y) |\n",
      "+=====+=====+==========+\n",
      "| X_0 | Y_0 |   0.1500 |\n",
      "+-----+-----+----------+\n",
      "| X_0 | Y_1 |   0.4500 |\n",
      "+-----+-----+----------+\n",
      "| X_1 | Y_0 |   0.3500 |\n",
      "+-----+-----+----------+\n",
      "| X_1 | Y_1 |   0.0500 |\n",
      "+-----+-----+----------+\n"
     ]
    }
   ],
   "source": [
    "print(px*py) \n",
    "# 두 객체가 독립이라는 가정 하에 결합확률을 구함. \n",
    "print('\\n', pxy)"
   ]
  },
  {
   "cell_type": "markdown",
   "metadata": {},
   "source": [
    "#### 연습문제 6.5.8"
   ]
  },
  {
   "cell_type": "code",
   "execution_count": 28,
   "metadata": {},
   "outputs": [
    {
     "name": "stdout",
     "output_type": "stream",
     "text": [
      "+-----+-----+----------+\n",
      "| X   | Y   |   P(X,Y) |\n",
      "+=====+=====+==========+\n",
      "| X_0 | Y_0 |   0.3000 |\n",
      "+-----+-----+----------+\n",
      "| X_0 | Y_1 |   0.3000 |\n",
      "+-----+-----+----------+\n",
      "| X_1 | Y_0 |   0.2000 |\n",
      "+-----+-----+----------+\n",
      "| X_1 | Y_1 |   0.2000 |\n",
      "+-----+-----+----------+\n"
     ]
    }
   ],
   "source": [
    "# 경우 2\n",
    "print(pxy2) 결합확률"
   ]
  },
  {
   "cell_type": "code",
   "execution_count": 29,
   "metadata": {},
   "outputs": [
    {
     "name": "stdout",
     "output_type": "stream",
     "text": [
      "+-----+--------+\n",
      "| X   |   P(X) |\n",
      "+=====+========+\n",
      "| X_0 | 0.6000 |\n",
      "+-----+--------+\n",
      "| X_1 | 0.4000 |\n",
      "+-----+--------+\n"
     ]
    }
   ],
   "source": [
    "px2 = JPD(['X'], [2], np.array([12, 8])/20)\n",
    "print(px2)\n",
    "# 성별"
   ]
  },
  {
   "cell_type": "code",
   "execution_count": 30,
   "metadata": {},
   "outputs": [
    {
     "name": "stdout",
     "output_type": "stream",
     "text": [
      "+-----+--------+\n",
      "| Y   |   P(Y) |\n",
      "+=====+========+\n",
      "| Y_0 | 0.5000 |\n",
      "+-----+--------+\n",
      "| Y_1 | 0.5000 |\n",
      "+-----+--------+\n"
     ]
    }
   ],
   "source": [
    "py2 = JPD(['Y'], [2], np.array([10, 10])/20)\n",
    "print(py2)\n",
    "# 머리길이"
   ]
  },
  {
   "cell_type": "code",
   "execution_count": 31,
   "metadata": {},
   "outputs": [
    {
     "name": "stdout",
     "output_type": "stream",
     "text": [
      "+-----+--------+\n",
      "| X   |   P(X) |\n",
      "+=====+========+\n",
      "| X_0 | 0.6000 |\n",
      "+-----+--------+\n",
      "| X_1 | 0.4000 |\n",
      "+-----+--------+\n"
     ]
    }
   ],
   "source": [
    "pmx2 = pxy2.marginalize(['Y'], inplace=False)\n",
    "print(pmx2)"
   ]
  },
  {
   "cell_type": "code",
   "execution_count": 32,
   "metadata": {},
   "outputs": [
    {
     "name": "stdout",
     "output_type": "stream",
     "text": [
      "+-----+--------+\n",
      "| Y   |   P(Y) |\n",
      "+=====+========+\n",
      "| Y_0 | 0.5000 |\n",
      "+-----+--------+\n",
      "| Y_1 | 0.5000 |\n",
      "+-----+--------+\n"
     ]
    }
   ],
   "source": [
    "pmy2 = pxy2.marginal_distribution(['Y'], inplace=False)\n",
    "print(pmy2)"
   ]
  },
  {
   "cell_type": "code",
   "execution_count": 35,
   "metadata": {},
   "outputs": [
    {
     "name": "stdout",
     "output_type": "stream",
     "text": [
      "+-----+--------+\n",
      "| Y   |   P(Y) |\n",
      "+=====+========+\n",
      "| Y_0 | 0.5000 |\n",
      "+-----+--------+\n",
      "| Y_1 | 0.5000 |\n",
      "+-----+--------+\n"
     ]
    }
   ],
   "source": [
    "py2_on_x0 = pxy2.conditional_distribution([('X', 0)], inplace=False)\n",
    "print(py2_on_x0)"
   ]
  },
  {
   "cell_type": "code",
   "execution_count": 36,
   "metadata": {},
   "outputs": [
    {
     "name": "stdout",
     "output_type": "stream",
     "text": [
      "+-----+--------+\n",
      "| Y   |   P(Y) |\n",
      "+=====+========+\n",
      "| Y_0 | 0.5000 |\n",
      "+-----+--------+\n",
      "| Y_1 | 0.5000 |\n",
      "+-----+--------+\n"
     ]
    }
   ],
   "source": [
    "py2_on_x1 = pxy2.conditional_distribution([('X', 1)], inplace=False)\n",
    "print(py2_on_x1)"
   ]
  },
  {
   "cell_type": "code",
   "execution_count": 37,
   "metadata": {},
   "outputs": [
    {
     "name": "stdout",
     "output_type": "stream",
     "text": [
      "+-----+--------+\n",
      "| X   |   P(X) |\n",
      "+=====+========+\n",
      "| X_0 | 0.6000 |\n",
      "+-----+--------+\n",
      "| X_1 | 0.4000 |\n",
      "+-----+--------+\n"
     ]
    }
   ],
   "source": [
    "px2_on_y0 = pxy2.conditional_distribution([('Y', 0)], inplace=False)\n",
    "print(px2_on_y0)"
   ]
  },
  {
   "cell_type": "code",
   "execution_count": 38,
   "metadata": {},
   "outputs": [
    {
     "name": "stdout",
     "output_type": "stream",
     "text": [
      "+-----+--------+\n",
      "| X   |   P(X) |\n",
      "+=====+========+\n",
      "| X_0 | 0.6000 |\n",
      "+-----+--------+\n",
      "| X_1 | 0.4000 |\n",
      "+-----+--------+\n"
     ]
    }
   ],
   "source": [
    "px2_on_y1 = pxy2.conditional_distribution([('Y', 1)], inplace=False)\n",
    "print(px2_on_y1)"
   ]
  },
  {
   "cell_type": "code",
   "execution_count": 39,
   "metadata": {},
   "outputs": [
    {
     "data": {
      "text/plain": [
       "True"
      ]
     },
     "execution_count": 39,
     "metadata": {},
     "output_type": "execute_result"
    }
   ],
   "source": [
    "pxy2.check_independence(['X'], ['Y'])"
   ]
  },
  {
   "cell_type": "code",
   "execution_count": 40,
   "metadata": {},
   "outputs": [
    {
     "name": "stdout",
     "output_type": "stream",
     "text": [
      "+-----+-----+----------+\n",
      "| X   | Y   |   P(X,Y) |\n",
      "+=====+=====+==========+\n",
      "| X_0 | Y_0 |   0.3000 |\n",
      "+-----+-----+----------+\n",
      "| X_0 | Y_1 |   0.3000 |\n",
      "+-----+-----+----------+\n",
      "| X_1 | Y_0 |   0.2000 |\n",
      "+-----+-----+----------+\n",
      "| X_1 | Y_1 |   0.2000 |\n",
      "+-----+-----+----------+\n",
      "\n",
      " +-----+-----+----------+\n",
      "| X   | Y   |   P(X,Y) |\n",
      "+=====+=====+==========+\n",
      "| X_0 | Y_0 |   0.3000 |\n",
      "+-----+-----+----------+\n",
      "| X_0 | Y_1 |   0.3000 |\n",
      "+-----+-----+----------+\n",
      "| X_1 | Y_0 |   0.2000 |\n",
      "+-----+-----+----------+\n",
      "| X_1 | Y_1 |   0.2000 |\n",
      "+-----+-----+----------+\n"
     ]
    }
   ],
   "source": [
    "print(px2 * py2)\n",
    "print('\\n', pxy2)"
   ]
  },
  {
   "cell_type": "markdown",
   "metadata": {},
   "source": [
    "**베이즈정리**\n",
    "\n",
    "* 조건부확률 구현\n",
    "\n",
    "`TaubularCPD(variable, variable_card, value, evidence=None, evidence_card=None)`"
   ]
  },
  {
   "cell_type": "code",
   "execution_count": 41,
   "metadata": {},
   "outputs": [
    {
     "name": "stdout",
     "output_type": "stream",
     "text": [
      "+-----+-------+\n",
      "| X_0 | 0.998 |\n",
      "+-----+-------+\n",
      "| X_1 | 0.002 |\n",
      "+-----+-------+\n"
     ]
    }
   ],
   "source": [
    "from pgmpy.factors.discrete import TabularCPD\n",
    "\n",
    "# P(D; X=1)와 P(X=0)\n",
    "cpd_X = TabularCPD('X', 2, [[1 - 0.002, 0.002]])\n",
    "print(cpd_X)"
   ]
  },
  {
   "cell_type": "code",
   "execution_count": 43,
   "metadata": {},
   "outputs": [
    {
     "name": "stdout",
     "output_type": "stream",
     "text": [
      "+-----+------+------+\n",
      "| X   | X_0  | X_1  |\n",
      "+-----+------+------+\n",
      "| Y_0 | 0.95 | 0.01 |\n",
      "+-----+------+------+\n",
      "| Y_1 | 0.05 | 0.99 |\n",
      "+-----+------+------+\n"
     ]
    }
   ],
   "source": [
    "cpd_Y_on_X = TabularCPD('Y', 2, np.array([[0.95, 0.01], [0.05, 0.99]]), evidence=['X'], evidence_card=[2])\n",
    "print(cpd_Y_on_X)"
   ]
  },
  {
   "cell_type": "code",
   "execution_count": 42,
   "metadata": {},
   "outputs": [
    {
     "data": {
      "text/plain": [
       "array([[0.95, 0.01],\n",
       "       [0.05, 0.99]])"
      ]
     },
     "execution_count": 42,
     "metadata": {},
     "output_type": "execute_result"
    }
   ],
   "source": [
    "np.array([[0.95, 0.01], [0.05, 0.99]])"
   ]
  },
  {
   "cell_type": "markdown",
   "metadata": {},
   "source": [
    "* 확률변수가 어떻게 결합되어 있는지\n",
    "\n",
    "`BayesianModel(variables)`\n",
    "- add_cpds(): 조건부확률 추가\n",
    "- check_model(): 모형이 정상적인지 확인\n",
    "\n",
    "\n",
    "* `VariableElimination` 클래스로 변수제거법을 사용한 추정 객체를 만들고, \n",
    "이 객체의 `query(variables, evidences)`메서드를 사용하여 사후확률 계산"
   ]
  },
  {
   "cell_type": "code",
   "execution_count": 46,
   "metadata": {},
   "outputs": [
    {
     "data": {
      "text/plain": [
       "True"
      ]
     },
     "execution_count": 46,
     "metadata": {},
     "output_type": "execute_result"
    }
   ],
   "source": [
    "from pgmpy.models import BayesianModel\n",
    "\n",
    "model = BayesianModel([('X', 'Y')])\n",
    "model.add_cpds(cpd_X, cpd_Y_on_X)\n",
    "model.check_model()"
   ]
  },
  {
   "cell_type": "code",
   "execution_count": 48,
   "metadata": {},
   "outputs": [
    {
     "name": "stdout",
     "output_type": "stream",
     "text": [
      "+-----+----------+\n",
      "| X   |   phi(X) |\n",
      "+=====+==========+\n",
      "| X_0 |   0.9618 |\n",
      "+-----+----------+\n",
      "| X_1 |   0.0382 |\n",
      "+-----+----------+\n"
     ]
    }
   ],
   "source": [
    "from pgmpy.inference import VariableElimination\n",
    "\n",
    "inference = VariableElimination(model)\n",
    "posterior = inference.query(['X'], evidence={'Y':1})\n",
    "print(posterior['X'])"
   ]
  }
 ],
 "metadata": {
  "kernelspec": {
   "display_name": "Python 3",
   "language": "python",
   "name": "python3"
  },
  "language_info": {
   "codemirror_mode": {
    "name": "ipython",
    "version": 3
   },
   "file_extension": ".py",
   "mimetype": "text/x-python",
   "name": "python",
   "nbconvert_exporter": "python",
   "pygments_lexer": "ipython3",
   "version": "3.7.4"
  }
 },
 "nbformat": 4,
 "nbformat_minor": 2
}
