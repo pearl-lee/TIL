{
 "cells": [
  {
   "cell_type": "markdown",
   "metadata": {},
   "source": [
    "### pgmpy패키지"
   ]
  },
  {
   "cell_type": "markdown",
   "metadata": {},
   "source": [
    "#### 이산확률모형 구현"
   ]
  },
  {
   "cell_type": "code",
   "execution_count": 12,
   "metadata": {},
   "outputs": [
    {
     "name": "stdout",
     "output_type": "stream",
     "text": [
      "+-----+--------+\n",
      "| X   |   P(X) |\n",
      "+=====+========+\n",
      "| X_0 | 0.6000 |\n",
      "+-----+--------+\n",
      "| X_1 | 0.4000 |\n",
      "+-----+--------+\n"
     ]
    }
   ],
   "source": [
    "from pgmpy.factors.discrete import JointProbabilityDistribution as JPD\n",
    "# 확률변수 X의 확률\n",
    "px = JPD(['X'], [2], np.array([12, 8]) / 20)\n",
    "print(px)"
   ]
  },
  {
   "cell_type": "code",
   "execution_count": 13,
   "metadata": {},
   "outputs": [
    {
     "name": "stdout",
     "output_type": "stream",
     "text": [
      "+-----+--------+\n",
      "| Y   |   P(Y) |\n",
      "+=====+========+\n",
      "| Y_0 | 0.5000 |\n",
      "+-----+--------+\n",
      "| Y_1 | 0.5000 |\n",
      "+-----+--------+\n"
     ]
    }
   ],
   "source": [
    "# 확률변수 Y의 확률\n",
    "py = JPD(['Y'], [2], np.array([10, 10]) / 20)\n",
    "print(py)"
   ]
  },
  {
   "cell_type": "code",
   "execution_count": 18,
   "metadata": {},
   "outputs": [
    {
     "name": "stdout",
     "output_type": "stream",
     "text": [
      "+-----+-----+----------+\n",
      "| X   | Y   |   P(X,Y) |\n",
      "+=====+=====+==========+\n",
      "| X_0 | Y_0 |   0.1500 |\n",
      "+-----+-----+----------+\n",
      "| X_0 | Y_1 |   0.4500 |\n",
      "+-----+-----+----------+\n",
      "| X_1 | Y_0 |   0.3500 |\n",
      "+-----+-----+----------+\n",
      "| X_1 | Y_1 |   0.0500 |\n",
      "+-----+-----+----------+\n"
     ]
    }
   ],
   "source": [
    "# X, Y의 결합확률\n",
    "pxy = JPD(['X', 'Y'], [2, 2], np.array([3, 9, 7, 1]) / 20)\n",
    "print(pxy)"
   ]
  },
  {
   "cell_type": "code",
   "execution_count": 24,
   "metadata": {},
   "outputs": [
    {
     "name": "stdout",
     "output_type": "stream",
     "text": [
      "+-----+--------+\n",
      "| X   |   P(X) |\n",
      "+=====+========+\n",
      "| X_0 | 0.6000 |\n",
      "+-----+--------+\n",
      "| X_1 | 0.4000 |\n",
      "+-----+--------+\n"
     ]
    }
   ],
   "source": [
    "# 주변확률 계산 1\n",
    "px = pxy.marginal_distribution(['X'], inplace=False)\n",
    "print(px)"
   ]
  },
  {
   "cell_type": "code",
   "execution_count": 25,
   "metadata": {},
   "outputs": [
    {
     "name": "stdout",
     "output_type": "stream",
     "text": [
      "+-----+--------+\n",
      "| Y   |   P(Y) |\n",
      "+=====+========+\n",
      "| Y_0 | 0.5000 |\n",
      "+-----+--------+\n",
      "| Y_1 | 0.5000 |\n",
      "+-----+--------+\n"
     ]
    }
   ],
   "source": [
    "# 주변확률 계산 2\n",
    "py = pxy.marginalize(['X'], inplace=False)\n",
    "print(py)"
   ]
  },
  {
   "cell_type": "code",
   "execution_count": 26,
   "metadata": {},
   "outputs": [
    {
     "name": "stdout",
     "output_type": "stream",
     "text": [
      "+-----+--------+\n",
      "| Y   |   P(Y) |\n",
      "+=====+========+\n",
      "| Y_0 | 0.2500 |\n",
      "+-----+--------+\n",
      "| Y_1 | 0.7500 |\n",
      "+-----+--------+\n"
     ]
    }
   ],
   "source": [
    "# 조건부확률 게산\n",
    "py_on_x0 = pxy.conditional_distribution([('X', 0)], inplace=False)\n",
    "print((py_on_x0))"
   ]
  },
  {
   "cell_type": "code",
   "execution_count": 27,
   "metadata": {},
   "outputs": [
    {
     "name": "stdout",
     "output_type": "stream",
     "text": [
      "+-----+--------+\n",
      "| Y   |   P(Y) |\n",
      "+=====+========+\n",
      "| Y_0 | 0.8750 |\n",
      "+-----+--------+\n",
      "| Y_1 | 0.1250 |\n",
      "+-----+--------+\n"
     ]
    }
   ],
   "source": [
    "py_on_x1 = pxy.conditional_distribution([('X', 1)], inplace=False)\n",
    "print((py_on_x1))"
   ]
  },
  {
   "cell_type": "code",
   "execution_count": 29,
   "metadata": {},
   "outputs": [
    {
     "name": "stdout",
     "output_type": "stream",
     "text": [
      "+-----+--------+\n",
      "| X   |   P(X) |\n",
      "+=====+========+\n",
      "| X_0 | 0.3000 |\n",
      "+-----+--------+\n",
      "| X_1 | 0.7000 |\n",
      "+-----+--------+\n"
     ]
    }
   ],
   "source": [
    "px_on_y0 = pxy.conditional_distribution([('Y', 0)], inplace=False)\n",
    "print(px_on_y0)"
   ]
  },
  {
   "cell_type": "code",
   "execution_count": 30,
   "metadata": {},
   "outputs": [
    {
     "name": "stdout",
     "output_type": "stream",
     "text": [
      "+-----+--------+\n",
      "| X   |   P(X) |\n",
      "+=====+========+\n",
      "| X_0 | 0.9000 |\n",
      "+-----+--------+\n",
      "| X_1 | 0.1000 |\n",
      "+-----+--------+\n"
     ]
    }
   ],
   "source": [
    "px_on_y1 = pxy.conditional_distribution([('Y', 1)], inplace=False )\n",
    "print(px_on_y1)"
   ]
  },
  {
   "cell_type": "code",
   "execution_count": 31,
   "metadata": {},
   "outputs": [
    {
     "data": {
      "text/plain": [
       "False"
      ]
     },
     "execution_count": 31,
     "metadata": {},
     "output_type": "execute_result"
    }
   ],
   "source": [
    "# 두 변수간 독립 확인\n",
    "pxy.check_independence(['X'], ['Y'])\n",
    "# False : px * py != pxy"
   ]
  },
  {
   "cell_type": "code",
   "execution_count": 32,
   "metadata": {},
   "outputs": [
    {
     "name": "stdout",
     "output_type": "stream",
     "text": [
      "+-----+-----+----------+\n",
      "| X   | Y   |   P(X,Y) |\n",
      "+=====+=====+==========+\n",
      "| X_0 | Y_0 |   0.3000 |\n",
      "+-----+-----+----------+\n",
      "| X_0 | Y_1 |   0.3000 |\n",
      "+-----+-----+----------+\n",
      "| X_1 | Y_0 |   0.2000 |\n",
      "+-----+-----+----------+\n",
      "| X_1 | Y_1 |   0.2000 |\n",
      "+-----+-----+----------+\n"
     ]
    }
   ],
   "source": [
    "print(px * py)"
   ]
  },
  {
   "cell_type": "code",
   "execution_count": 33,
   "metadata": {
    "scrolled": true
   },
   "outputs": [
    {
     "name": "stdout",
     "output_type": "stream",
     "text": [
      "+-----+-----+----------+\n",
      "| X   | Y   |   P(X,Y) |\n",
      "+=====+=====+==========+\n",
      "| X_0 | Y_0 |   0.1500 |\n",
      "+-----+-----+----------+\n",
      "| X_0 | Y_1 |   0.4500 |\n",
      "+-----+-----+----------+\n",
      "| X_1 | Y_0 |   0.3500 |\n",
      "+-----+-----+----------+\n",
      "| X_1 | Y_1 |   0.0500 |\n",
      "+-----+-----+----------+\n"
     ]
    }
   ],
   "source": [
    "print(pxy)"
   ]
  },
  {
   "cell_type": "code",
   "execution_count": 15,
   "metadata": {},
   "outputs": [
    {
     "name": "stdout",
     "output_type": "stream",
     "text": [
      "+-----+-----+----------+\n",
      "| X   | Y   |   P(X,Y) |\n",
      "+=====+=====+==========+\n",
      "| X_0 | Y_0 |   0.3000 |\n",
      "+-----+-----+----------+\n",
      "| X_0 | Y_1 |   0.3000 |\n",
      "+-----+-----+----------+\n",
      "| X_1 | Y_0 |   0.2000 |\n",
      "+-----+-----+----------+\n",
      "| X_1 | Y_1 |   0.2000 |\n",
      "+-----+-----+----------+\n"
     ]
    }
   ],
   "source": [
    "pxy2 = JPD(['X', 'Y'], [2, 2], np.array([6, 6, 4, 4]) / 20)\n",
    "print(pxy2)"
   ]
  },
  {
   "cell_type": "code",
   "execution_count": 34,
   "metadata": {},
   "outputs": [
    {
     "name": "stdout",
     "output_type": "stream",
     "text": [
      "+-----+--------+\n",
      "| X   |   P(X) |\n",
      "+=====+========+\n",
      "| X_0 | 0.6000 |\n",
      "+-----+--------+\n",
      "| X_1 | 0.4000 |\n",
      "+-----+--------+\n"
     ]
    }
   ],
   "source": [
    "px2 = pxy2.marginal_distribution(['X'], inplace=False)\n",
    "print(px2)"
   ]
  },
  {
   "cell_type": "code",
   "execution_count": 35,
   "metadata": {},
   "outputs": [
    {
     "name": "stdout",
     "output_type": "stream",
     "text": [
      "+-----+--------+\n",
      "| Y   |   P(Y) |\n",
      "+=====+========+\n",
      "| Y_0 | 0.5000 |\n",
      "+-----+--------+\n",
      "| Y_1 | 0.5000 |\n",
      "+-----+--------+\n"
     ]
    }
   ],
   "source": [
    "py2 = pxy2.marginal_distribution(['Y'], inplace=False)\n",
    "print(py2)"
   ]
  },
  {
   "cell_type": "code",
   "execution_count": 37,
   "metadata": {},
   "outputs": [
    {
     "name": "stdout",
     "output_type": "stream",
     "text": [
      "+-----+--------+\n",
      "| X   |   P(X) |\n",
      "+=====+========+\n",
      "| X_0 | 0.6000 |\n",
      "+-----+--------+\n",
      "| X_1 | 0.4000 |\n",
      "+-----+--------+\n"
     ]
    }
   ],
   "source": [
    "px2_on_y0 = pxy2.conditional_distribution([('Y', 0)], inplace=False)\n",
    "print(px2_on_y0)"
   ]
  },
  {
   "cell_type": "code",
   "execution_count": 38,
   "metadata": {},
   "outputs": [
    {
     "name": "stdout",
     "output_type": "stream",
     "text": [
      "+-----+--------+\n",
      "| X   |   P(X) |\n",
      "+=====+========+\n",
      "| X_0 | 0.6000 |\n",
      "+-----+--------+\n",
      "| X_1 | 0.4000 |\n",
      "+-----+--------+\n"
     ]
    }
   ],
   "source": [
    "px2_on_y1 = pxy2.conditional_distribution([('Y', 1)], inplace=False)\n",
    "print(px2_on_y1)"
   ]
  },
  {
   "cell_type": "code",
   "execution_count": 39,
   "metadata": {},
   "outputs": [
    {
     "name": "stdout",
     "output_type": "stream",
     "text": [
      "+-----+--------+\n",
      "| Y   |   P(Y) |\n",
      "+=====+========+\n",
      "| Y_0 | 0.5000 |\n",
      "+-----+--------+\n",
      "| Y_1 | 0.5000 |\n",
      "+-----+--------+\n"
     ]
    }
   ],
   "source": [
    "py2_on_x0 = pxy2.conditional_distribution([('X', 0)], inplace=False)\n",
    "print(py2_on_x0)"
   ]
  },
  {
   "cell_type": "code",
   "execution_count": 40,
   "metadata": {},
   "outputs": [
    {
     "name": "stdout",
     "output_type": "stream",
     "text": [
      "+-----+--------+\n",
      "| Y   |   P(Y) |\n",
      "+=====+========+\n",
      "| Y_0 | 0.5000 |\n",
      "+-----+--------+\n",
      "| Y_1 | 0.5000 |\n",
      "+-----+--------+\n"
     ]
    }
   ],
   "source": [
    "py2_on_x1 = pxy2.conditional_distribution([('X', 1)], inplace=False)\n",
    "print(py2_on_x1)"
   ]
  },
  {
   "cell_type": "code",
   "execution_count": 41,
   "metadata": {},
   "outputs": [
    {
     "data": {
      "text/plain": [
       "True"
      ]
     },
     "execution_count": 41,
     "metadata": {},
     "output_type": "execute_result"
    }
   ],
   "source": [
    "pxy2.check_independence(['X'], ['Y'])"
   ]
  },
  {
   "cell_type": "code",
   "execution_count": 42,
   "metadata": {},
   "outputs": [
    {
     "name": "stdout",
     "output_type": "stream",
     "text": [
      "+-----+-----+----------+\n",
      "| X   | Y   |   P(X,Y) |\n",
      "+=====+=====+==========+\n",
      "| X_0 | Y_0 |   0.3000 |\n",
      "+-----+-----+----------+\n",
      "| X_0 | Y_1 |   0.3000 |\n",
      "+-----+-----+----------+\n",
      "| X_1 | Y_0 |   0.2000 |\n",
      "+-----+-----+----------+\n",
      "| X_1 | Y_1 |   0.2000 |\n",
      "+-----+-----+----------+\n"
     ]
    }
   ],
   "source": [
    "print(px2 * py2)"
   ]
  },
  {
   "cell_type": "code",
   "execution_count": 43,
   "metadata": {},
   "outputs": [
    {
     "name": "stdout",
     "output_type": "stream",
     "text": [
      "+-----+-----+----------+\n",
      "| X   | Y   |   P(X,Y) |\n",
      "+=====+=====+==========+\n",
      "| X_0 | Y_0 |   0.3000 |\n",
      "+-----+-----+----------+\n",
      "| X_0 | Y_1 |   0.3000 |\n",
      "+-----+-----+----------+\n",
      "| X_1 | Y_0 |   0.2000 |\n",
      "+-----+-----+----------+\n",
      "| X_1 | Y_1 |   0.2000 |\n",
      "+-----+-----+----------+\n"
     ]
    }
   ],
   "source": [
    "print(pxy2)"
   ]
  },
  {
   "cell_type": "markdown",
   "metadata": {},
   "source": [
    "#### 베이즈정리"
   ]
  },
  {
   "cell_type": "code",
   "execution_count": 44,
   "metadata": {},
   "outputs": [
    {
     "name": "stdout",
     "output_type": "stream",
     "text": [
      "+-----+-------+\n",
      "| X_0 | 0.998 |\n",
      "+-----+-------+\n",
      "| X_1 | 0.002 |\n",
      "+-----+-------+\n"
     ]
    }
   ],
   "source": [
    "from pgmpy.factors.discrete import TabularCPD\n",
    "\n",
    "# 사전확률\n",
    "cpd_x = TabularCPD('X', 2, [[1 - 0.002, 0.002]])\n",
    "print(cpd_x)"
   ]
  },
  {
   "cell_type": "code",
   "execution_count": 46,
   "metadata": {},
   "outputs": [
    {
     "name": "stdout",
     "output_type": "stream",
     "text": [
      "+-----+------+------+\n",
      "| X   | X_0  | X_1  |\n",
      "+-----+------+------+\n",
      "| Y_0 | 0.95 | 0.01 |\n",
      "+-----+------+------+\n",
      "| Y_1 | 0.05 | 0.99 |\n",
      "+-----+------+------+\n"
     ]
    }
   ],
   "source": [
    "# 조건부확률\n",
    "cpd_y_on_x = TabularCPD('Y', 2, np.array([[0.95, 0.01], [0.05, 0.99]]), evidence=['X'], evidence_card=[2])\n",
    "print(cpd_y_on_x)"
   ]
  },
  {
   "cell_type": "code",
   "execution_count": 47,
   "metadata": {},
   "outputs": [
    {
     "data": {
      "text/plain": [
       "True"
      ]
     },
     "execution_count": 47,
     "metadata": {},
     "output_type": "execute_result"
    }
   ],
   "source": [
    "# 베이지안 모델\n",
    "from pgmpy.models import BayesianModel\n",
    "\n",
    "model = BayesianModel([('X', 'Y')]) \n",
    "model.add_cpds(cpd_x, cpd_y_on_x) # 조건부 확률 추가\n",
    "model.check_model() # 정상적인 모델인지 확인"
   ]
  },
  {
   "cell_type": "code",
   "execution_count": 49,
   "metadata": {},
   "outputs": [
    {
     "name": "stdout",
     "output_type": "stream",
     "text": [
      "+-----+----------+\n",
      "| X   |   phi(X) |\n",
      "+=====+==========+\n",
      "| X_0 |   0.9618 |\n",
      "+-----+----------+\n",
      "| X_1 |   0.0382 |\n",
      "+-----+----------+\n"
     ]
    }
   ],
   "source": [
    "from pgmpy.inference import VariableElimination\n",
    "\n",
    "inference = VariableElimination(model)\n",
    "posterior = inference.query(['X'], evidence={'Y': 1})\n",
    "print(posterior['X'])"
   ]
  }
 ],
 "metadata": {
  "kernelspec": {
   "display_name": "Python 3",
   "language": "python",
   "name": "python3"
  },
  "language_info": {
   "codemirror_mode": {
    "name": "ipython",
    "version": 3
   },
   "file_extension": ".py",
   "mimetype": "text/x-python",
   "name": "python",
   "nbconvert_exporter": "python",
   "pygments_lexer": "ipython3",
   "version": "3.7.4"
  }
 },
 "nbformat": 4,
 "nbformat_minor": 2
}
