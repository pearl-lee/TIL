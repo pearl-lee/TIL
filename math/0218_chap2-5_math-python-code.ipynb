{
 "cells": [
  {
   "cell_type": "markdown",
   "metadata": {},
   "source": [
    "### 행렬 기본\n",
    "- 벡터 표현 : np.array([[x1], x2])\n",
    "- 놈 : np.linalg.norm(X)\n",
    "- 대각합 : np.trace(X)\n",
    "- 역행렬 : np.linalg.inv(X)\n",
    "- 연립방정식 : np.linalg.lstsq(A, b) \n",
    "    - x(최소자승문제 답), resid(잔차제곱합), rank(랭크), s(특이값)\n",
    "- 이미지 변환 : sp.ndimage.affine_transform(image, X)\n",
    "\n",
    "### 고유분해, 특이분해\n",
    "- 고유분해 : np.linalg.eig(A)\n",
    "    - w(고윳값), V(고유벡터행렬)\n",
    "- 특이분해 : np.linalg.svd(A)\n",
    "    - U(왼쪽특이벡터), S(특이값), VT(오른쪽특이벡터의 전치)\n",
    "    - 인수에 full_matrices=False로 지정하면 축소형이 구해짐\n",
    "- PCA\n",
    "    - from sklearn.decomposition import PCA\n",
    "    - pca = PCA(n_components=n) : n차원 근사\n",
    "    - X_low = pca.fit_transform(X) : 특징행렬을 n차원의 근사행렬로 변환\n",
    "    - X2 = pca.inverse_transform(X) : 근사행렬을 원래 차원으로 복귀\n",
    "    - pca.mean_ : 평균벡터\n",
    "    - pca.components_ : 주성분벡터\n",
    "    \n",
    "### 미적분\n",
    "- 수치미분 : sp.misc.derivative(f, x, dx)\n",
    "- 심볼릭 연산\n",
    "    - sympy.init_printing(use_latex='mathjax')\n",
    "    - x = sympy.symbols('x')\n",
    "- 도함수 구하기 : sympy.diff(f)\n",
    "- 수식 정리 : sympy.simplify(sympy.diff(f))\n",
    "- 부정적분 : F = sympy.integrate(f)\n",
    "- 정적분(미적분학의 기본정리) : (F.subs(x, 2) - F.subs(x, 0)).evalf()\n",
    "- 수치적분(구분구적법) : sp.integrate.quad(f, 0, 2)\n",
    "- 수치이중적분 : sp.integrate.dblquad(f, a, b, gfun, hfun) \n",
    "    - a, b: x의 상,하한 / gfun, hfun: y 하한과 상한(함수로 작성)\n",
    "    \n",
    "### 최적화\n",
    "- result = sp.optimize.minimize(func, x0, jac=jac)\n",
    "    - func(목적함수), x0(초깃값), jac(그래디언트벡터)\n",
    "        - fun: x 위치에서의 함수의 값\n",
    "        - hess_inv: x 위치에서의 헤시안 행렬의 역행렬의 값\n",
    "        - jac: x 위치에서의 자코비안 벡터의 값\n",
    "        - message: 메시지 문자열\n",
    "        - nfev: 목적함수 호출 횟수\n",
    "        - nit: x 이동 횟수\n",
    "        - njev: 자코비안 계산 횟수\n",
    "        - status: 종료 상태. 최적화에 성공하면 0 반환\n",
    "        - success: 최적화에 성공하면 True 반환\n",
    "        - x: 최적화 해\n",
    "- 등식 제한조건이 있는 최적화 문제 계산\n",
    "    - sp.optimize.fmin_slsqp(func_objective, x0, **eqcons**=[func_constraint1, func_constraint2])\n",
    "        - func_objective(목적함수), x0(초깃값), eqcons(제한조건 함수 리스트)\n",
    "- 부등식 제한조건이 있는 최적화 문제 계산\n",
    "     - sp.optimize.fmin_slsqp(func_objective, x0, **ieqcons**=[func_constraint1, func_constraint2])\n",
    " - 선형계획법\n",
    "    - sp.optimize.linprog(c, A, b_)\n",
    "        - c(목적함수 계수 벡터), A(등식 제한조건 계수 행렬), b(등식 제한조건 상수 벡터)"
   ]
  }
 ],
 "metadata": {
  "kernelspec": {
   "display_name": "Python 3",
   "language": "python",
   "name": "python3"
  },
  "language_info": {
   "codemirror_mode": {
    "name": "ipython",
    "version": 3
   },
   "file_extension": ".py",
   "mimetype": "text/x-python",
   "name": "python",
   "nbconvert_exporter": "python",
   "pygments_lexer": "ipython3",
   "version": "3.7.4"
  }
 },
 "nbformat": 4,
 "nbformat_minor": 2
}
