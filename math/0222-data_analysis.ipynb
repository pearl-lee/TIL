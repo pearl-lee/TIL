{
 "cells": [
  {
   "cell_type": "markdown",
   "metadata": {},
   "source": [
    "## 데이터 분석\n",
    "### 데이터 간의 상관관계를 파악하여 우리가 원하는 새로운 (출력)데이터를 만들어 내는 과정\n",
    "- 예측(prediction): 데이터 분석의 결과로 다른 데이터를 출력\n",
    "- 클러스터링(clustering)\n",
    "- 모사(approximation)\n",
    "\n",
    "### 규칙기반(rule-based)\n",
    "- 어떤 입력이 들어오면 어떤 출력이 나오는지 결정하는 규칙이나 알고리즘을 사람이 미리 만들어 놓는 방법\n",
    "- 사람이 세부적인 규칙을 알려주는 방법\n",
    "\n",
    "\n",
    "### 학습기반(training-based) / 데이터기반(data-based)\n",
    "- 대량의 데이터를 컴퓨터에 보여줌으로써 스스로 규칙을 만들게 하는 방법\n",
    "\n",
    "#### 1. 지도학습\n",
    "- 입력값과 출력값의 쌍을 학습 데이터로 입력하여 입력값에 대한 출력값을 예측하도록 학습을 시킴\n",
    "- 학습용 데이터 집합: 학습시키고자 하는 예측 시스템이 최종적으로 동작하기를 바라는 모습을 표현한 데이터 집합\n",
    "    - **목푯값(target)**: 정답\n",
    "    - **레이블링(labelling)**: 각 입력 데이터에 대해 사람이 원하는 목푯값을 붙여주는 작업\n",
    "- 이미지넷: 320만장 이상의 이미지를 5247개의 카테고리로 분류한 학습용 dataset. 딥러닝 시스템의 우수성이 알려지게 된 계기\n",
    "- 전처리(preprocessing)/인코딩(incoding): 현실의 데이터를 컴퓨터가 처리할 수 있는 숫자데이터로 바꾸는 과정\n",
    "- **회귀분석(regression analysis)**: 출력 값이 숫자인 경우\n",
    "- **분류(classification)**: 출력 값이 카테고리값인 경우\n",
    "\n",
    "#### 2. 비지도 학습\n",
    "- 데이터간에 입력과 출력의 관계가 명확하게 구분되지 않는 단순한 '데이터들의 관계'에서 특정한 규칙을 찾아내는 것\n",
    "- **클러스터링(clustering)**"
   ]
  },
  {
   "cell_type": "markdown",
   "metadata": {},
   "source": [
    "## 머신러닝용 파이썬 패키지\n",
    "### 기본 패키지\n",
    "\n",
    "- numpy (**np**) \n",
    "    - 수치해석, 선형대수 계산기능 제공 \n",
    "- scipy (**sp**) \n",
    "    - 고급 수학 함수, 수치적 미적분, 미분방정식 계산, 최적화, 신호처리 등에 사용하는 다양한 과학기술 계산기능 제공\n",
    "- pandas (**pd**) \n",
    "    - 테이블 형태의 데이터를 다루는 DataFrame 자료형 제공. 자료탐색과 정리에 유용하여 데이터 분석에 쓰임\n",
    "- matplotlib (**plt**) \n",
    "    - 각종 그래프나 차트 등을 그리는 시각화 기능 제공\n",
    "- seaborn (**sns**) \n",
    "    - matplotlib에서 지원하지 않는 고급 통계 차트를 그리는 통계용 시각화 기능 제공\n",
    "    \n",
    "### 머신러닝 패키지\n",
    "\n",
    "- statsmodels (**sm**) \n",
    "    - 추정 및 검정, 회귀분석, 시계열분석 등의 기능을 제공\n",
    "        - 예제 데이터셋\n",
    "        - 선형회귀분석\n",
    "        - 로지스틱회귀분석\n",
    "        - 시계열분석\n",
    "- sklearn (**sk**) : scikit(science kit) \n",
    "    - 머신러닝 교육을 위한 파이썬 패키지. 다양한 머신러닝 모형을 모두 제공\n",
    "    \n",
    "### 데이터 전처리용 패키지\n",
    "\n",
    "- missingno (**msno**) : DataFrame에서 누락된 데이터를 찾고 시각화하는 기능 제공\n",
    "- patsy \n",
    "    - DataFrame에서 선택, 변형하는 기능 제공\n",
    "    - statsmodels를 설치하면 별도로 설치할 필요가 없음\n"
   ]
  }
 ],
 "metadata": {
  "kernelspec": {
   "display_name": "Python 3",
   "language": "python",
   "name": "python3"
  },
  "language_info": {
   "codemirror_mode": {
    "name": "ipython",
    "version": 3
   },
   "file_extension": ".py",
   "mimetype": "text/x-python",
   "name": "python",
   "nbconvert_exporter": "python",
   "pygments_lexer": "ipython3",
   "version": "3.7.4"
  }
 },
 "nbformat": 4,
 "nbformat_minor": 2
}
