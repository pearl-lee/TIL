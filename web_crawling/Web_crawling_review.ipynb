{
 "cells": [
  {
   "cell_type": "markdown",
   "metadata": {},
   "source": [
    "### 네이버 주식 데이터 크롤링\n",
    "- 코스피\n",
    "- 코스닥\n",
    "- USD 환율\n",
    "- 그래프그리기\n",
    "- 상관계수 확인"
   ]
  },
  {
   "cell_type": "markdown",
   "metadata": {},
   "source": [
    "#### 크롤링 절차\n",
    "1. 웹 서비스 분석 : URL 확인\n",
    "2. request, response : json 데이터(문자열) 억기\n",
    "3. json 데이터를 dict형태로 파싱 -> 데이터 프레임"
   ]
  },
  {
   "cell_type": "code",
   "execution_count": 32,
   "metadata": {},
   "outputs": [
    {
     "name": "stdout",
     "output_type": "stream",
     "text": [
      "https://m.stock.naver.com/api/json/sise/dailySiseIndexListJson.nhn?code=KOSPI&pageSize=40&page=2\n"
     ]
    }
   ],
   "source": [
    "code, psize, page = 'KOSPI', 40, 2\n",
    "url = f'https://m.stock.naver.com/api/json/sise/dailySiseIndexListJson.nhn?code={code}&pageSize={psize}&page={page}'\n",
    "print(url)"
   ]
  },
  {
   "cell_type": "code",
   "execution_count": 35,
   "metadata": {},
   "outputs": [
    {
     "data": {
      "text/plain": [
       "<Response [200]>"
      ]
     },
     "execution_count": 35,
     "metadata": {},
     "output_type": "execute_result"
    }
   ],
   "source": [
    "response = requests.get(url)\n",
    "response"
   ]
  },
  {
   "cell_type": "code",
   "execution_count": 24,
   "metadata": {},
   "outputs": [],
   "source": [
    "# response.text # str"
   ]
  },
  {
   "cell_type": "code",
   "execution_count": 23,
   "metadata": {},
   "outputs": [],
   "source": [
    "# response.json() # dict"
   ]
  },
  {
   "cell_type": "code",
   "execution_count": 25,
   "metadata": {},
   "outputs": [],
   "source": [
    "datas = response.json()['result']['siseList']\n",
    "# datas # 리스트의 딕셔너리 -> DataFrame"
   ]
  },
  {
   "cell_type": "code",
   "execution_count": 16,
   "metadata": {},
   "outputs": [
    {
     "data": {
      "text/html": [
       "<div>\n",
       "<style scoped>\n",
       "    .dataframe tbody tr th:only-of-type {\n",
       "        vertical-align: middle;\n",
       "    }\n",
       "\n",
       "    .dataframe tbody tr th {\n",
       "        vertical-align: top;\n",
       "    }\n",
       "\n",
       "    .dataframe thead th {\n",
       "        text-align: right;\n",
       "    }\n",
       "</style>\n",
       "<table border=\"1\" class=\"dataframe\">\n",
       "  <thead>\n",
       "    <tr style=\"text-align: right;\">\n",
       "      <th></th>\n",
       "      <th>cd</th>\n",
       "      <th>dt</th>\n",
       "      <th>ncv</th>\n",
       "      <th>cv</th>\n",
       "      <th>cr</th>\n",
       "      <th>ov</th>\n",
       "      <th>hv</th>\n",
       "      <th>lv</th>\n",
       "    </tr>\n",
       "  </thead>\n",
       "  <tbody>\n",
       "    <tr>\n",
       "      <td>38</td>\n",
       "      <td>KOSPI</td>\n",
       "      <td>20191105</td>\n",
       "      <td>2142.64</td>\n",
       "      <td>12.40</td>\n",
       "      <td>0.58</td>\n",
       "      <td>2133.66</td>\n",
       "      <td>2143.12</td>\n",
       "      <td>2128.70</td>\n",
       "    </tr>\n",
       "    <tr>\n",
       "      <td>39</td>\n",
       "      <td>KOSPI</td>\n",
       "      <td>20191104</td>\n",
       "      <td>2130.24</td>\n",
       "      <td>30.04</td>\n",
       "      <td>1.43</td>\n",
       "      <td>2111.32</td>\n",
       "      <td>2130.83</td>\n",
       "      <td>2111.32</td>\n",
       "    </tr>\n",
       "  </tbody>\n",
       "</table>\n",
       "</div>"
      ],
      "text/plain": [
       "       cd        dt      ncv     cv    cr       ov       hv       lv\n",
       "38  KOSPI  20191105  2142.64  12.40  0.58  2133.66  2143.12  2128.70\n",
       "39  KOSPI  20191104  2130.24  30.04  1.43  2111.32  2130.83  2111.32"
      ]
     },
     "execution_count": 16,
     "metadata": {},
     "output_type": "execute_result"
    }
   ],
   "source": [
    "kospi_df = pd.DataFrame(datas)\n",
    "kospi_df.tail(2)"
   ]
  },
  {
   "cell_type": "markdown",
   "metadata": {},
   "source": [
    "함수로 만들기"
   ]
  },
  {
   "cell_type": "code",
   "execution_count": 26,
   "metadata": {},
   "outputs": [],
   "source": [
    "def get_stock_data(code, psize=20, page=1):\n",
    "    url = f'https://m.stock.naver.com/api/json/sise/dailySiseIndexListJson.nhn?code={code}&pageSize={psize}&page={page}'\n",
    "    response = requests.get(url)\n",
    "    datas = response.json()['result']['siseList']\n",
    "    return pd.DataFrame(datas)"
   ]
  },
  {
   "cell_type": "code",
   "execution_count": 27,
   "metadata": {},
   "outputs": [
    {
     "data": {
      "text/html": [
       "<div>\n",
       "<style scoped>\n",
       "    .dataframe tbody tr th:only-of-type {\n",
       "        vertical-align: middle;\n",
       "    }\n",
       "\n",
       "    .dataframe tbody tr th {\n",
       "        vertical-align: top;\n",
       "    }\n",
       "\n",
       "    .dataframe thead th {\n",
       "        text-align: right;\n",
       "    }\n",
       "</style>\n",
       "<table border=\"1\" class=\"dataframe\">\n",
       "  <thead>\n",
       "    <tr style=\"text-align: right;\">\n",
       "      <th></th>\n",
       "      <th>cd</th>\n",
       "      <th>dt</th>\n",
       "      <th>ncv</th>\n",
       "      <th>cv</th>\n",
       "      <th>cr</th>\n",
       "      <th>ov</th>\n",
       "      <th>hv</th>\n",
       "      <th>lv</th>\n",
       "    </tr>\n",
       "  </thead>\n",
       "  <tbody>\n",
       "    <tr>\n",
       "      <td>98</td>\n",
       "      <td>KOSDAQ</td>\n",
       "      <td>20191007</td>\n",
       "      <td>627.21</td>\n",
       "      <td>5.37</td>\n",
       "      <td>0.86</td>\n",
       "      <td>625.25</td>\n",
       "      <td>627.82</td>\n",
       "      <td>622.45</td>\n",
       "    </tr>\n",
       "    <tr>\n",
       "      <td>99</td>\n",
       "      <td>KOSDAQ</td>\n",
       "      <td>20191004</td>\n",
       "      <td>621.84</td>\n",
       "      <td>-2.67</td>\n",
       "      <td>-0.43</td>\n",
       "      <td>623.08</td>\n",
       "      <td>627.15</td>\n",
       "      <td>619.53</td>\n",
       "    </tr>\n",
       "  </tbody>\n",
       "</table>\n",
       "</div>"
      ],
      "text/plain": [
       "        cd        dt     ncv    cv    cr      ov      hv      lv\n",
       "98  KOSDAQ  20191007  627.21  5.37  0.86  625.25  627.82  622.45\n",
       "99  KOSDAQ  20191004  621.84 -2.67 -0.43  623.08  627.15  619.53"
      ]
     },
     "execution_count": 27,
     "metadata": {},
     "output_type": "execute_result"
    }
   ],
   "source": [
    "kosdaq_df = get_stock_data('KOSDAQ', 100)\n",
    "kosdaq_df.tail(2)"
   ]
  },
  {
   "cell_type": "code",
   "execution_count": 28,
   "metadata": {},
   "outputs": [
    {
     "data": {
      "text/html": [
       "<div>\n",
       "<style scoped>\n",
       "    .dataframe tbody tr th:only-of-type {\n",
       "        vertical-align: middle;\n",
       "    }\n",
       "\n",
       "    .dataframe tbody tr th {\n",
       "        vertical-align: top;\n",
       "    }\n",
       "\n",
       "    .dataframe thead th {\n",
       "        text-align: right;\n",
       "    }\n",
       "</style>\n",
       "<table border=\"1\" class=\"dataframe\">\n",
       "  <thead>\n",
       "    <tr style=\"text-align: right;\">\n",
       "      <th></th>\n",
       "      <th>cd</th>\n",
       "      <th>dt</th>\n",
       "      <th>ncv</th>\n",
       "      <th>cv</th>\n",
       "      <th>cr</th>\n",
       "      <th>ov</th>\n",
       "      <th>hv</th>\n",
       "      <th>lv</th>\n",
       "    </tr>\n",
       "  </thead>\n",
       "  <tbody>\n",
       "    <tr>\n",
       "      <td>98</td>\n",
       "      <td>KOSPI</td>\n",
       "      <td>20191007</td>\n",
       "      <td>2021.73</td>\n",
       "      <td>1.04</td>\n",
       "      <td>0.05</td>\n",
       "      <td>2031.53</td>\n",
       "      <td>2034.94</td>\n",
       "      <td>2016.19</td>\n",
       "    </tr>\n",
       "    <tr>\n",
       "      <td>99</td>\n",
       "      <td>KOSPI</td>\n",
       "      <td>20191004</td>\n",
       "      <td>2020.69</td>\n",
       "      <td>-11.22</td>\n",
       "      <td>-0.55</td>\n",
       "      <td>2028.40</td>\n",
       "      <td>2039.43</td>\n",
       "      <td>2020.69</td>\n",
       "    </tr>\n",
       "  </tbody>\n",
       "</table>\n",
       "</div>"
      ],
      "text/plain": [
       "       cd        dt      ncv     cv    cr       ov       hv       lv\n",
       "98  KOSPI  20191007  2021.73   1.04  0.05  2031.53  2034.94  2016.19\n",
       "99  KOSPI  20191004  2020.69 -11.22 -0.55  2028.40  2039.43  2020.69"
      ]
     },
     "execution_count": 28,
     "metadata": {},
     "output_type": "execute_result"
    }
   ],
   "source": [
    "kospi_df = get_stock_data('KOSPI', 100)\n",
    "kospi_df.tail(2)"
   ]
  },
  {
   "cell_type": "code",
   "execution_count": 48,
   "metadata": {},
   "outputs": [
    {
     "data": {
      "text/html": [
       "<div>\n",
       "<style scoped>\n",
       "    .dataframe tbody tr th:only-of-type {\n",
       "        vertical-align: middle;\n",
       "    }\n",
       "\n",
       "    .dataframe tbody tr th {\n",
       "        vertical-align: top;\n",
       "    }\n",
       "\n",
       "    .dataframe thead th {\n",
       "        text-align: right;\n",
       "    }\n",
       "</style>\n",
       "<table border=\"1\" class=\"dataframe\">\n",
       "  <thead>\n",
       "    <tr style=\"text-align: right;\">\n",
       "      <th></th>\n",
       "      <th>dt</th>\n",
       "      <th>ncv_kospi</th>\n",
       "      <th>ncv_kosdaq</th>\n",
       "    </tr>\n",
       "  </thead>\n",
       "  <tbody>\n",
       "    <tr>\n",
       "      <td>98</td>\n",
       "      <td>20191007</td>\n",
       "      <td>2021.73</td>\n",
       "      <td>627.21</td>\n",
       "    </tr>\n",
       "    <tr>\n",
       "      <td>99</td>\n",
       "      <td>20191004</td>\n",
       "      <td>2020.69</td>\n",
       "      <td>621.84</td>\n",
       "    </tr>\n",
       "  </tbody>\n",
       "</table>\n",
       "</div>"
      ],
      "text/plain": [
       "          dt  ncv_kospi  ncv_kosdaq\n",
       "98  20191007    2021.73      627.21\n",
       "99  20191004    2020.69      621.84"
      ]
     },
     "execution_count": 48,
     "metadata": {},
     "output_type": "execute_result"
    }
   ],
   "source": [
    "merge_df = pd.merge(kospi_df, kosdaq_df, left_on='dt', right_on='dt')\n",
    "merge_df = merge_df.rename(columns={'ncv_x': 'ncv_kospi', 'ncv_y': 'ncv_kosdaq'})[\n",
    "    ['dt', 'ncv_kospi', 'ncv_kosdaq']]\n",
    "merge_df.tail(2)"
   ]
  },
  {
   "cell_type": "markdown",
   "metadata": {},
   "source": [
    "그래프 그리기"
   ]
  },
  {
   "cell_type": "code",
   "execution_count": 50,
   "metadata": {},
   "outputs": [],
   "source": [
    "import matplotlib.pyplot as plt"
   ]
  },
  {
   "cell_type": "code",
   "execution_count": 66,
   "metadata": {
    "scrolled": false
   },
   "outputs": [
    {
     "data": {
      "image/png": "[encoded data removed]",
      "text/plain": [
       "<Figure size 1440x360 with 1 Axes>"
      ]
     },
     "metadata": {
      "needs_background": "light"
     },
     "output_type": "display_data"
    }
   ],
   "source": [
    "plt.figure(figsize=(20, 5))\n",
    "plt.plot(merge_df['dt'], merge_df['ncv_kospi'], 'r*:', label='kospi')\n",
    "plt.plot(merge_df['dt'], merge_df['ncv_kosdaq'], 'g^-', label='kosdaq')\n",
    "\n",
    "step = len(merge_df) // 10\n",
    "plt.xticks(merge_df[::step]['dt'])\n",
    "plt.grid(True)\n",
    "plt.legend()\n",
    "plt.show()"
   ]
  },
  {
   "cell_type": "markdown",
   "metadata": {},
   "source": [
    "정규화 \n",
    "- `sk.preprocessing.minmax_scale(data)`"
   ]
  },
  {
   "cell_type": "code",
   "execution_count": 60,
   "metadata": {},
   "outputs": [],
   "source": [
    "from sklearn import preprocessing"
   ]
  },
  {
   "cell_type": "code",
   "execution_count": 62,
   "metadata": {
    "scrolled": true
   },
   "outputs": [],
   "source": [
    "kospi_norm = sk.preprocessing.minmax_scale(merge_df['ncv_kospi'])\n",
    "kosdaq_norm = sk.preprocessing.minmax_scale(merge_df['ncv_kosdaq'])"
   ]
  },
  {
   "cell_type": "code",
   "execution_count": 67,
   "metadata": {},
   "outputs": [
    {
     "data": {
      "image/png": "[encoded data removed]",
      "text/plain": [
       "<Figure size 1440x360 with 1 Axes>"
      ]
     },
     "metadata": {
      "needs_background": "light"
     },
     "output_type": "display_data"
    }
   ],
   "source": [
    "plt.figure(figsize=(20, 5))\n",
    "plt.plot(merge_df['dt'], kospi_norm, 'r*:', label='kospi')\n",
    "plt.plot(merge_df['dt'], kosdaq_norm, 'g^-', label='kosdaq')\n",
    "\n",
    "step = len(merge_df) // 10\n",
    "plt.xticks(merge_df[::step]['dt'])\n",
    "plt.grid(True)\n",
    "plt.legend()\n",
    "plt.show()"
   ]
  },
  {
   "cell_type": "markdown",
   "metadata": {},
   "source": [
    "상관계수 구하기"
   ]
  },
  {
   "cell_type": "code",
   "execution_count": 69,
   "metadata": {},
   "outputs": [
    {
     "data": {
      "text/plain": [
       "0.8010178642275785"
      ]
     },
     "execution_count": 69,
     "metadata": {},
     "output_type": "execute_result"
    }
   ],
   "source": [
    "np.corrcoef(merge_df['ncv_kospi'], merge_df['ncv_kosdaq'])[0, 1]"
   ]
  },
  {
   "cell_type": "markdown",
   "metadata": {},
   "source": [
    "### pygsheet\n",
    "- 구글 스프레드시트에 크롤링한 데이터 저장, 로드"
   ]
  },
  {
   "cell_type": "code",
   "execution_count": 10,
   "metadata": {},
   "outputs": [],
   "source": [
    "import zigbang as zb\n",
    "import pygsheets\n",
    "import seaborn as sns"
   ]
  },
  {
   "cell_type": "code",
   "execution_count": 7,
   "metadata": {},
   "outputs": [],
   "source": [
    "# requests, access token\n",
    "gc = pygsheets.authorize(client_Secret='client_secret.json', no_cache=True)"
   ]
  },
  {
   "cell_type": "code",
   "execution_count": 14,
   "metadata": {},
   "outputs": [],
   "source": [
    "# 스프레드시트 파일열기\n",
    "s_file = gc.open('review')"
   ]
  },
  {
   "cell_type": "code",
   "execution_count": 11,
   "metadata": {},
   "outputs": [
    {
     "data": {
      "text/html": [
       "<div>\n",
       "<style scoped>\n",
       "    .dataframe tbody tr th:only-of-type {\n",
       "        vertical-align: middle;\n",
       "    }\n",
       "\n",
       "    .dataframe tbody tr th {\n",
       "        vertical-align: top;\n",
       "    }\n",
       "\n",
       "    .dataframe thead th {\n",
       "        text-align: right;\n",
       "    }\n",
       "</style>\n",
       "<table border=\"1\" class=\"dataframe\">\n",
       "  <thead>\n",
       "    <tr style=\"text-align: right;\">\n",
       "      <th></th>\n",
       "      <th>sepal_length</th>\n",
       "      <th>sepal_width</th>\n",
       "      <th>petal_length</th>\n",
       "      <th>petal_width</th>\n",
       "      <th>species</th>\n",
       "    </tr>\n",
       "  </thead>\n",
       "  <tbody>\n",
       "    <tr>\n",
       "      <td>148</td>\n",
       "      <td>6.2</td>\n",
       "      <td>3.4</td>\n",
       "      <td>5.4</td>\n",
       "      <td>2.3</td>\n",
       "      <td>virginica</td>\n",
       "    </tr>\n",
       "    <tr>\n",
       "      <td>149</td>\n",
       "      <td>5.9</td>\n",
       "      <td>3.0</td>\n",
       "      <td>5.1</td>\n",
       "      <td>1.8</td>\n",
       "      <td>virginica</td>\n",
       "    </tr>\n",
       "  </tbody>\n",
       "</table>\n",
       "</div>"
      ],
      "text/plain": [
       "     sepal_length  sepal_width  petal_length  petal_width    species\n",
       "148           6.2          3.4           5.4          2.3  virginica\n",
       "149           5.9          3.0           5.1          1.8  virginica"
      ]
     },
     "execution_count": 11,
     "metadata": {},
     "output_type": "execute_result"
    }
   ],
   "source": [
    "# 붓꽃 데이터 로드\n",
    "iris_df = sns.load_dataset('iris')\n",
    "iris_df.tail(2)"
   ]
  },
  {
   "cell_type": "code",
   "execution_count": 15,
   "metadata": {},
   "outputs": [],
   "source": [
    "# iris 시트 만들기\n",
    "iris_sheet = s_file.add_worksheet('iris')"
   ]
  },
  {
   "cell_type": "code",
   "execution_count": 16,
   "metadata": {},
   "outputs": [],
   "source": [
    "# iris 시트에 데이터 저장\n",
    "iris_sheet.set_dataframe(iris_df, 'A1')"
   ]
  },
  {
   "cell_type": "code",
   "execution_count": 17,
   "metadata": {},
   "outputs": [],
   "source": [
    "# 시트삭제\n",
    "s_file.del_worksheet(s_file[0])"
   ]
  },
  {
   "cell_type": "code",
   "execution_count": 18,
   "metadata": {},
   "outputs": [
    {
     "name": "stdout",
     "output_type": "stream",
     "text": [
      "연남동\n",
      "구의동\n",
      "성수동\n",
      "화양동\n"
     ]
    }
   ],
   "source": [
    "# 직방 데이터를 크롤링해서 저장\n",
    "addrs = ['연남동', '구의동', '성수동', '화양동']\n",
    "\n",
    "for addr in addrs:\n",
    "    print(addr)\n",
    "    df = zb.crawling_apt(addr)\n",
    "    sheet = s_file.add_worksheet(addr)\n",
    "    sheet.set_dataframe(df, 'A1', copy_index=False)"
   ]
  },
  {
   "cell_type": "code",
   "execution_count": 19,
   "metadata": {},
   "outputs": [
    {
     "data": {
      "text/html": [
       "<div>\n",
       "<style scoped>\n",
       "    .dataframe tbody tr th:only-of-type {\n",
       "        vertical-align: middle;\n",
       "    }\n",
       "\n",
       "    .dataframe tbody tr th {\n",
       "        vertical-align: top;\n",
       "    }\n",
       "\n",
       "    .dataframe thead th {\n",
       "        text-align: right;\n",
       "    }\n",
       "</style>\n",
       "<table border=\"1\" class=\"dataframe\">\n",
       "  <thead>\n",
       "    <tr style=\"text-align: right;\">\n",
       "      <th></th>\n",
       "      <th>itemId</th>\n",
       "      <th>buildingFloor</th>\n",
       "      <th>groupedItemFloor</th>\n",
       "      <th>lat</th>\n",
       "      <th>lng</th>\n",
       "      <th>sales</th>\n",
       "      <th>itemTitle</th>\n",
       "      <th>m2</th>\n",
       "      <th>p</th>\n",
       "    </tr>\n",
       "  </thead>\n",
       "  <tbody>\n",
       "    <tr>\n",
       "      <td>492</td>\n",
       "      <td>20128039</td>\n",
       "      <td>19</td>\n",
       "      <td>중층</td>\n",
       "      <td>37.540037</td>\n",
       "      <td>127.100097</td>\n",
       "      <td>145000</td>\n",
       "      <td>한강조망이 좋은동으로 학교가 바로 옆에 위치</td>\n",
       "      <td>104</td>\n",
       "      <td>31</td>\n",
       "    </tr>\n",
       "    <tr>\n",
       "      <td>493</td>\n",
       "      <td>20127710</td>\n",
       "      <td>18</td>\n",
       "      <td>고층</td>\n",
       "      <td>37.540622</td>\n",
       "      <td>127.098604</td>\n",
       "      <td>130000</td>\n",
       "      <td>최근 올수리로 조용하고 일조건 좋은 매물입니다.</td>\n",
       "      <td>106</td>\n",
       "      <td>32</td>\n",
       "    </tr>\n",
       "  </tbody>\n",
       "</table>\n",
       "</div>"
      ],
      "text/plain": [
       "       itemId  buildingFloor groupedItemFloor        lat         lng   sales  \\\n",
       "492  20128039             19               중층  37.540037  127.100097  145000   \n",
       "493  20127710             18               고층  37.540622  127.098604  130000   \n",
       "\n",
       "                      itemTitle   m2   p  \n",
       "492    한강조망이 좋은동으로 학교가 바로 옆에 위치  104  31  \n",
       "493  최근 올수리로 조용하고 일조건 좋은 매물입니다.  106  32  "
      ]
     },
     "execution_count": 19,
     "metadata": {},
     "output_type": "execute_result"
    }
   ],
   "source": [
    "# 데이터 가져오기\n",
    "sheet = s_file.worksheet_by_title('구의동')\n",
    "load_df = sheet.get_as_df()\n",
    "load_df.tail(2)"
   ]
  },
  {
   "cell_type": "markdown",
   "metadata": {},
   "source": [
    "### Daum 환율정보 크롤링\n"
   ]
  },
  {
   "cell_type": "code",
   "execution_count": 20,
   "metadata": {},
   "outputs": [],
   "source": [
    "from fake_useragent import UserAgent"
   ]
  },
  {
   "cell_type": "code",
   "execution_count": 21,
   "metadata": {},
   "outputs": [
    {
     "data": {
      "text/plain": [
       "'Mozilla/5.0 (Windows NT 6.1; WOW64) AppleWebKit/537.36 (KHTML, like Gecko) Chrome/27.0.1453.93 Safari/537.36'"
      ]
     },
     "execution_count": 21,
     "metadata": {},
     "output_type": "execute_result"
    }
   ],
   "source": [
    "UserAgent().chrome"
   ]
  },
  {
   "cell_type": "code",
   "execution_count": 24,
   "metadata": {},
   "outputs": [
    {
     "data": {
      "text/plain": [
       "<Response [200]>"
      ]
     },
     "execution_count": 24,
     "metadata": {},
     "output_type": "execute_result"
    }
   ],
   "source": [
    "url = 'https://finance.daum.net/api/exchanges/summaries'\n",
    "headers = {\n",
    "    'user-agent': UserAgent().chrome,\n",
    "    'referer': 'https://finance.daum.net/exchanges',\n",
    "}\n",
    "response = requests.get(url, headers=headers)\n",
    "response"
   ]
  },
  {
   "cell_type": "code",
   "execution_count": 27,
   "metadata": {},
   "outputs": [
    {
     "data": {
      "text/html": [
       "<div>\n",
       "<style scoped>\n",
       "    .dataframe tbody tr th:only-of-type {\n",
       "        vertical-align: middle;\n",
       "    }\n",
       "\n",
       "    .dataframe tbody tr th {\n",
       "        vertical-align: top;\n",
       "    }\n",
       "\n",
       "    .dataframe thead th {\n",
       "        text-align: right;\n",
       "    }\n",
       "</style>\n",
       "<table border=\"1\" class=\"dataframe\">\n",
       "  <thead>\n",
       "    <tr style=\"text-align: right;\">\n",
       "      <th></th>\n",
       "      <th>symbolCode</th>\n",
       "      <th>date</th>\n",
       "      <th>currencyCode</th>\n",
       "      <th>currencyName</th>\n",
       "      <th>currencyUnit</th>\n",
       "      <th>country</th>\n",
       "      <th>region</th>\n",
       "      <th>name</th>\n",
       "      <th>recurrenceCount</th>\n",
       "      <th>basePrice</th>\n",
       "      <th>...</th>\n",
       "      <th>changeRate</th>\n",
       "      <th>cashBuyingPrice</th>\n",
       "      <th>cashSellingPrice</th>\n",
       "      <th>ttBuyingPrice</th>\n",
       "      <th>ttSellingPrice</th>\n",
       "      <th>tcBuyingPrice</th>\n",
       "      <th>fcSellingPrice</th>\n",
       "      <th>exchangeCommission</th>\n",
       "      <th>usDollarRate</th>\n",
       "      <th>chartImageUrl</th>\n",
       "    </tr>\n",
       "  </thead>\n",
       "  <tbody>\n",
       "    <tr>\n",
       "      <td>0</td>\n",
       "      <td>FRX.KRWUSD</td>\n",
       "      <td>2020-02-28 20:02:16</td>\n",
       "      <td>USD</td>\n",
       "      <td>달러</td>\n",
       "      <td>1</td>\n",
       "      <td>미국</td>\n",
       "      <td>{'korName': '아메리카', 'engName': 'America'}</td>\n",
       "      <td>미국 (KRW/USD)</td>\n",
       "      <td>377</td>\n",
       "      <td>1210.50</td>\n",
       "      <td>...</td>\n",
       "      <td>0.001238</td>\n",
       "      <td>1231.68</td>\n",
       "      <td>1189.32</td>\n",
       "      <td>1198.70</td>\n",
       "      <td>1222.30</td>\n",
       "      <td>None</td>\n",
       "      <td>None</td>\n",
       "      <td>3.4311</td>\n",
       "      <td>1.0000</td>\n",
       "      <td>{'day': 'https://t1.daumcdn.net/finance/chart/...</td>\n",
       "    </tr>\n",
       "    <tr>\n",
       "      <td>1</td>\n",
       "      <td>FRX.KRWJPY</td>\n",
       "      <td>2020-02-28 20:02:15</td>\n",
       "      <td>JPY</td>\n",
       "      <td>엔</td>\n",
       "      <td>100</td>\n",
       "      <td>일본</td>\n",
       "      <td>{'korName': '아시아', 'engName': 'Asia'}</td>\n",
       "      <td>일본 (KRW/JPY100)</td>\n",
       "      <td>377</td>\n",
       "      <td>1114.18</td>\n",
       "      <td>...</td>\n",
       "      <td>0.012182</td>\n",
       "      <td>1133.67</td>\n",
       "      <td>1094.69</td>\n",
       "      <td>1103.27</td>\n",
       "      <td>1125.09</td>\n",
       "      <td>None</td>\n",
       "      <td>None</td>\n",
       "      <td>1.8730</td>\n",
       "      <td>0.9204</td>\n",
       "      <td>{'day': 'https://t1.daumcdn.net/finance/chart/...</td>\n",
       "    </tr>\n",
       "  </tbody>\n",
       "</table>\n",
       "<p>2 rows × 22 columns</p>\n",
       "</div>"
      ],
      "text/plain": [
       "   symbolCode                 date currencyCode currencyName  currencyUnit  \\\n",
       "0  FRX.KRWUSD  2020-02-28 20:02:16          USD           달러             1   \n",
       "1  FRX.KRWJPY  2020-02-28 20:02:15          JPY            엔           100   \n",
       "\n",
       "  country                                     region             name  \\\n",
       "0      미국  {'korName': '아메리카', 'engName': 'America'}     미국 (KRW/USD)   \n",
       "1      일본      {'korName': '아시아', 'engName': 'Asia'}  일본 (KRW/JPY100)   \n",
       "\n",
       "   recurrenceCount  basePrice  ... changeRate  cashBuyingPrice  \\\n",
       "0              377    1210.50  ...   0.001238          1231.68   \n",
       "1              377    1114.18  ...   0.012182          1133.67   \n",
       "\n",
       "   cashSellingPrice  ttBuyingPrice  ttSellingPrice  tcBuyingPrice  \\\n",
       "0           1189.32        1198.70         1222.30           None   \n",
       "1           1094.69        1103.27         1125.09           None   \n",
       "\n",
       "   fcSellingPrice exchangeCommission usDollarRate  \\\n",
       "0            None             3.4311       1.0000   \n",
       "1            None             1.8730       0.9204   \n",
       "\n",
       "                                       chartImageUrl  \n",
       "0  {'day': 'https://t1.daumcdn.net/finance/chart/...  \n",
       "1  {'day': 'https://t1.daumcdn.net/finance/chart/...  \n",
       "\n",
       "[2 rows x 22 columns]"
      ]
     },
     "execution_count": 27,
     "metadata": {},
     "output_type": "execute_result"
    }
   ],
   "source": [
    "data = response.json()['data']\n",
    "result_df = pd.DataFrame(data)\n",
    "result_df.head(2)"
   ]
  },
  {
   "cell_type": "markdown",
   "metadata": {},
   "source": [
    "### CSS Selector\n",
    "- HTML 엘리먼트에 CSS 스타일을 적용시킬 때 엘리먼트를 선택하기 위한 방법\n",
    "- 선택 방법\n",
    "    - tag 이름 : `tag`\n",
    "    - id 값 : `#id`\n",
    "    - class 값 : `.class`\n",
    "    - attribute 값 : `[attribute='attr']`\n",
    "    - 혼합해서 사용 : `tag.class`\n",
    "    - not selector\n",
    "        - 선택된 엘리먼트에서 특정 조건의 엘리먼트 제거해서 선택\n",
    "        - `.class:not(.class)`\n",
    "    - nth-child\n",
    "        - n번째 엘리먼트를 선택\n",
    "        - `.class:nth-child(n)`\n",
    "---\n",
    "- 계층구조로 엘리먼트 선택\n",
    "    - 바로 아래 단계의 엘리먼트 선택\n",
    "        - `.class > tag`\n",
    "    - 모든 하위 엘리먼트 선택\n",
    "        - `.class tag`"
   ]
  },
  {
   "cell_type": "markdown",
   "metadata": {},
   "source": [
    "### HTML 데이터 파싱을 이용한 크롤링\n",
    "- 1. URL 찾기\n",
    "- 2. requests -> response : HTML(str)\n",
    "- 3. HTML(str) -> BeautifulSoup object (css-selector 사용) -> DataFrame"
   ]
  },
  {
   "cell_type": "code",
   "execution_count": 1,
   "metadata": {},
   "outputs": [
    {
     "name": "stdout",
     "output_type": "stream",
     "text": [
      "https://search.naver.com/search.naver?sm=tab_hty.top&where=nexearch&query=스펀지밥\n"
     ]
    }
   ],
   "source": [
    "query = '스펀지밥'\n",
    "url = f'https://search.naver.com/search.naver?sm=tab_hty.top&where=nexearch&query={query}'\n",
    "print(url)"
   ]
  },
  {
   "cell_type": "code",
   "execution_count": 2,
   "metadata": {},
   "outputs": [
    {
     "data": {
      "text/plain": [
       "<Response [200]>"
      ]
     },
     "execution_count": 2,
     "metadata": {},
     "output_type": "execute_result"
    }
   ],
   "source": [
    "response = requests.get(url)\n",
    "response"
   ]
  },
  {
   "cell_type": "code",
   "execution_count": 6,
   "metadata": {},
   "outputs": [
    {
     "data": {
      "text/plain": [
       "bs4.BeautifulSoup"
      ]
     },
     "execution_count": 6,
     "metadata": {},
     "output_type": "execute_result"
    }
   ],
   "source": [
    "dom = BeautifulSoup(response.content, 'html.parser')\n",
    "type(dom)"
   ]
  },
  {
   "cell_type": "code",
   "execution_count": 15,
   "metadata": {},
   "outputs": [
    {
     "data": {
      "text/plain": [
       "10"
      ]
     },
     "execution_count": 15,
     "metadata": {},
     "output_type": "execute_result"
    }
   ],
   "source": [
    "#nx_related_keywords > dl > dd.lst_relate._related_keyword_list > ul\n",
    "elements = dom.select('._related_keyword_ul > li')\n",
    "len(elements)"
   ]
  },
  {
   "cell_type": "code",
   "execution_count": 17,
   "metadata": {},
   "outputs": [
    {
     "data": {
      "text/plain": [
       "<li> <a data-area=\"*q\" data-idx=\"1\" href=\"?where=nexearch&amp;query=%EC%8A%A4%ED%8F%B0%EC%A7%80%EB%B0%A5&amp;ie=utf8&amp;sm=tab_she&amp;qdt=0\">스폰지밥</a> </li>"
      ]
     },
     "execution_count": 17,
     "metadata": {},
     "output_type": "execute_result"
    }
   ],
   "source": [
    "elements[0]"
   ]
  },
  {
   "cell_type": "code",
   "execution_count": 21,
   "metadata": {},
   "outputs": [],
   "source": [
    "# keywords = []\n",
    "# for element in elements:\n",
    "#     keywords.append(element.text.strip())\n",
    "\n",
    "# print(keywords)"
   ]
  },
  {
   "cell_type": "code",
   "execution_count": 20,
   "metadata": {},
   "outputs": [
    {
     "name": "stdout",
     "output_type": "stream",
     "text": [
      "['스폰지밥', '스펀지밥 다시보기', '스펀지밥 등장인물', '스펀지밥 그리기', '스펀지밥 징징이', '스펀지밥 영어', '스펀지밥 영화', '스펀지밥 캐릭터', '스펀지', '스펀지밥 게임']\n"
     ]
    }
   ],
   "source": [
    "# list comprehension\n",
    "\n",
    "keywords = [element.text.strip() for element in elements]\n",
    "print(keywords)"
   ]
  },
  {
   "cell_type": "code",
   "execution_count": 27,
   "metadata": {},
   "outputs": [],
   "source": [
    "# 함수로 만들기\n",
    "def get_relational_keywords(query):\n",
    "    url = f'https://search.naver.com/search.naver?sm=tab_hty.top&where=nexearch&query={query}'\n",
    "    response = requests.get(url)\n",
    "    dom = BeautifulSoup(response.content, 'html.parser')\n",
    "    elements = dom.select('._related_keyword_ul > li')\n",
    "    return [element.text.strip() for element in elements]"
   ]
  },
  {
   "cell_type": "code",
   "execution_count": 31,
   "metadata": {},
   "outputs": [
    {
     "name": "stdout",
     "output_type": "stream",
     "text": [
      "['코로나19 증상', '코로나19 사망자', '코로나', '코로나19 확진자', '코로나19 뜻', '코로나19 백신', '코로나19 국내현황', '코로나맵', '코로나나우', '코로나19 사망']\n"
     ]
    }
   ],
   "source": [
    "print(get_relational_keywords('코로나19'))"
   ]
  },
  {
   "cell_type": "markdown",
   "metadata": {},
   "source": [
    "### 다음 뉴스 데이터\n",
    "- 다음 뉴스 메인페이지 기사 15개 기사의 제목, 링크, 내용 수집"
   ]
  },
  {
   "cell_type": "code",
   "execution_count": 69,
   "metadata": {},
   "outputs": [],
   "source": [
    "url = 'https://media.daum.net/'"
   ]
  },
  {
   "cell_type": "code",
   "execution_count": 70,
   "metadata": {},
   "outputs": [
    {
     "data": {
      "text/plain": [
       "<Response [200]>"
      ]
     },
     "execution_count": 70,
     "metadata": {},
     "output_type": "execute_result"
    }
   ],
   "source": [
    "response = requests.get(url)\n",
    "response"
   ]
  },
  {
   "cell_type": "code",
   "execution_count": 71,
   "metadata": {},
   "outputs": [],
   "source": [
    "dom = BeautifulSoup(response.text, 'html.parser')"
   ]
  },
  {
   "cell_type": "code",
   "execution_count": 72,
   "metadata": {},
   "outputs": [
    {
     "data": {
      "text/plain": [
       "15"
      ]
     },
     "execution_count": 72,
     "metadata": {},
     "output_type": "execute_result"
    }
   ],
   "source": [
    "elements = dom.select('.list_headline li')\n",
    "len(elements)"
   ]
  },
  {
   "cell_type": "code",
   "execution_count": 73,
   "metadata": {},
   "outputs": [
    {
     "data": {
      "text/plain": [
       "<li class=\"item_main\">\n",
       "<a class=\"link_cont\" href=\"http://v.media.daum.net/v/20200301133236277\">\n",
       "<span class=\"wrap_thumb\">\n",
       "<img alt=\"\" class=\"thumb_g\" src=\"//img1.daumcdn.net/thumb/S189x104ht.u/?fname=https%3A%2F%2Fimg1.daumcdn.net%2Fnews%2F202003%2F01%2Fyonhap%2F20200301133236721ptsg.jpg&amp;scode=media\"/>\n",
       "</span>\n",
       "<strong class=\"tit_g\">\n",
       "                                                        범투본, 결국 광화문 아닌 교회에 집결..\"우린 반드시 승리\"\n",
       "                        </strong>\n",
       "</a>\n",
       "</li>"
      ]
     },
     "execution_count": 73,
     "metadata": {},
     "output_type": "execute_result"
    }
   ],
   "source": [
    "elements[0]"
   ]
  },
  {
   "cell_type": "code",
   "execution_count": 74,
   "metadata": {},
   "outputs": [
    {
     "data": {
      "text/html": [
       "<div>\n",
       "<style scoped>\n",
       "    .dataframe tbody tr th:only-of-type {\n",
       "        vertical-align: middle;\n",
       "    }\n",
       "\n",
       "    .dataframe tbody tr th {\n",
       "        vertical-align: top;\n",
       "    }\n",
       "\n",
       "    .dataframe thead th {\n",
       "        text-align: right;\n",
       "    }\n",
       "</style>\n",
       "<table border=\"1\" class=\"dataframe\">\n",
       "  <thead>\n",
       "    <tr style=\"text-align: right;\">\n",
       "      <th></th>\n",
       "      <th>title</th>\n",
       "      <th>link</th>\n",
       "    </tr>\n",
       "  </thead>\n",
       "  <tbody>\n",
       "    <tr>\n",
       "      <td>13</td>\n",
       "      <td>北 \"평안·강원도 의학적 감시대상 7000여명\"..자가격리 추정           ...</td>\n",
       "      <td>http://v.media.daum.net/v/20200301124823535</td>\n",
       "    </tr>\n",
       "    <tr>\n",
       "      <td>14</td>\n",
       "      <td>장애인의 성적 욕구 무시하는 사회                            ...</td>\n",
       "      <td>http://v.media.daum.net/v/20200301124422480</td>\n",
       "    </tr>\n",
       "  </tbody>\n",
       "</table>\n",
       "</div>"
      ],
      "text/plain": [
       "                                                title  \\\n",
       "13  北 \"평안·강원도 의학적 감시대상 7000여명\"..자가격리 추정           ...   \n",
       "14  장애인의 성적 욕구 무시하는 사회                            ...   \n",
       "\n",
       "                                           link  \n",
       "13  http://v.media.daum.net/v/20200301124823535  \n",
       "14  http://v.media.daum.net/v/20200301124422480  "
      ]
     },
     "execution_count": 74,
     "metadata": {},
     "output_type": "execute_result"
    }
   ],
   "source": [
    "datas = []\n",
    "for element in elements:\n",
    "    datas.append({\n",
    "        'title': element.select_one('.tit_g').text.strip().replace('\\n', ''),\n",
    "        'link': element.select_one('a').get('href')\n",
    "    })\n",
    "articles_df = pd.DataFrame(datas)\n",
    "articles_df.tail(2)"
   ]
  },
  {
   "cell_type": "code",
   "execution_count": 75,
   "metadata": {},
   "outputs": [
    {
     "name": "stdout",
     "output_type": "stream",
     "text": [
      "http://v.media.daum.net/v/20200301133236277\n"
     ]
    }
   ],
   "source": [
    "# content 데이터 추가\n",
    "link = articles_df.loc[0, 'link']\n",
    "print(link)"
   ]
  },
  {
   "cell_type": "code",
   "execution_count": 79,
   "metadata": {},
   "outputs": [],
   "source": [
    "response = requests.get(link)\n",
    "dom = BeautifulSoup(response.text, 'html.parser')"
   ]
  },
  {
   "cell_type": "code",
   "execution_count": 89,
   "metadata": {},
   "outputs": [
    {
     "data": {
      "text/plain": [
       "'사랑제일교회 주차장에 마련된 야외 예배석. [유튜브 채널 \\'김문수TV\\' 캡처]          (서울=연합뉴스) 김다혜 기자 = 서울 광화문광장의 예배 집회를 금지당한 문재인하야범국민투쟁본부(범투본)가 1일 성북구에 있는 사랑제일교회에서 주일 연합예배를 진행했다.이 교회는 범투본 총괄대표인 전광훈 한국기독교총연합회 대표회장 목사가 담임목사로 있는 곳이다.전 목사의 지지자들은 이날 오전 11시께부터 사랑제일교회 예배당과 야외 주차장에 임시로 마련된 예배석에 빼곡히 앉은 채 예배를 하며 구속된 전 목사의 석방을 기원했다. 범투본 관계자들은 예배에 참석하는 신도들이 마스크를 착용하고 방명록을 작성하도록 했고, 성북보건소 직원들도 교회 앞에 나와 입장하는 신도들의 체온을 측정했다. 조나단 목사는 \"온 세상이 우한 폐렴(신종 코로나바이러스 감염증·코로나19)으로 덮여 이 자리로 나와 연합예배를 드리게 됨은 하나님의 뜻\"이라며 \"전국, 세계에서 유튜브로 예배를 드리고 이곳을 향하고 있다\"라고 말했다.박중섭 목사는 \"우리는 반드시 승리한다\"며 \"(주여) 무너져가는 이 정권을 다 없애버리고 자유 대한민국을 세워 전광훈 목사님이 속히 (유치장에서) 나올 수 있도록 은혜를 베풀어 주시라\"고 말했다. 범투본은 지난해부터 일요일마다 광화문 교보빌딩 앞에서 예배 형식의 집회를 진행해왔다. 서울시가 감염병 예방 및 관리법에 근거해 집회를 금지한 이후인 지난달 23일에도 예배 집회를 강행해 서울시 등에 의해 고발당했다. 그러나 경찰이 집회 및 시위에 관한 법에 근거해 추가로 집회 금지를 통고하고, 법원 역시 경찰의 금지 처분의 집행을 정지해달라는 신청을 기각하자 범투본은 결국 이번 주에는 광화문에서 예배 집회를 하지 않기로 전날 결정했다. 이와 관련 범투본이 광화문광장에서 집회를 하지 못하게 된 것은 그나마 다행이지만, 실내에서 다수가 밀집하는 예배를 하는 것 역시 감염병 예방 차원에서 바람직하지 않다는 지적도 나온다. 조나단 목사는 다수 교회가 코로나19 예방을 위해 오프라인 주일예배를 중단한 것을 염두에 둔 듯 \"한국 교회들이 문을 닫아 하나님 앞에 진정으로 예배를 드리지 못하고 있다\"며 \"공권력에 의해 예배의 자유마저 상실해가고 있다\"고 주장했다. 범투본은 이날 예배 현장을 유튜브로 중계했지만, 연사들은 온라인 참여보다 현장 참여를 독려했다. 박중섭 목사는 \"장소가 부족한 것이 아니라 마음이 있으면 나오게 돼 있다\"라며 \"나라를 위한 예배에 동참해달라\"고 말했다. 한편 전광훈 목사는 지난달 24일 공직선거법 위반 혐의로 구속돼 서울 종로경찰서 유치장에 갇혀 있다. 박 목사는 \"전 목사가 구치소로 이감되는 그날까지 종로경찰서 앞에서 예배를 드릴 것\"이라고 말했다.moment@yna.co.kr'"
      ]
     },
     "execution_count": 89,
     "metadata": {},
     "output_type": "execute_result"
    }
   ],
   "source": [
    "content = dom.select_one('#harmonyContainer').text.strip().replace('\\n', '')\n",
    "content"
   ]
  },
  {
   "cell_type": "code",
   "execution_count": 92,
   "metadata": {},
   "outputs": [],
   "source": [
    "# 함수로 만들기\n",
    "def get_content(link):\n",
    "    response = requests.get(link)\n",
    "    dom = BeautifulSoup(response.text, 'html.parser')\n",
    "    return dom.select_one('#harmonyContainer').text.strip().replace('\\n', '')"
   ]
  },
  {
   "cell_type": "code",
   "execution_count": 93,
   "metadata": {},
   "outputs": [
    {
     "data": {
      "text/html": [
       "<div>\n",
       "<style scoped>\n",
       "    .dataframe tbody tr th:only-of-type {\n",
       "        vertical-align: middle;\n",
       "    }\n",
       "\n",
       "    .dataframe tbody tr th {\n",
       "        vertical-align: top;\n",
       "    }\n",
       "\n",
       "    .dataframe thead th {\n",
       "        text-align: right;\n",
       "    }\n",
       "</style>\n",
       "<table border=\"1\" class=\"dataframe\">\n",
       "  <thead>\n",
       "    <tr style=\"text-align: right;\">\n",
       "      <th></th>\n",
       "      <th>title</th>\n",
       "      <th>link</th>\n",
       "      <th>contents</th>\n",
       "    </tr>\n",
       "  </thead>\n",
       "  <tbody>\n",
       "    <tr>\n",
       "      <td>13</td>\n",
       "      <td>北 \"평안·강원도 의학적 감시대상 7000여명\"..자가격리 추정           ...</td>\n",
       "      <td>http://v.media.daum.net/v/20200301124823535</td>\n",
       "      <td>[서울=뉴시스] 27일 북한 조선중앙TV가 신종 코로나 바이러스 감염증(코로나19)...</td>\n",
       "    </tr>\n",
       "    <tr>\n",
       "      <td>14</td>\n",
       "      <td>장애인의 성적 욕구 무시하는 사회                            ...</td>\n",
       "      <td>http://v.media.daum.net/v/20200301124422480</td>\n",
       "      <td>ⓒ이지영 그림          정신분석학자 시몬느 소스는 장애아와 그 가족이 겪는 ...</td>\n",
       "    </tr>\n",
       "  </tbody>\n",
       "</table>\n",
       "</div>"
      ],
      "text/plain": [
       "                                                title  \\\n",
       "13  北 \"평안·강원도 의학적 감시대상 7000여명\"..자가격리 추정           ...   \n",
       "14  장애인의 성적 욕구 무시하는 사회                            ...   \n",
       "\n",
       "                                           link  \\\n",
       "13  http://v.media.daum.net/v/20200301124823535   \n",
       "14  http://v.media.daum.net/v/20200301124422480   \n",
       "\n",
       "                                             contents  \n",
       "13  [서울=뉴시스] 27일 북한 조선중앙TV가 신종 코로나 바이러스 감염증(코로나19)...  \n",
       "14  ⓒ이지영 그림          정신분석학자 시몬느 소스는 장애아와 그 가족이 겪는 ...  "
      ]
     },
     "execution_count": 93,
     "metadata": {},
     "output_type": "execute_result"
    }
   ],
   "source": [
    "articles_df['contents'] = articles_df['link'].apply(get_content)\n",
    "articles_df.tail(2)"
   ]
  },
  {
   "cell_type": "markdown",
   "metadata": {},
   "source": [
    "### msit: 과학기술 정보통신부\n",
    "- https://www.msit.go.kr/\n",
    "- 보도자료 크롤링\n",
    "- json으로 데이터 수집\n",
    "- json 데이터 안에 html 코드가 들어있음\n",
    "- json으로 가져온 데이터의 html 코드를 beautifulsoup에 넣어 파싱 후 텍스트로 변환"
   ]
  },
  {
   "cell_type": "code",
   "execution_count": 105,
   "metadata": {},
   "outputs": [
    {
     "name": "stdout",
     "output_type": "stream",
     "text": [
      "https://www.msit.go.kr/dynamic/article/_policycom2?sort=operday=desc&below=false&pageout=true&aradon.result.format=json&aradon.page.pageNo=1&aradon.page.listNum=10&aradon.page.screenCount=5&aradon.referrer.href=https://www.msit.go.kr/web/msipContents/contents.do?mId=MTAxOA==&_=1583043270799\n"
     ]
    }
   ],
   "source": [
    "page = 1\n",
    "\n",
    "url = f'https://www.msit.go.kr/dynamic/article/_policycom2?sort=operday=desc&below=false&pageout=true&aradon.result.format=json&aradon.page.pageNo={page}&aradon.page.listNum=10&aradon.page.screenCount=5&aradon.referrer.href=https://www.msit.go.kr/web/msipContents/contents.do?mId=MTAxOA==&_=1583043270799'\n",
    "\n",
    "print(url)"
   ]
  },
  {
   "cell_type": "code",
   "execution_count": 107,
   "metadata": {},
   "outputs": [
    {
     "data": {
      "text/plain": [
       "<Response [200]>"
      ]
     },
     "execution_count": 107,
     "metadata": {},
     "output_type": "execute_result"
    }
   ],
   "source": [
    "response = requests.get(url)\n",
    "response"
   ]
  },
  {
   "cell_type": "code",
   "execution_count": 115,
   "metadata": {},
   "outputs": [
    {
     "data": {
      "text/html": [
       "<div>\n",
       "<style scoped>\n",
       "    .dataframe tbody tr th:only-of-type {\n",
       "        vertical-align: middle;\n",
       "    }\n",
       "\n",
       "    .dataframe tbody tr th {\n",
       "        vertical-align: top;\n",
       "    }\n",
       "\n",
       "    .dataframe thead th {\n",
       "        text-align: right;\n",
       "    }\n",
       "</style>\n",
       "<table border=\"1\" class=\"dataframe\">\n",
       "  <thead>\n",
       "    <tr style=\"text-align: right;\">\n",
       "      <th></th>\n",
       "      <th>modserno</th>\n",
       "      <th>artcont</th>\n",
       "      <th>orderno</th>\n",
       "      <th>moduserid</th>\n",
       "      <th>hot_date</th>\n",
       "      <th>sync_transaction_sequence</th>\n",
       "      <th>vod_url</th>\n",
       "      <th>catid</th>\n",
       "      <th>modday</th>\n",
       "      <th>artfilenm</th>\n",
       "      <th>useflg</th>\n",
       "      <th>admin_p</th>\n",
       "      <th>hot_check</th>\n",
       "      <th>gourlloc</th>\n",
       "      <th>admin_w</th>\n",
       "      <th>artsubject</th>\n",
       "      <th>admin_t</th>\n",
       "      <th>action</th>\n",
       "      <th>keyword</th>\n",
       "      <th>start_date</th>\n",
       "      <th>thumbnail</th>\n",
       "      <th>creday</th>\n",
       "      <th>partid</th>\n",
       "      <th>reguserid</th>\n",
       "      <th>admin_e</th>\n",
       "      <th>isusingurlloc</th>\n",
       "      <th>catidpath</th>\n",
       "      <th>priority</th>\n",
       "      <th>file_02</th>\n",
       "      <th>file_01</th>\n",
       "      <th>main_on</th>\n",
       "      <th>artid</th>\n",
       "      <th>expireday</th>\n",
       "      <th>c_type</th>\n",
       "      <th>viewcount</th>\n",
       "      <th>operday</th>\n",
       "      <th>catnmpath</th>\n",
       "    </tr>\n",
       "  </thead>\n",
       "  <tbody>\n",
       "    <tr>\n",
       "      <td>9</td>\n",
       "      <td>1</td>\n",
       "      <td>&lt;p align=\"center\" style=\"margin: 0px; text-ali...</td>\n",
       "      <td>2961</td>\n",
       "      <td>gwseo777</td>\n",
       "      <td></td>\n",
       "      <td>5e575654a8e59669c8489231</td>\n",
       "      <td></td>\n",
       "      <td>_policycom2</td>\n",
       "      <td>20200227-143932</td>\n",
       "      <td></td>\n",
       "      <td>T</td>\n",
       "      <td>소프트웨어산업과</td>\n",
       "      <td>F</td>\n",
       "      <td></td>\n",
       "      <td>이태호 사무관</td>\n",
       "      <td>공공 소프트웨어 사업 수·발주자협의체 발족</td>\n",
       "      <td>044-202-6331</td>\n",
       "      <td>INS</td>\n",
       "      <td></td>\n",
       "      <td></td>\n",
       "      <td></td>\n",
       "      <td>20200227-143932</td>\n",
       "      <td>2653526</td>\n",
       "      <td>gwseo777</td>\n",
       "      <td></td>\n",
       "      <td>F</td>\n",
       "      <td>[tst1, tsta50, policycom, _policycom2]</td>\n",
       "      <td>5</td>\n",
       "      <td>http://www.msit.go.kr/dynamic/file/afieldfile/...</td>\n",
       "      <td>http://www.msit.go.kr/dynamic/file/afieldfile/...</td>\n",
       "      <td>F</td>\n",
       "      <td>2653526</td>\n",
       "      <td>20470714-120002</td>\n",
       "      <td>SW와 콘텐츠</td>\n",
       "      <td>0</td>\n",
       "      <td>20200227-120002</td>\n",
       "      <td>[과학기술정보통신부_2019, 과학기술정보통신부 Web, 정책소통, 보도자료]</td>\n",
       "    </tr>\n",
       "  </tbody>\n",
       "</table>\n",
       "</div>"
      ],
      "text/plain": [
       "  modserno                                            artcont orderno  \\\n",
       "9        1  <p align=\"center\" style=\"margin: 0px; text-ali...    2961   \n",
       "\n",
       "  moduserid hot_date sync_transaction_sequence vod_url        catid  \\\n",
       "9  gwseo777           5e575654a8e59669c8489231          _policycom2   \n",
       "\n",
       "            modday artfilenm useflg   admin_p hot_check gourlloc  admin_w  \\\n",
       "9  20200227-143932                T  소프트웨어산업과         F           이태호 사무관   \n",
       "\n",
       "                artsubject       admin_t action keyword start_date thumbnail  \\\n",
       "9  공공 소프트웨어 사업 수·발주자협의체 발족  044-202-6331    INS                                \n",
       "\n",
       "            creday   partid reguserid admin_e isusingurlloc  \\\n",
       "9  20200227-143932  2653526  gwseo777                     F   \n",
       "\n",
       "                                catidpath priority  \\\n",
       "9  [tst1, tsta50, policycom, _policycom2]        5   \n",
       "\n",
       "                                             file_02  \\\n",
       "9  http://www.msit.go.kr/dynamic/file/afieldfile/...   \n",
       "\n",
       "                                             file_01 main_on    artid  \\\n",
       "9  http://www.msit.go.kr/dynamic/file/afieldfile/...       F  2653526   \n",
       "\n",
       "         expireday   c_type viewcount          operday  \\\n",
       "9  20470714-120002  SW와 콘텐츠         0  20200227-120002   \n",
       "\n",
       "                                     catnmpath  \n",
       "9  [과학기술정보통신부_2019, 과학기술정보통신부 Web, 정책소통, 보도자료]  "
      ]
     },
     "execution_count": 115,
     "metadata": {},
     "output_type": "execute_result"
    }
   ],
   "source": [
    "datas = response.json()['result']['nodes']\n",
    "msit_df = pd.DataFrame(datas)\n",
    "pd.options.display.max_columns = len(msit_df.columns)\n",
    "msit_df.tail(1)"
   ]
  },
  {
   "cell_type": "code",
   "execution_count": 114,
   "metadata": {},
   "outputs": [
    {
     "data": {
      "text/plain": [
       "Index(['modserno', 'artcont', 'orderno', 'moduserid', 'hot_date',\n",
       "       'sync_transaction_sequence', 'vod_url', 'catid', 'modday', 'artfilenm',\n",
       "       'useflg', 'admin_p', 'hot_check', 'gourlloc', 'admin_w', 'artsubject',\n",
       "       'admin_t', 'action', 'keyword', 'start_date', 'thumbnail', 'creday',\n",
       "       'partid', 'reguserid', 'admin_e', 'isusingurlloc', 'catidpath',\n",
       "       'priority', 'file_02', 'file_01', 'main_on', 'artid', 'expireday',\n",
       "       'c_type', 'viewcount', 'operday', 'catnmpath'],\n",
       "      dtype='object')"
      ]
     },
     "execution_count": 114,
     "metadata": {},
     "output_type": "execute_result"
    }
   ],
   "source": [
    "msit_df.columns"
   ]
  },
  {
   "cell_type": "code",
   "execution_count": 125,
   "metadata": {
    "scrolled": true
   },
   "outputs": [
    {
     "data": {
      "text/html": [
       "<div>\n",
       "<style scoped>\n",
       "    .dataframe tbody tr th:only-of-type {\n",
       "        vertical-align: middle;\n",
       "    }\n",
       "\n",
       "    .dataframe tbody tr th {\n",
       "        vertical-align: top;\n",
       "    }\n",
       "\n",
       "    .dataframe thead th {\n",
       "        text-align: right;\n",
       "    }\n",
       "</style>\n",
       "<table border=\"1\" class=\"dataframe\">\n",
       "  <thead>\n",
       "    <tr style=\"text-align: right;\">\n",
       "      <th></th>\n",
       "      <th>action</th>\n",
       "      <th>admin_p</th>\n",
       "      <th>artid</th>\n",
       "      <th>artsubject</th>\n",
       "      <th>artcont</th>\n",
       "    </tr>\n",
       "  </thead>\n",
       "  <tbody>\n",
       "    <tr>\n",
       "      <td>8</td>\n",
       "      <td>INS</td>\n",
       "      <td>연구개발정책과</td>\n",
       "      <td>2653527</td>\n",
       "      <td>코로나19 대응을 위한 연구개발사업 가이드라인 마련</td>\n",
       "      <td>&lt;p align=\"center\" style=\"margin: 0px; text-ali...</td>\n",
       "    </tr>\n",
       "    <tr>\n",
       "      <td>9</td>\n",
       "      <td>INS</td>\n",
       "      <td>소프트웨어산업과</td>\n",
       "      <td>2653526</td>\n",
       "      <td>공공 소프트웨어 사업 수·발주자협의체 발족</td>\n",
       "      <td>&lt;p align=\"center\" style=\"margin: 0px; text-ali...</td>\n",
       "    </tr>\n",
       "  </tbody>\n",
       "</table>\n",
       "</div>"
      ],
      "text/plain": [
       "  action   admin_p    artid                    artsubject  \\\n",
       "8    INS   연구개발정책과  2653527  코로나19 대응을 위한 연구개발사업 가이드라인 마련   \n",
       "9    INS  소프트웨어산업과  2653526       공공 소프트웨어 사업 수·발주자협의체 발족   \n",
       "\n",
       "                                             artcont  \n",
       "8  <p align=\"center\" style=\"margin: 0px; text-ali...  \n",
       "9  <p align=\"center\" style=\"margin: 0px; text-ali...  "
      ]
     },
     "execution_count": 125,
     "metadata": {},
     "output_type": "execute_result"
    }
   ],
   "source": [
    "columns = ['action', 'admin_p', 'artid', 'artsubject', 'artcont']\n",
    "msit_df = msit_df[columns]\n",
    "msit_df.tail(2)"
   ]
  },
  {
   "cell_type": "code",
   "execution_count": 132,
   "metadata": {},
   "outputs": [
    {
     "data": {
      "text/plain": [
       "'<div style=\"margin: 0cm 0cm 0pt; text-align: center; line-height: 150%; font-family: &quot;맑은 고딕&quot;;\">\\r\\n<p style=\"line-height: 150%; font-size: 20pt;\">과학기술정보통신부 인사</p></div>\\r\\n<div style=\"margin: 0cm 0cm 0pt 10pt; line-height: 115%; text-indent: -10pt; font-family: &quot;맑은 고딕&quot;; font-size: 12pt;\">\\r\\n<p><b>□ 과장급 전보</b></p>\\r\\n<p>▲ 디지털사회기획과장&nbsp;&nbsp;&nbsp;&nbsp;&nbsp;&nbsp;&nbsp;&nbsp;&nbsp;&nbsp;박 민 하(朴敏夏, 과학기술정보통신부)</p>\\r\\n<p>▲ 과학기술안전기반팀장&nbsp;&nbsp;&nbsp;&nbsp;&nbsp;&nbsp;&nbsp;&nbsp;&nbsp;&nbsp;조 현 숙(趙顯淑, 과학기술정보통신부)</p>\\r\\n<p style=\"text-align: right;\"><b>2020. 3. 2.자.</b></p></div>'"
      ]
     },
     "execution_count": 132,
     "metadata": {},
     "output_type": "execute_result"
    }
   ],
   "source": [
    "msit_df.artcont[0]"
   ]
  },
  {
   "cell_type": "code",
   "execution_count": 133,
   "metadata": {},
   "outputs": [
    {
     "data": {
      "text/plain": [
       "'과학기술정보통신부 인사 과장급 전보▲ 디지털사회기획과장박 민 하(朴敏夏, 과학기술정보통신부)▲ 과학기술안전기반팀장조 현 숙(趙顯淑, 과학기술정보통신부)2020. 3. 2.자.'"
      ]
     },
     "execution_count": 133,
     "metadata": {},
     "output_type": "execute_result"
    }
   ],
   "source": [
    "# artcont : html형식\n",
    "html = msit_df.artcont[0]\n",
    "remove_words = ['\\n', '\\xa0', '□', '\\r', 'ㅇ']\n",
    "content = BeautifulSoup(html, 'html.parser').text\n",
    "for remove_word in remove_words:\n",
    "    content = content.replace(remove_word, '')\n",
    "content"
   ]
  },
  {
   "cell_type": "code",
   "execution_count": 134,
   "metadata": {},
   "outputs": [],
   "source": [
    "# 함수\n",
    "def html_to_text(html):\n",
    "    remove_words = ['\\n', '\\xa0', '□', '\\r', 'ㅇ']\n",
    "    content = BeautifulSoup(html, 'html.parser').text\n",
    "    for remove_word in remove_words:\n",
    "        content = content.replace(remove_word, '')\n",
    "    return content"
   ]
  },
  {
   "cell_type": "code",
   "execution_count": 136,
   "metadata": {},
   "outputs": [
    {
     "data": {
      "text/html": [
       "<div>\n",
       "<style scoped>\n",
       "    .dataframe tbody tr th:only-of-type {\n",
       "        vertical-align: middle;\n",
       "    }\n",
       "\n",
       "    .dataframe tbody tr th {\n",
       "        vertical-align: top;\n",
       "    }\n",
       "\n",
       "    .dataframe thead th {\n",
       "        text-align: right;\n",
       "    }\n",
       "</style>\n",
       "<table border=\"1\" class=\"dataframe\">\n",
       "  <thead>\n",
       "    <tr style=\"text-align: right;\">\n",
       "      <th></th>\n",
       "      <th>action</th>\n",
       "      <th>admin_p</th>\n",
       "      <th>artid</th>\n",
       "      <th>artsubject</th>\n",
       "      <th>artcont</th>\n",
       "      <th>content</th>\n",
       "    </tr>\n",
       "  </thead>\n",
       "  <tbody>\n",
       "    <tr>\n",
       "      <td>8</td>\n",
       "      <td>INS</td>\n",
       "      <td>연구개발정책과</td>\n",
       "      <td>2653527</td>\n",
       "      <td>코로나19 대응을 위한 연구개발사업 가이드라인 마련</td>\n",
       "      <td>&lt;p align=\"center\" style=\"margin: 0px; text-ali...</td>\n",
       "      <td>코로나19 대응을 위한 연구개발사업 가이드라인 마련- 선정‧단계‧최종 평가 등 평가...</td>\n",
       "    </tr>\n",
       "    <tr>\n",
       "      <td>9</td>\n",
       "      <td>INS</td>\n",
       "      <td>소프트웨어산업과</td>\n",
       "      <td>2653526</td>\n",
       "      <td>공공 소프트웨어 사업 수·발주자협의체 발족</td>\n",
       "      <td>&lt;p align=\"center\" style=\"margin: 0px; text-ali...</td>\n",
       "      <td>｢공공SW사업 수ㆍ발주자협의체｣ 발족- 소프트웨어 분야 주52시간제 현장안착을 위한...</td>\n",
       "    </tr>\n",
       "  </tbody>\n",
       "</table>\n",
       "</div>"
      ],
      "text/plain": [
       "  action   admin_p    artid                    artsubject  \\\n",
       "8    INS   연구개발정책과  2653527  코로나19 대응을 위한 연구개발사업 가이드라인 마련   \n",
       "9    INS  소프트웨어산업과  2653526       공공 소프트웨어 사업 수·발주자협의체 발족   \n",
       "\n",
       "                                             artcont  \\\n",
       "8  <p align=\"center\" style=\"margin: 0px; text-ali...   \n",
       "9  <p align=\"center\" style=\"margin: 0px; text-ali...   \n",
       "\n",
       "                                             content  \n",
       "8  코로나19 대응을 위한 연구개발사업 가이드라인 마련- 선정‧단계‧최종 평가 등 평가...  \n",
       "9  ｢공공SW사업 수ㆍ발주자협의체｣ 발족- 소프트웨어 분야 주52시간제 현장안착을 위한...  "
      ]
     },
     "execution_count": 136,
     "metadata": {},
     "output_type": "execute_result"
    }
   ],
   "source": [
    "msit_df['content'] = msit_df['artcont'].apply(html_to_text)\n",
    "msit_df.tail(2)"
   ]
  },
  {
   "cell_type": "code",
   "execution_count": 138,
   "metadata": {},
   "outputs": [],
   "source": [
    "columns = ['action', 'admin_p', 'artid', 'artsubject', 'artcont']\n",
    "\n",
    "def get_datas(page):\n",
    "    for page in range(page + 1):\n",
    "        url = f'https://www.msit.go.kr/dynamic/article/_policycom2?sort=operday=desc&below=false&pageout=true&aradon.result.format=json&aradon.page.pageNo={page}&aradon.page.listNum=10&aradon.page.screenCount=5&aradon.referrer.href=https://www.msit.go.kr/web/msipContents/contents.do?mId=MTAxOA==&_=1583043270799'\n",
    "        response = requests.get(url)\n",
    "        datas = response.json()['result']['nodes']\n",
    "        msit_df = pd.DataFrame(datas)[columns]\n",
    "        msit_df['content'] = msit_df['artcont'].apply(html_to_text)\n",
    "    return msit_df    "
   ]
  },
  {
   "cell_type": "code",
   "execution_count": 140,
   "metadata": {},
   "outputs": [
    {
     "data": {
      "text/html": [
       "<div>\n",
       "<style scoped>\n",
       "    .dataframe tbody tr th:only-of-type {\n",
       "        vertical-align: middle;\n",
       "    }\n",
       "\n",
       "    .dataframe tbody tr th {\n",
       "        vertical-align: top;\n",
       "    }\n",
       "\n",
       "    .dataframe thead th {\n",
       "        text-align: right;\n",
       "    }\n",
       "</style>\n",
       "<table border=\"1\" class=\"dataframe\">\n",
       "  <thead>\n",
       "    <tr style=\"text-align: right;\">\n",
       "      <th></th>\n",
       "      <th>action</th>\n",
       "      <th>admin_p</th>\n",
       "      <th>artid</th>\n",
       "      <th>artsubject</th>\n",
       "      <th>artcont</th>\n",
       "      <th>content</th>\n",
       "    </tr>\n",
       "  </thead>\n",
       "  <tbody>\n",
       "    <tr>\n",
       "      <td>8</td>\n",
       "      <td>MOD</td>\n",
       "      <td>중이온가속기팀</td>\n",
       "      <td>2649253</td>\n",
       "      <td>정병선 제1차관, 중이온가속기 건설현장에서의 코로나19 대응태세 점검</td>\n",
       "      <td>&lt;p&gt;&lt;font size=\"3\"&gt;&amp;nbsp;&lt;/font&gt;&lt;/p&gt;\\r\\n&lt;p alig...</td>\n",
       "      <td>정병선 과기정통부 제1차관, 중이온가속기 건설현장에서의 코로나19 대응태세 점검 정...</td>\n",
       "    </tr>\n",
       "    <tr>\n",
       "      <td>9</td>\n",
       "      <td>MOD</td>\n",
       "      <td>혁신네트워크팀</td>\n",
       "      <td>2649252</td>\n",
       "      <td>2019년 사물인터넷 산업 실태조사 결과 발표</td>\n",
       "      <td>&lt;p&gt;&lt;font size=\"3\"&gt;&lt;/font&gt;&lt;/p&gt;\\r\\n&lt;p align=\"cen...</td>\n",
       "      <td>과기정통부, 2019년 사물인터넷 산업 실태조사 결과 발표- ’19년 사물인터넷 매...</td>\n",
       "    </tr>\n",
       "  </tbody>\n",
       "</table>\n",
       "</div>"
      ],
      "text/plain": [
       "  action  admin_p    artid                              artsubject  \\\n",
       "8    MOD  중이온가속기팀  2649253  정병선 제1차관, 중이온가속기 건설현장에서의 코로나19 대응태세 점검   \n",
       "9    MOD  혁신네트워크팀  2649252               2019년 사물인터넷 산업 실태조사 결과 발표   \n",
       "\n",
       "                                             artcont  \\\n",
       "8  <p><font size=\"3\">&nbsp;</font></p>\\r\\n<p alig...   \n",
       "9  <p><font size=\"3\"></font></p>\\r\\n<p align=\"cen...   \n",
       "\n",
       "                                             content  \n",
       "8  정병선 과기정통부 제1차관, 중이온가속기 건설현장에서의 코로나19 대응태세 점검 정...  \n",
       "9  과기정통부, 2019년 사물인터넷 산업 실태조사 결과 발표- ’19년 사물인터넷 매...  "
      ]
     },
     "execution_count": 140,
     "metadata": {},
     "output_type": "execute_result"
    }
   ],
   "source": [
    "get_datas(2).tail(2)"
   ]
  },
  {
   "cell_type": "markdown",
   "metadata": {},
   "source": [
    "### mois : 행정안전부 \n",
    "- https://mois.go.kr/\n",
    "- 보도자료 데이터 수집\n",
    "- post 방식 사용\n",
    "    - dict로 만들어서 함수를 호출할 때 argument로 설정해서 함수 실행 후 가져오기"
   ]
  },
  {
   "cell_type": "code",
   "execution_count": 141,
   "metadata": {},
   "outputs": [],
   "source": [
    "url = 'https://mois.go.kr/frt/bbs/type010/commonSelectBoardList.do?bbsId=BBSMSTR_000000000008'"
   ]
  },
  {
   "cell_type": "code",
   "execution_count": 142,
   "metadata": {},
   "outputs": [
    {
     "data": {
      "text/plain": [
       "{'nttId': 0,\n",
       " 'bbsTyCode': 'BBST03',\n",
       " 'bbsAttrbCode': 'BBSA03',\n",
       " 'authFlag': 'Y',\n",
       " 'pageIndex': 1,\n",
       " 'cal_url': '/sym/cal/EgovNormalCalPopup.do',\n",
       " 'searchCnd': 0}"
      ]
     },
     "execution_count": 142,
     "metadata": {},
     "output_type": "execute_result"
    }
   ],
   "source": [
    "# network - headers - form data \n",
    "page = 1\n",
    "params = {\n",
    "    'nttId': 0,\n",
    "    'bbsTyCode': 'BBST03',\n",
    "    'bbsAttrbCode': 'BBSA03',\n",
    "    'authFlag': 'Y',\n",
    "    'pageIndex': page,\n",
    "    'cal_url': '/sym/cal/EgovNormalCalPopup.do',\n",
    "    'searchCnd': 0,\n",
    "}\n",
    "params"
   ]
  },
  {
   "cell_type": "code",
   "execution_count": 143,
   "metadata": {},
   "outputs": [
    {
     "data": {
      "text/plain": [
       "<Response [200]>"
      ]
     },
     "execution_count": 143,
     "metadata": {},
     "output_type": "execute_result"
    }
   ],
   "source": [
    "response = requests.post(url, params)\n",
    "response"
   ]
  },
  {
   "cell_type": "code",
   "execution_count": 148,
   "metadata": {},
   "outputs": [],
   "source": [
    "dom = BeautifulSoup(response.text, 'html.parser')"
   ]
  },
  {
   "cell_type": "code",
   "execution_count": 150,
   "metadata": {},
   "outputs": [
    {
     "data": {
      "text/plain": [
       "10"
      ]
     },
     "execution_count": 150,
     "metadata": {},
     "output_type": "execute_result"
    }
   ],
   "source": [
    "elements = dom.select('.table_style1 > tbody > tr')\n",
    "len(elements)"
   ]
  },
  {
   "cell_type": "code",
   "execution_count": 151,
   "metadata": {
    "scrolled": false
   },
   "outputs": [
    {
     "data": {
      "text/plain": [
       "<tr>\n",
       "<td class=\"res_hide\">\n",
       "\t\t\t\t\t\t\t\t10625\n",
       "\t\t\t\t\t\t\t</td>\n",
       "<td class=\"l\">\n",
       "<div class=\"wrap\">\n",
       "<a href=\"/frt/bbs/type010/commonSelectBoardArticle.do;jsessionid=ReO6v--yt7Yt7Md+U6zK1bnT.node10?bbsId=BBSMSTR_000000000008&amp;nttId=76061\" onclick=\"javascript:fn_egov_inqire_notice('76061', 'BBSMSTR_000000000008'); return false;\">대구지방합동청사 입주직원, 코로나19 확진 판정 </a>\n",
       "</div>\n",
       "</td>\n",
       "<td class=\"res_hide\">\n",
       "<img alt=\"첨부파일\" src=\"/images/board/icon_file.gif;jsessionid=ReO6v--yt7Yt7Md+U6zK1bnT.node10\">\n",
       "</img></td>\n",
       "<td class=\"res_hide\">\n",
       "\t\t\t\t\t\t\t\t노사후생과\n",
       "\t\t\t\t\t\t\t</td>\n",
       "<td>\n",
       "\t\t\t\t\t\t\t\t2020.02.28.\n",
       "\t\t\t\t\t\t\t</td>\n",
       "<td class=\"res_hide\">\n",
       "\t\t\t\t\t\t\t\t462\n",
       "\t\t\t\t\t\t\t</td>\n",
       "</tr>"
      ]
     },
     "execution_count": 151,
     "metadata": {},
     "output_type": "execute_result"
    }
   ],
   "source": [
    "elements[0]"
   ]
  },
  {
   "cell_type": "code",
   "execution_count": 161,
   "metadata": {},
   "outputs": [
    {
     "data": {
      "text/plain": [
       "<td>\n",
       "\t\t\t\t\t\t\t\t2020.02.28.\n",
       "\t\t\t\t\t\t\t</td>"
      ]
     },
     "execution_count": 161,
     "metadata": {},
     "output_type": "execute_result"
    }
   ],
   "source": [
    "elements[0].select_one('td:nth-child(5)')#.text.strip()"
   ]
  },
  {
   "cell_type": "code",
   "execution_count": 162,
   "metadata": {},
   "outputs": [
    {
     "data": {
      "text/html": [
       "<div>\n",
       "<style scoped>\n",
       "    .dataframe tbody tr th:only-of-type {\n",
       "        vertical-align: middle;\n",
       "    }\n",
       "\n",
       "    .dataframe tbody tr th {\n",
       "        vertical-align: top;\n",
       "    }\n",
       "\n",
       "    .dataframe thead th {\n",
       "        text-align: right;\n",
       "    }\n",
       "</style>\n",
       "<table border=\"1\" class=\"dataframe\">\n",
       "  <thead>\n",
       "    <tr style=\"text-align: right;\">\n",
       "      <th></th>\n",
       "      <th>no</th>\n",
       "      <th>title</th>\n",
       "      <th>writer</th>\n",
       "      <th>date</th>\n",
       "      <th>pv</th>\n",
       "    </tr>\n",
       "  </thead>\n",
       "  <tbody>\n",
       "    <tr>\n",
       "      <td>8</td>\n",
       "      <td>10617</td>\n",
       "      <td>정부청사, 코로나19 유입대비 출입강화, 집중방역 실시</td>\n",
       "      <td>노사후생과</td>\n",
       "      <td>2020.02.24.</td>\n",
       "      <td>660</td>\n",
       "    </tr>\n",
       "    <tr>\n",
       "      <td>9</td>\n",
       "      <td>10616</td>\n",
       "      <td>소하천 토지변경 없으면, 점용허가 끝나도 원상복구 면제</td>\n",
       "      <td>재난경감과</td>\n",
       "      <td>2020.02.24.</td>\n",
       "      <td>494</td>\n",
       "    </tr>\n",
       "  </tbody>\n",
       "</table>\n",
       "</div>"
      ],
      "text/plain": [
       "      no                           title writer         date   pv\n",
       "8  10617  정부청사, 코로나19 유입대비 출입강화, 집중방역 실시  노사후생과  2020.02.24.  660\n",
       "9  10616  소하천 토지변경 없으면, 점용허가 끝나도 원상복구 면제  재난경감과  2020.02.24.  494"
      ]
     },
     "execution_count": 162,
     "metadata": {},
     "output_type": "execute_result"
    }
   ],
   "source": [
    "datas = []\n",
    "for element in elements:\n",
    "    datas.append({\n",
    "        'no': element.select_one('td:nth-child(1)').text.strip(),\n",
    "        'title': element.select_one('td:nth-child(2)').text.strip(),\n",
    "        'writer': element.select_one('td:nth-child(4)').text.strip(),\n",
    "        'date': element.select_one('td:nth-child(5)').text.strip(),\n",
    "        'pv': element.select_one('td:nth-child(6)').text.strip(),        \n",
    "    })\n",
    "mois_df = pd.DataFrame(datas)\n",
    "mois_df.tail(2)"
   ]
  },
  {
   "cell_type": "markdown",
   "metadata": {},
   "source": [
    "### naver REST API\n",
    "- https://developers.naver.com\n",
    "- 통합검색어 트렌드 api\n",
    "- 파파고 번역 api"
   ]
  },
  {
   "cell_type": "code",
   "execution_count": null,
   "metadata": {},
   "outputs": [],
   "source": []
  },
  {
   "cell_type": "code",
   "execution_count": null,
   "metadata": {},
   "outputs": [],
   "source": []
  },
  {
   "cell_type": "code",
   "execution_count": null,
   "metadata": {},
   "outputs": [],
   "source": []
  },
  {
   "cell_type": "code",
   "execution_count": null,
   "metadata": {},
   "outputs": [],
   "source": []
  },
  {
   "cell_type": "code",
   "execution_count": null,
   "metadata": {},
   "outputs": [],
   "source": []
  },
  {
   "cell_type": "code",
   "execution_count": null,
   "metadata": {},
   "outputs": [],
   "source": []
  },
  {
   "cell_type": "code",
   "execution_count": null,
   "metadata": {},
   "outputs": [],
   "source": []
  },
  {
   "cell_type": "code",
   "execution_count": null,
   "metadata": {},
   "outputs": [],
   "source": []
  },
  {
   "cell_type": "code",
   "execution_count": null,
   "metadata": {},
   "outputs": [],
   "source": []
  },
  {
   "cell_type": "code",
   "execution_count": null,
   "metadata": {},
   "outputs": [],
   "source": []
  },
  {
   "cell_type": "code",
   "execution_count": null,
   "metadata": {},
   "outputs": [],
   "source": []
  },
  {
   "cell_type": "code",
   "execution_count": null,
   "metadata": {},
   "outputs": [],
   "source": []
  }
 ],
 "metadata": {
  "kernelspec": {
   "display_name": "Python 3",
   "language": "python",
   "name": "python3"
  },
  "language_info": {
   "codemirror_mode": {
    "name": "ipython",
    "version": 3
   },
   "file_extension": ".py",
   "mimetype": "text/x-python",
   "name": "python",
   "nbconvert_exporter": "python",
   "pygments_lexer": "ipython3",
   "version": "3.7.4"
  }
 },
 "nbformat": 4,
 "nbformat_minor": 2
}
