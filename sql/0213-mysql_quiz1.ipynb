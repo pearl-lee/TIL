{
 "cells": [
  {
   "cell_type": "markdown",
   "metadata": {},
   "source": [
    "```\n",
    "SHOW DATABASES;\n",
    "USE world;\n",
    "SELECT DATABASE();\n",
    "```\n",
    "\n",
    "**1. country 테이블에서 중복을 제거한 Continent를 조회**\n",
    "```\n",
    "SELECT DISTINCT(Continent)\n",
    "FROM country;\n",
    "```\n",
    "\n",
    "**2. 한국 도시 중에 인구가 100만이 넘은 도시를 조회하여 인구순으로 내림차순**\n",
    "```\n",
    "SELECT NAME, Population\n",
    "FROM city\n",
    "WHERE CountryCode='KOR' and Population >= 1000000\n",
    "ORDER BY Population DESC;\n",
    "```\n",
    "\n",
    "**3. city 테이블에서 population이 800만 ~ 1000만 사이인 도시 데이터를 인구수순으로 내림차순**\n",
    "```\n",
    "SELECT NAME, CountryCode, population\n",
    "FROM city\n",
    "WHERE population BETWEEN 8000000 AND 10000000\n",
    "ORDER BY population DESC;\n",
    "```\n",
    "\n",
    "**4. country 테이블에서 1940 ~ 1950년도 사이에 독립한 국가들을 조회하고 독립한 년도 순으로 오름차순**\n",
    "```\n",
    "SELECT CODE, CONCAT(NAME, '(', indepyear, ')') as NameIndep, Continent, Population\n",
    "FROM country\n",
    "WHERE IndepYear BETWEEN 1940 AND 1950\n",
    "ORDER BY indepyear;\n",
    "```\n",
    "\n",
    "**5. countrylanguage 테이블에서 스페인어, 한국어, 영어를 95% 이상 사용하는 국가 코드를 Percentage로 내림차순**\n",
    "```\n",
    "SELECT countrycode, LANGUAGE, percentage\n",
    "FROM countrylanguage\n",
    "WHERE language IN ('Spanish', 'Korean', 'English') AND percentage >= 95\n",
    "ORDER BY percentage DESC;\n",
    "```\n",
    "\n",
    "**6. country 테이블에서 Code가 A로 시작하고 GovernmentForm에 Requblic이 포함되는 데이터 조회**\n",
    "```\n",
    "SELECT CODE, NAME, Continent, GovernmentForm, Population\n",
    "FROM country\n",
    "WHERE CODE LIKE 'A%' AND GovernmentForm LIKE '%Republic%';\n",
    "```"
   ]
  }
 ],
 "metadata": {
  "kernelspec": {
   "display_name": "Python 3",
   "language": "python",
   "name": "python3"
  },
  "language_info": {
   "codemirror_mode": {
    "name": "ipython",
    "version": 3
   },
   "file_extension": ".py",
   "mimetype": "text/x-python",
   "name": "python",
   "nbconvert_exporter": "python",
   "pygments_lexer": "ipython3",
   "version": "3.7.4"
  }
 },
 "nbformat": 4,
 "nbformat_minor": 2
}
