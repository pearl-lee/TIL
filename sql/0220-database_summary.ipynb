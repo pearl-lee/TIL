{
 "cells": [
  {
   "cell_type": "markdown",
   "metadata": {},
   "source": [
    "### Database\n",
    "#### RDBMS: 관계형 데이터베이스\n",
    "- MySQL\n",
    "- 데이터베이스 서버에 설치\n",
    "- 데이터베이스 생성, 삭제, 수정, 쿼리문\n",
    "- 서버, 데이터베이스, 테이블, 레코드, 값\n",
    "- 쿼리문\n",
    "    - SELECT FROM\n",
    "        - WHERE: 비교, 논리연산자, IN, LIKE\n",
    "        - ORDER BY: 정렬\n",
    "        - GROUP BY, HAVING: 특정 컬럼의 데이터를 유니크하게 만들어서 데데이터를 출력\n",
    "        - JOIN ON: LEFT, RIGHT, INNER, OUTER(UNION)\n",
    "        - sub query: 쿼리 안에 쿼리: SELECT, FROM, WHERE 절에 사용\n",
    "        - VIEW: 복잡한 쿼리를 간단하게 만들어 주는 방법\n",
    "    - INSERT INTO (columns) VALUES (values)\n",
    "    - UPDATE SET\n",
    "- INDEX: explain\n",
    "- SQLAlchemy: Python에서 사용하는 ORM(서버에 있는 데이터 베비스, 테이블을 객체화 시켜서 사용)\n",
    "- SELECT가 빠르고 INSERT 느리다. Transaction 지원, 스키마 수정 복잡\n",
    "    \n",
    "  \n",
    "#### NoSQL: 비 관계형 데이터베이스\n",
    "- MongoDB\n",
    "- 서버, 데이터베이스, 컬렉션, 도큐먼트\n",
    "- find\n",
    "- pymongo: Python에서 사용하는 ORM\n",
    "- SELECT가 느리고 INSERT 빠르다. 데이터 저장 용이(스키마를 고려하지 않아도 됨)"
   ]
  },
  {
   "cell_type": "markdown",
   "metadata": {},
   "source": [
    "### Web Crawling\n",
    "- 1. requests: json: 동적페이지(URL 변경 없이 데이터를 수정 및 추가)\n",
    "- 2. requests: html: 정적페이지(URL 변경으로 데이터를 수정 및 추가)\n",
    "- 3. selenium: web browser 이용\n",
    "\n",
    "#### 크롤링 절차\n",
    "1. 웹서비스 분석: URL 분석하기\n",
    "2. requests, response하기: json 얻기\n",
    "3. 문자열 json 데이터를 dict로 변경(파싱) 후 데이터프레임으로 생성"
   ]
  },
  {
   "cell_type": "markdown",
   "metadata": {},
   "source": [
    "#### 정규화(Normalization)\n",
    "$z = {(x - min(x))\\over(max(x) - min(x))}$ $(0 \\leq z \\leq 1)$"
   ]
  }
 ],
 "metadata": {
  "kernelspec": {
   "display_name": "Python 3",
   "language": "python",
   "name": "python3"
  },
  "language_info": {
   "codemirror_mode": {
    "name": "ipython",
    "version": 3
   },
   "file_extension": ".py",
   "mimetype": "text/x-python",
   "name": "python",
   "nbconvert_exporter": "python",
   "pygments_lexer": "ipython3",
   "version": "3.7.4"
  }
 },
 "nbformat": 4,
 "nbformat_minor": 2
}
