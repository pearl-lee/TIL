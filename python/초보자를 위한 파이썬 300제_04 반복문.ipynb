{
 "cells": [
  {
   "cell_type": "code",
   "execution_count": 1,
   "metadata": {},
   "outputs": [
    {
     "name": "stdout",
     "output_type": "stream",
     "text": [
      "가\n",
      "나\n",
      "다\n",
      "라\n"
     ]
    }
   ],
   "source": [
    "# 121\n",
    "for x in ['가', '나', '다', '라']:\n",
    "    print(x)\n",
    "# 4번 호출됨"
   ]
  },
  {
   "cell_type": "code",
   "execution_count": 2,
   "metadata": {},
   "outputs": [
    {
     "name": "stdout",
     "output_type": "stream",
     "text": [
      "사과\n",
      "귤\n",
      "수박\n"
     ]
    }
   ],
   "source": [
    "# 122\n",
    "for x in ['사과', '귤', '수박']:\n",
    "    print(x)\n",
    "# 사과\n",
    "# 귤\n",
    "# 수박"
   ]
  },
  {
   "cell_type": "code",
   "execution_count": 3,
   "metadata": {},
   "outputs": [
    {
     "name": "stdout",
     "output_type": "stream",
     "text": [
      "사과\n",
      "--\n",
      "귤\n",
      "--\n",
      "수박\n",
      "--\n"
     ]
    }
   ],
   "source": [
    "# 123\n",
    "for 변수 in ['사과', '귤', '수박']:\n",
    "    print(변수)\n",
    "    print('--')\n",
    "# 사과\n",
    "# --\n",
    "# 귤\n",
    "# --\n",
    "# 수박\n",
    "# --"
   ]
  },
  {
   "cell_type": "code",
   "execution_count": 4,
   "metadata": {},
   "outputs": [
    {
     "name": "stdout",
     "output_type": "stream",
     "text": [
      "사과\n",
      "귤\n",
      "수박\n",
      "--\n"
     ]
    }
   ],
   "source": [
    "# 124\n",
    "for 변수 in [\"사과\", \"귤\", \"수박\"]:\n",
    "    print(변수)\n",
    "print(\"--\")\n",
    "# 사과\n",
    "# 귤\n",
    "# 수박\n",
    "# --"
   ]
  },
  {
   "cell_type": "code",
   "execution_count": 5,
   "metadata": {},
   "outputs": [
    {
     "name": "stdout",
     "output_type": "stream",
     "text": [
      "오늘의 메뉴: 김밥\n",
      "오늘의 메뉴: 라면\n",
      "오늘의 메뉴: 튀김\n"
     ]
    }
   ],
   "source": [
    "# 125\n",
    "menu = ['김밥', '라면', '튀김']\n",
    "\n",
    "for i in menu:\n",
    "    print('오늘의 메뉴:', i)"
   ]
  },
  {
   "cell_type": "code",
   "execution_count": 6,
   "metadata": {},
   "outputs": [
    {
     "name": "stdout",
     "output_type": "stream",
     "text": [
      "SK하이닉스 보유중\n",
      "삼성전자 보유중\n",
      "LG전자 보유중\n"
     ]
    }
   ],
   "source": [
    "# 126\n",
    "portfolio = ['SK하이닉스', '삼성전자', 'LG전자']\n",
    "\n",
    "for i in portfolio:\n",
    "    print(i, '보유중')"
   ]
  },
  {
   "cell_type": "code",
   "execution_count": 7,
   "metadata": {},
   "outputs": [
    {
     "name": "stdout",
     "output_type": "stream",
     "text": [
      "dog 3\n",
      "cat 3\n",
      "parrot 6\n",
      " squirrel 9\n",
      "goldfish 8\n"
     ]
    }
   ],
   "source": [
    "# 127\n",
    "pets = ['dog', 'cat', 'parrot', ' squirrel', 'goldfish']\n",
    "\n",
    "for i in pets:\n",
    "    print(i, len(i))"
   ]
  },
  {
   "cell_type": "code",
   "execution_count": 8,
   "metadata": {},
   "outputs": [
    {
     "name": "stdout",
     "output_type": "stream",
     "text": [
      "110\n",
      "210\n",
      "310\n"
     ]
    }
   ],
   "source": [
    "# 128\n",
    "prices = [100, 200, 300]\n",
    "\n",
    "for i in prices:\n",
    "    print(i + 10)"
   ]
  },
  {
   "cell_type": "code",
   "execution_count": 15,
   "metadata": {},
   "outputs": [
    {
     "name": "stdout",
     "output_type": "stream",
     "text": [
      "129300\n",
      "1000\n",
      "2300\n"
     ]
    }
   ],
   "source": [
    "# 129\n",
    "prices = ['129,300', '1,000', '2,300']\n",
    "\n",
    "for i in prices:\n",
    "    print(int(i.replace(',', '')))"
   ]
  },
  {
   "cell_type": "code",
   "execution_count": 16,
   "metadata": {},
   "outputs": [
    {
     "name": "stdout",
     "output_type": "stream",
     "text": [
      "라면\n",
      "김밥\n",
      "튀김\n"
     ]
    }
   ],
   "source": [
    "# 130\n",
    "menu = ['면라', '밥김', '김튀']\n",
    "\n",
    "for i in menu:\n",
    "    print(i[::-1])"
   ]
  },
  {
   "cell_type": "code",
   "execution_count": 30,
   "metadata": {},
   "outputs": [
    {
     "name": "stdout",
     "output_type": "stream",
     "text": [
      "나\n",
      "다\n",
      "라\n"
     ]
    }
   ],
   "source": [
    "# 131\n",
    "my_list = ['가', '나', '다', '라']\n",
    "for i in my_list[1:]:\n",
    "    print(i)"
   ]
  },
  {
   "cell_type": "code",
   "execution_count": 31,
   "metadata": {},
   "outputs": [
    {
     "name": "stdout",
     "output_type": "stream",
     "text": [
      "나\n",
      "다\n",
      "라\n"
     ]
    }
   ],
   "source": [
    "for i in my_list:\n",
    "    if i != '가':\n",
    "        print(i)"
   ]
  },
  {
   "cell_type": "code",
   "execution_count": 19,
   "metadata": {},
   "outputs": [
    {
     "name": "stdout",
     "output_type": "stream",
     "text": [
      "1\n",
      "3\n",
      "5\n"
     ]
    }
   ],
   "source": [
    "# 132\n",
    "my_list = [1, 2, 3, 4, 5, 6]\n",
    "for i in my_list[::2]:\n",
    "    print(i)"
   ]
  },
  {
   "cell_type": "code",
   "execution_count": 20,
   "metadata": {},
   "outputs": [
    {
     "name": "stdout",
     "output_type": "stream",
     "text": [
      "2\n",
      "4\n",
      "6\n"
     ]
    }
   ],
   "source": [
    "# 133\n",
    "for i in my_list[1::2]:\n",
    "    print(i)"
   ]
  },
  {
   "cell_type": "code",
   "execution_count": 21,
   "metadata": {},
   "outputs": [
    {
     "name": "stdout",
     "output_type": "stream",
     "text": [
      "라\n",
      "다\n",
      "나\n",
      "가\n"
     ]
    }
   ],
   "source": [
    "# 134\n",
    "my_list = ['가', '나', '다', '라']\n",
    "for i in my_list[::-1]:\n",
    "    print(i)"
   ]
  },
  {
   "cell_type": "code",
   "execution_count": 23,
   "metadata": {},
   "outputs": [
    {
     "name": "stdout",
     "output_type": "stream",
     "text": [
      "-20\n",
      "-3\n"
     ]
    }
   ],
   "source": [
    "# 135\n",
    "my_list = [3, -20, -3, 44]\n",
    "for i in my_list:\n",
    "    if i < 0:\n",
    "        print(i)"
   ]
  },
  {
   "cell_type": "code",
   "execution_count": 24,
   "metadata": {},
   "outputs": [
    {
     "name": "stdout",
     "output_type": "stream",
     "text": [
      "3\n"
     ]
    }
   ],
   "source": [
    "# 136\n",
    "my_list = [3, 100, 23, 44]\n",
    "for i in my_list:\n",
    "    if i % 3 == 0:\n",
    "        print(i)"
   ]
  },
  {
   "cell_type": "code",
   "execution_count": 25,
   "metadata": {},
   "outputs": [
    {
     "name": "stdout",
     "output_type": "stream",
     "text": [
      "study\n",
      "python\n",
      "language\n"
     ]
    }
   ],
   "source": [
    "# 137\n",
    "my_list = ['I', 'study', 'python', 'language', '!']\n",
    "for i in my_list:\n",
    "    if len(i) >= 3:\n",
    "        print(i)"
   ]
  },
  {
   "cell_type": "code",
   "execution_count": 32,
   "metadata": {},
   "outputs": [
    {
     "name": "stdout",
     "output_type": "stream",
     "text": [
      "7\n",
      "6\n"
     ]
    }
   ],
   "source": [
    "# 138\n",
    "my_list = [3, 1, 7, 10, 5, 6]\n",
    "for i in my_list:\n",
    "    if i > 5 and i < 10:\n",
    "        print(i)"
   ]
  },
  {
   "cell_type": "code",
   "execution_count": 33,
   "metadata": {},
   "outputs": [
    {
     "name": "stdout",
     "output_type": "stream",
     "text": [
      "7\n",
      "6\n"
     ]
    }
   ],
   "source": [
    "for i in my_list:\n",
    "    if 5 < i < 10:\n",
    "        print(i)"
   ]
  },
  {
   "cell_type": "code",
   "execution_count": 28,
   "metadata": {},
   "outputs": [
    {
     "name": "stdout",
     "output_type": "stream",
     "text": [
      "12\n",
      "18\n"
     ]
    }
   ],
   "source": [
    "# 139\n",
    "my_list = [13, 21, 12, 14, 30, 18]\n",
    "for i in my_list:\n",
    "    if (i > 10) and (i < 20) and (i % 3 == 0):\n",
    "        print(i)"
   ]
  },
  {
   "cell_type": "code",
   "execution_count": 29,
   "metadata": {},
   "outputs": [
    {
     "name": "stdout",
     "output_type": "stream",
     "text": [
      "3\n",
      "12\n",
      "16\n"
     ]
    }
   ],
   "source": [
    "# 140\n",
    "my_list = [3, 1, 7, 12, 5, 16]\n",
    "for i in my_list:\n",
    "    if (i % 3 == 0) or (i % 4 == 0):\n",
    "        print(i)"
   ]
  },
  {
   "cell_type": "code",
   "execution_count": 39,
   "metadata": {},
   "outputs": [
    {
     "name": "stdout",
     "output_type": "stream",
     "text": [
      "A\n",
      "D\n"
     ]
    }
   ],
   "source": [
    "# 141\n",
    "my_list = ['A', 'b', 'c', 'D']\n",
    "for i in my_list:\n",
    "    if i.isupper():\n",
    "        print(i)"
   ]
  },
  {
   "cell_type": "code",
   "execution_count": 40,
   "metadata": {},
   "outputs": [
    {
     "name": "stdout",
     "output_type": "stream",
     "text": [
      "b\n",
      "c\n"
     ]
    }
   ],
   "source": [
    "# 142\n",
    "my_list = ['A', 'b', 'c', 'D']\n",
    "for i in my_list:\n",
    "    if i.islower():\n",
    "        print(i)"
   ]
  },
  {
   "cell_type": "code",
   "execution_count": 42,
   "metadata": {},
   "outputs": [
    {
     "name": "stdout",
     "output_type": "stream",
     "text": [
      "aBCd"
     ]
    }
   ],
   "source": [
    "# 143\n",
    "my_list = ['A', 'b', 'c', 'D']\n",
    "for i in my_list:\n",
    "    if i.isupper():\n",
    "        print(i.lower(), end='')\n",
    "    else:\n",
    "        print(i.upper(), end='')"
   ]
  },
  {
   "cell_type": "code",
   "execution_count": 43,
   "metadata": {},
   "outputs": [
    {
     "name": "stdout",
     "output_type": "stream",
     "text": [
      "hello\n",
      "ex01\n",
      "ch02\n",
      "intro\n"
     ]
    }
   ],
   "source": [
    "# 144\n",
    "file_list = ['hello.py', 'ex01.py', 'ch02.py', 'intro.hwp']\n",
    "for i in file_list:\n",
    "    file_name = i.split('.')[0]\n",
    "    print(file_name)"
   ]
  },
  {
   "cell_type": "code",
   "execution_count": 56,
   "metadata": {
    "scrolled": true
   },
   "outputs": [
    {
     "name": "stdout",
     "output_type": "stream",
     "text": [
      "intra.h\n",
      "define.h\n"
     ]
    }
   ],
   "source": [
    "# 145\n",
    "filenames = ['intra.h', 'intra.c', 'define.h', 'run.py']\n",
    "for i in filenames:\n",
    "    if i.split('.')[1] == 'h':\n",
    "        print(i)"
   ]
  },
  {
   "cell_type": "code",
   "execution_count": 57,
   "metadata": {},
   "outputs": [
    {
     "name": "stdout",
     "output_type": "stream",
     "text": [
      "intra.h\n",
      "define.h\n"
     ]
    }
   ],
   "source": [
    "for i in filenames:\n",
    "    if i.endswith('h'):\n",
    "        print(i)"
   ]
  },
  {
   "cell_type": "code",
   "execution_count": 58,
   "metadata": {},
   "outputs": [
    {
     "name": "stdout",
     "output_type": "stream",
     "text": [
      "intra.h\n",
      "intra.c\n",
      "define.h\n"
     ]
    }
   ],
   "source": [
    "# 146\n",
    "filenames = ['intra.h', 'intra.c', 'define.h', 'run.py']\n",
    "for i in filenames:\n",
    "    if i.split('.')[1] == 'h':\n",
    "        print(i)\n",
    "    elif i.split('.')[1] == 'c':\n",
    "        print(i)"
   ]
  },
  {
   "cell_type": "code",
   "execution_count": 59,
   "metadata": {},
   "outputs": [
    {
     "name": "stdout",
     "output_type": "stream",
     "text": [
      "intra.h\n",
      "intra.c\n",
      "define.h\n"
     ]
    }
   ],
   "source": [
    "for i in filenames:\n",
    "    if i.endswith(('h', 'c')):\n",
    "        print(i)"
   ]
  },
  {
   "cell_type": "code",
   "execution_count": 50,
   "metadata": {},
   "outputs": [
    {
     "data": {
      "text/plain": [
       "[3, 44]"
      ]
     },
     "execution_count": 50,
     "metadata": {},
     "output_type": "execute_result"
    }
   ],
   "source": [
    "# 147\n",
    "my_list = [3, -20, -3, 44]\n",
    "new_list = []\n",
    "for i in my_list:\n",
    "    if i > 0:\n",
    "        new_list.append(i)\n",
    "        \n",
    "new_list"
   ]
  },
  {
   "cell_type": "code",
   "execution_count": 52,
   "metadata": {},
   "outputs": [
    {
     "data": {
      "text/plain": [
       "['A', 'D']"
      ]
     },
     "execution_count": 52,
     "metadata": {},
     "output_type": "execute_result"
    }
   ],
   "source": [
    "# 148\n",
    "my_list = ['A', 'b', 'c', 'D']\n",
    "upper_list = []\n",
    "for i in my_list:\n",
    "    if i.isupper():\n",
    "        upper_list.append(i)\n",
    "        \n",
    "upper_list"
   ]
  },
  {
   "cell_type": "code",
   "execution_count": 54,
   "metadata": {},
   "outputs": [
    {
     "data": {
      "text/plain": [
       "[3, 4, 5, 6]"
      ]
     },
     "execution_count": 54,
     "metadata": {},
     "output_type": "execute_result"
    }
   ],
   "source": [
    "# 149\n",
    "my_list = [3, 4, 4, 5, 6, 6]\n",
    "sole_list = []\n",
    "for i in my_list:\n",
    "    if i not in sole_list:\n",
    "        sole_list.append(i)\n",
    "sole_list"
   ]
  },
  {
   "cell_type": "code",
   "execution_count": 55,
   "metadata": {},
   "outputs": [
    {
     "data": {
      "text/plain": [
       "12"
      ]
     },
     "execution_count": 55,
     "metadata": {},
     "output_type": "execute_result"
    }
   ],
   "source": [
    "# 150\n",
    "my_list = [3, 4, 5]\n",
    "sum = 0\n",
    "for i in my_list:\n",
    "    sum += i\n",
    "sum"
   ]
  }
 ],
 "metadata": {
  "kernelspec": {
   "display_name": "Python 3",
   "language": "python",
   "name": "python3"
  },
  "language_info": {
   "codemirror_mode": {
    "name": "ipython",
    "version": 3
   },
   "file_extension": ".py",
   "mimetype": "text/x-python",
   "name": "python",
   "nbconvert_exporter": "python",
   "pygments_lexer": "ipython3",
   "version": "3.7.4"
  }
 },
 "nbformat": 4,
 "nbformat_minor": 2
}
