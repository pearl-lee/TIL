{
 "cells": [
  {
   "cell_type": "code",
   "execution_count": 1,
   "metadata": {},
   "outputs": [
    {
     "data": {
      "text/plain": [
       "(bool, bool)"
      ]
     },
     "execution_count": 1,
     "metadata": {},
     "output_type": "execute_result"
    }
   ],
   "source": [
    "# 091\n",
    "type(True), type(False)\n",
    "# boolean"
   ]
  },
  {
   "cell_type": "code",
   "execution_count": 2,
   "metadata": {},
   "outputs": [
    {
     "name": "stdout",
     "output_type": "stream",
     "text": [
      "False\n"
     ]
    }
   ],
   "source": [
    "# 092\n",
    "print(3 == 5)\n",
    "# False"
   ]
  },
  {
   "cell_type": "code",
   "execution_count": 3,
   "metadata": {},
   "outputs": [
    {
     "name": "stdout",
     "output_type": "stream",
     "text": [
      "True\n"
     ]
    }
   ],
   "source": [
    "# 093\n",
    "print(3 < 5)\n",
    "# True"
   ]
  },
  {
   "cell_type": "code",
   "execution_count": 4,
   "metadata": {},
   "outputs": [
    {
     "name": "stdout",
     "output_type": "stream",
     "text": [
      "True\n"
     ]
    }
   ],
   "source": [
    "# 094\n",
    "x = 4\n",
    "print(1 < x < 5)\n",
    "# True"
   ]
  },
  {
   "cell_type": "code",
   "execution_count": 5,
   "metadata": {},
   "outputs": [
    {
     "name": "stdout",
     "output_type": "stream",
     "text": [
      "True\n"
     ]
    }
   ],
   "source": [
    "# 095\n",
    "print((3 == 3) and (4 != 3))\n",
    "# True"
   ]
  },
  {
   "cell_type": "code",
   "execution_count": 7,
   "metadata": {},
   "outputs": [
    {
     "name": "stdout",
     "output_type": "stream",
     "text": [
      "False\n"
     ]
    }
   ],
   "source": [
    "# 096\n",
    "# print(3 => 4)\n",
    "print(3 >= 4)"
   ]
  },
  {
   "cell_type": "code",
   "execution_count": 8,
   "metadata": {},
   "outputs": [],
   "source": [
    "# 097\n",
    "if 4 < 3:\n",
    "    print(\"Hello World\")\n",
    "    \n",
    "# 아무것도 출력 안됨"
   ]
  },
  {
   "cell_type": "code",
   "execution_count": 9,
   "metadata": {},
   "outputs": [
    {
     "name": "stdout",
     "output_type": "stream",
     "text": [
      "Hi, there.\n"
     ]
    }
   ],
   "source": [
    "# 098\n",
    "if 4 < 3:\n",
    "    print(\"Hello World\")\n",
    "else:\n",
    "    print(\"Hi, there.\")\n",
    "    \n",
    "# Hi, there."
   ]
  },
  {
   "cell_type": "code",
   "execution_count": 11,
   "metadata": {},
   "outputs": [
    {
     "name": "stdout",
     "output_type": "stream",
     "text": [
      "1\n",
      "2\n",
      "4\n"
     ]
    }
   ],
   "source": [
    "# 099\n",
    "if True:\n",
    "    print(\"1\")\n",
    "    print(\"2\")\n",
    "else:\n",
    "    print(\"3\")\n",
    "print(\"4\")\n",
    "\n",
    "# 1\n",
    "# 2\n",
    "# 4"
   ]
  },
  {
   "cell_type": "code",
   "execution_count": 12,
   "metadata": {},
   "outputs": [
    {
     "name": "stdout",
     "output_type": "stream",
     "text": [
      "3\n",
      "5\n"
     ]
    }
   ],
   "source": [
    "# 100\n",
    "if True:\n",
    "    if False:\n",
    "        print(\"1\")\n",
    "        print(\"2\")\n",
    "    else:\n",
    "        print(\"3\")\n",
    "else:\n",
    "    print(\"4\")\n",
    "print(\"5\")\n",
    "\n",
    "# 3\n",
    "# 5"
   ]
  },
  {
   "cell_type": "code",
   "execution_count": 14,
   "metadata": {},
   "outputs": [
    {
     "name": "stdout",
     "output_type": "stream",
     "text": [
      "안녕하세요\n",
      "안녕하세요안녕하세요\n"
     ]
    }
   ],
   "source": [
    "# 101\n",
    "s = input()\n",
    "print(s * 2)"
   ]
  },
  {
   "cell_type": "code",
   "execution_count": 15,
   "metadata": {},
   "outputs": [
    {
     "name": "stdout",
     "output_type": "stream",
     "text": [
      "숫자를 입력하세요: 30\n",
      "40\n"
     ]
    }
   ],
   "source": [
    "# 102\n",
    "n = int(input(\"숫자를 입력하세요: \"))\n",
    "print(n + 10)"
   ]
  },
  {
   "cell_type": "code",
   "execution_count": 17,
   "metadata": {},
   "outputs": [
    {
     "name": "stdout",
     "output_type": "stream",
     "text": [
      "40\n",
      "짝수\n"
     ]
    }
   ],
   "source": [
    "# 103\n",
    "n = int(input())\n",
    "print('홀수' if n % 2 else '짝수')"
   ]
  },
  {
   "cell_type": "code",
   "execution_count": 27,
   "metadata": {},
   "outputs": [
    {
     "name": "stdout",
     "output_type": "stream",
     "text": [
      "입력값: 33\n",
      "출력값 : 53\n"
     ]
    }
   ],
   "source": [
    "# 104\n",
    "num = int(input('입력값: '))\n",
    "print('출력값 :', num + 20 if num <= 255 else 255)"
   ]
  },
  {
   "cell_type": "code",
   "execution_count": 50,
   "metadata": {},
   "outputs": [
    {
     "name": "stdout",
     "output_type": "stream",
     "text": [
      "입력값: 49\n",
      "출력값:  69\n"
     ]
    }
   ],
   "source": [
    "num = int(input(\"입력값: \"))\n",
    "print(\"출력값: \", min(num + 20, 255))"
   ]
  },
  {
   "cell_type": "code",
   "execution_count": 33,
   "metadata": {},
   "outputs": [
    {
     "name": "stdout",
     "output_type": "stream",
     "text": [
      "입력값: 300\n",
      "출력값:  0\n"
     ]
    }
   ],
   "source": [
    "# 105\n",
    "num = int(input('입력값: '))\n",
    "print('출력값: ', num - 20 if (num - 20 >= 0) and (num - 20 <= 255) else 0)"
   ]
  },
  {
   "cell_type": "code",
   "execution_count": 52,
   "metadata": {},
   "outputs": [
    {
     "name": "stdout",
     "output_type": "stream",
     "text": [
      "입력값: 10\n",
      "출력값:  0\n"
     ]
    }
   ],
   "source": [
    "num = int(input(\"입력값: \"))\n",
    "print(\"출력값: \", max(num - 20, 0))"
   ]
  },
  {
   "cell_type": "code",
   "execution_count": 53,
   "metadata": {},
   "outputs": [
    {
     "name": "stdout",
     "output_type": "stream",
     "text": [
      "현재시간: 1:45\n",
      "정각이 아닙니다\n"
     ]
    }
   ],
   "source": [
    "# 106\n",
    "time = input(\"현재시간: \")\n",
    "print('정각 입니다' if time[-2:] == 0 else '정각이 아닙니다')"
   ]
  },
  {
   "cell_type": "code",
   "execution_count": 39,
   "metadata": {},
   "outputs": [
    {
     "name": "stdout",
     "output_type": "stream",
     "text": [
      "좋아하는 과일은? 딸기\n",
      "오답입니다.\n"
     ]
    }
   ],
   "source": [
    "# 107\n",
    "fruit = ['사과', '포도', '홍시']\n",
    "f = input('좋아하는 과일은? ')\n",
    "print('정답입니다.' if f in fruit else '오답입니다.')"
   ]
  },
  {
   "cell_type": "code",
   "execution_count": 41,
   "metadata": {},
   "outputs": [
    {
     "name": "stdout",
     "output_type": "stream",
     "text": [
      "투자 종목명: lenovo\n",
      "투자 경고 종목이 아닙니다\n"
     ]
    }
   ],
   "source": [
    "# 108\n",
    "warn_investment_list = [\"Microsoft\", \"Google\", \"Naver\", \"Kakao\", \"SAMSUNG\", \"LG\"]\n",
    "invest = input(\"투자 종목명: \")\n",
    "print('투자 경고 종목입니다' if invest in warn_investment_list else '투자 경고 종목이 아닙니다')"
   ]
  },
  {
   "cell_type": "code",
   "execution_count": 43,
   "metadata": {},
   "outputs": [
    {
     "name": "stdout",
     "output_type": "stream",
     "text": [
      "제가 좋아하는 계절은: 겨울\n",
      "오답입니다\n"
     ]
    }
   ],
   "source": [
    "# 109\n",
    "fruit = {\"봄\" : \"딸기\", \"여름\" : \"토마토\", \"가을\" : \"사과\"}\n",
    "season = input(\"제가 좋아하는 계절은: \")\n",
    "print('정답입니다' if season in fruit.keys() else '오답입니다')"
   ]
  },
  {
   "cell_type": "code",
   "execution_count": 46,
   "metadata": {},
   "outputs": [
    {
     "name": "stdout",
     "output_type": "stream",
     "text": [
      "좋아하는 과일은? 한라봉\n",
      "오답입니다\n"
     ]
    }
   ],
   "source": [
    "# 110\n",
    "fru = input(\"좋아하는 과일은? \")\n",
    "print('정답입니다' if fru in fruit.values() else '오답입니다')"
   ]
  },
  {
   "cell_type": "code",
   "execution_count": 55,
   "metadata": {},
   "outputs": [
    {
     "name": "stdout",
     "output_type": "stream",
     "text": [
      "A\n",
      "A\n"
     ]
    }
   ],
   "source": [
    "# 111\n",
    "string = input()\n",
    "print(string.upper() if string.islower() else string)"
   ]
  },
  {
   "cell_type": "code",
   "execution_count": 59,
   "metadata": {},
   "outputs": [
    {
     "name": "stdout",
     "output_type": "stream",
     "text": [
      "83\n",
      "grade is A\n"
     ]
    }
   ],
   "source": [
    "# 112\n",
    "score = int(input())\n",
    "if score > 80:\n",
    "    print(\"grade is A\")\n",
    "elif score > 60:\n",
    "    print(\"grade is B\")\n",
    "elif score > 40:\n",
    "    print(\"grade is C\")\n",
    "elif score > 20:\n",
    "    print(\"grade is D\")\n",
    "else:\n",
    "    print(\"grade is E\")"
   ]
  },
  {
   "cell_type": "code",
   "execution_count": 47,
   "metadata": {},
   "outputs": [
    {
     "name": "stdout",
     "output_type": "stream",
     "text": [
      "입력: 220 달러\n",
      "256740 원\n"
     ]
    }
   ],
   "source": [
    "# 113\n",
    "money = input('입력: ')\n",
    "if money.split(' ')[1] == '달러':\n",
    "    print(int(money.split(' ')[0]) * 1167, '원')\n",
    "elif money.split(' ')[1] == '엔':\n",
    "    print(int(money.split(' ')[0]) * 1.096, '원')\n",
    "elif money.split(' ')[1] == '유로':\n",
    "    print(int(money.split(' ')[0]) * 1268, '원')\n",
    "else:\n",
    "    print(int(money.split(' ')[0]) * 171, '원')"
   ]
  },
  {
   "cell_type": "code",
   "execution_count": 50,
   "metadata": {},
   "outputs": [
    {
     "data": {
      "text/plain": [
       "('220', '달러')"
      ]
     },
     "execution_count": 50,
     "metadata": {},
     "output_type": "execute_result"
    }
   ],
   "source": [
    "account, currency = money.split()\n",
    "account, currency"
   ]
  },
  {
   "cell_type": "code",
   "execution_count": null,
   "metadata": {},
   "outputs": [],
   "source": [
    "# 114\n",
    "num1 = int(input('input number1: '))\n",
    "num2 = int(input('input number1: '))\n",
    "num1 = int(input('input number1: '))"
   ]
  },
  {
   "cell_type": "code",
   "execution_count": 1,
   "metadata": {},
   "outputs": [
    {
     "name": "stdout",
     "output_type": "stream",
     "text": [
      "휴대전화 번호 입력: 010-64236098\n",
      "알수없음\n"
     ]
    }
   ],
   "source": [
    "# 115\n",
    "phone = input(\"휴대전화 번호 입력: \")\n",
    "if phone.split('-') == '011':\n",
    "    print(\"당신은 SKT 사용자입니다\")\n",
    "elif phone.split('-') == '016':\n",
    "    print(\"당신은 KT 사용자입니다\")\n",
    "elif phone.split('-') == '019':\n",
    "    print(\"당신은 LGU 사용자입니다\")\n",
    "else:\n",
    "    print(\"알수없음\")"
   ]
  },
  {
   "cell_type": "code",
   "execution_count": 6,
   "metadata": {},
   "outputs": [
    {
     "name": "stdout",
     "output_type": "stream",
     "text": [
      "우편번호: 01400\n",
      "도봉구\n"
     ]
    }
   ],
   "source": [
    "# 116\n",
    "pn = input('우편번호: ')\n",
    "if int(pn[2]) < 3:\n",
    "    print('강북구')\n",
    "elif int(pn[2]) < 6:\n",
    "    print('도봉구')\n",
    "else:\n",
    "    print('노원구')"
   ]
  },
  {
   "cell_type": "code",
   "execution_count": 51,
   "metadata": {},
   "outputs": [
    {
     "name": "stdout",
     "output_type": "stream",
     "text": [
      "우편번호: 02500\n",
      "도봉구\n"
     ]
    }
   ],
   "source": [
    "zipcode = input(\"우편번호: \")\n",
    "if zipcode[2] in '012':\n",
    "    print(\"강북구\")\n",
    "elif zipcode[2] in '345':\n",
    "    print('도봉구')\n",
    "else:\n",
    "    print('노원구')"
   ]
  },
  {
   "cell_type": "code",
   "execution_count": 8,
   "metadata": {},
   "outputs": [
    {
     "name": "stdout",
     "output_type": "stream",
     "text": [
      "주민등록번호: 999999-1234567\n",
      "남자\n"
     ]
    }
   ],
   "source": [
    "# 117\n",
    "identity = input('주민등록번호: ')\n",
    "if int(identity[-7]) % 2:\n",
    "    print('남자')\n",
    "else: \n",
    "    print('여자')"
   ]
  },
  {
   "cell_type": "code",
   "execution_count": 11,
   "metadata": {},
   "outputs": [
    {
     "data": {
      "text/plain": [
       "23"
      ]
     },
     "execution_count": 11,
     "metadata": {},
     "output_type": "execute_result"
    }
   ],
   "source": [
    "identity[-7]\n",
    "# len(identity)\n",
    "# identity[7]\n",
    "int(identity[8:10])"
   ]
  },
  {
   "cell_type": "code",
   "execution_count": 12,
   "metadata": {},
   "outputs": [
    {
     "name": "stdout",
     "output_type": "stream",
     "text": [
      "주민등록번호: 999999-1234567\n",
      "서울이 아닙니다\n"
     ]
    }
   ],
   "source": [
    "# 118\n",
    "identity = input('주민등록번호: ')\n",
    "if int(identity[8:10]) <= 8:\n",
    "    print(\"서울 입니다\")\n",
    "else:\n",
    "    print('서울이 아닙니다')"
   ]
  },
  {
   "cell_type": "code",
   "execution_count": 44,
   "metadata": {},
   "outputs": [
    {
     "name": "stdout",
     "output_type": "stream",
     "text": [
      "1\n",
      "10\n",
      "9\n",
      "유효하지 않은 주민등록번호입니다.\n"
     ]
    }
   ],
   "source": [
    "# 119\n",
    "# identity = input('주민등록번호: ')\n",
    "identity = '930105-2079419'\n",
    "il = list(identity.replace('-', ''))\n",
    "# len(il) # 13\n",
    "sum = 0\n",
    "for i in range(len(il)):\n",
    "    if i+2 <= 9:\n",
    "        sum += int(il[i]) * (i+2)\n",
    "        i += 1\n",
    "    else:\n",
    "        sum += int(il[i]) * (i-6)\n",
    "\n",
    "if int(identity[-1]) == 11 - sum % 11:\n",
    "    print(\"유효한 주민등록번호 입니다\")\n",
    "else:\n",
    "    print(\"유효하지 않은 주민등록번호입니다.\")"
   ]
  },
  {
   "cell_type": "code",
   "execution_count": 29,
   "metadata": {},
   "outputs": [
    {
     "data": {
      "text/plain": [
       "range(0, 13)"
      ]
     },
     "execution_count": 29,
     "metadata": {},
     "output_type": "execute_result"
    }
   ],
   "source": [
    "range(len(il))"
   ]
  },
  {
   "cell_type": "code",
   "execution_count": 14,
   "metadata": {},
   "outputs": [
    {
     "name": "stdout",
     "output_type": "stream",
     "text": [
      "하락장\n"
     ]
    }
   ],
   "source": [
    "# 120\n",
    "import requests\n",
    "btc = requests.get(\"https://api.bithumb.com/public/ticker/\").json()['data']\n",
    "dx = int(btc['closing_price']) - int(btc['opening_price'])\n",
    "op = int(btc['opening_price'])\n",
    "mp = int(btc['max_price'])\n",
    "if op + dx > mp:\n",
    "    print(\"상승장\")\n",
    "else:\n",
    "    print(\"하락장\")"
   ]
  }
 ],
 "metadata": {
  "kernelspec": {
   "display_name": "Python 3",
   "language": "python",
   "name": "python3"
  },
  "language_info": {
   "codemirror_mode": {
    "name": "ipython",
    "version": 3
   },
   "file_extension": ".py",
   "mimetype": "text/x-python",
   "name": "python",
   "nbconvert_exporter": "python",
   "pygments_lexer": "ipython3",
   "version": "3.7.4"
  }
 },
 "nbformat": 4,
 "nbformat_minor": 2
}
