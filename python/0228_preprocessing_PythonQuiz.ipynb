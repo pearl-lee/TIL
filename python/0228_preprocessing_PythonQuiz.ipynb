{
 "cells": [
  {
   "cell_type": "markdown",
   "metadata": {},
   "source": [
    "#### 주어진 날짜별 코스피 상장사 주가 데이터(kospi.csv)에서 아래의 문항에 맞는 코드를 작성하세요."
   ]
  },
  {
   "cell_type": "markdown",
   "metadata": {},
   "source": [
    "#### (1) kospi_df의 변수 이름으로 csv파일을 데이터 프레임으로 불러오세요."
   ]
  },
  {
   "cell_type": "code",
   "execution_count": 1,
   "metadata": {},
   "outputs": [
    {
     "data": {
      "text/html": [
       "<div>\n",
       "<style scoped>\n",
       "    .dataframe tbody tr th:only-of-type {\n",
       "        vertical-align: middle;\n",
       "    }\n",
       "\n",
       "    .dataframe tbody tr th {\n",
       "        vertical-align: top;\n",
       "    }\n",
       "\n",
       "    .dataframe thead th {\n",
       "        text-align: right;\n",
       "    }\n",
       "</style>\n",
       "<table border=\"1\" class=\"dataframe\">\n",
       "  <thead>\n",
       "    <tr style=\"text-align: right;\">\n",
       "      <th></th>\n",
       "      <th>aq</th>\n",
       "      <th>cr</th>\n",
       "      <th>cv</th>\n",
       "      <th>dt</th>\n",
       "      <th>hv</th>\n",
       "      <th>lv</th>\n",
       "      <th>ncv</th>\n",
       "      <th>ov</th>\n",
       "      <th>rf</th>\n",
       "      <th>name</th>\n",
       "    </tr>\n",
       "  </thead>\n",
       "  <tbody>\n",
       "    <tr>\n",
       "      <td>9998</td>\n",
       "      <td>1053114</td>\n",
       "      <td>0.763359</td>\n",
       "      <td>40</td>\n",
       "      <td>20190718</td>\n",
       "      <td>5340.0</td>\n",
       "      <td>5240.0</td>\n",
       "      <td>5280</td>\n",
       "      <td>5240.0</td>\n",
       "      <td>2</td>\n",
       "      <td>메리츠종금증권</td>\n",
       "    </tr>\n",
       "    <tr>\n",
       "      <td>9999</td>\n",
       "      <td>1146495</td>\n",
       "      <td>-0.380228</td>\n",
       "      <td>-20</td>\n",
       "      <td>20190717</td>\n",
       "      <td>5350.0</td>\n",
       "      <td>5220.0</td>\n",
       "      <td>5240</td>\n",
       "      <td>5260.0</td>\n",
       "      <td>5</td>\n",
       "      <td>메리츠종금증권</td>\n",
       "    </tr>\n",
       "  </tbody>\n",
       "</table>\n",
       "</div>"
      ],
      "text/plain": [
       "           aq        cr  cv        dt      hv      lv   ncv      ov  rf  \\\n",
       "9998  1053114  0.763359  40  20190718  5340.0  5240.0  5280  5240.0   2   \n",
       "9999  1146495 -0.380228 -20  20190717  5350.0  5220.0  5240  5260.0   5   \n",
       "\n",
       "         name  \n",
       "9998  메리츠종금증권  \n",
       "9999  메리츠종금증권  "
      ]
     },
     "execution_count": 1,
     "metadata": {},
     "output_type": "execute_result"
    }
   ],
   "source": [
    "kospi_df = pd.read_csv('kospi.csv')\n",
    "kospi_df.tail(2)"
   ]
  },
  {
   "cell_type": "code",
   "execution_count": 8,
   "metadata": {},
   "outputs": [
    {
     "name": "stdout",
     "output_type": "stream",
     "text": [
      "<class 'pandas.core.frame.DataFrame'>\n",
      "RangeIndex: 10000 entries, 0 to 9999\n",
      "Data columns (total 10 columns):\n",
      "aq      10000 non-null int64\n",
      "cr      10000 non-null float64\n",
      "cv      10000 non-null int64\n",
      "dt      10000 non-null int64\n",
      "hv      10000 non-null float64\n",
      "lv      10000 non-null float64\n",
      "ncv     10000 non-null int64\n",
      "ov      10000 non-null float64\n",
      "rf      10000 non-null int64\n",
      "name    10000 non-null object\n",
      "dtypes: float64(4), int64(5), object(1)\n",
      "memory usage: 781.4+ KB\n"
     ]
    }
   ],
   "source": [
    "kospi_df.info()"
   ]
  },
  {
   "cell_type": "markdown",
   "metadata": {},
   "source": [
    "#### (2) 파일에 있는 유니크한 날짜수(dt)와 기업수(name)를 출력하세요."
   ]
  },
  {
   "cell_type": "code",
   "execution_count": 6,
   "metadata": {},
   "outputs": [
    {
     "name": "stdout",
     "output_type": "stream",
     "text": [
      "유니크한 날짜 수 : 100\n",
      "유니크한 기업 수 : 100\n"
     ]
    }
   ],
   "source": [
    "print(f'유니크한 날짜 수 : {len(pd.unique(kospi_df.dt))}') \n",
    "print(f'유니크한 기업 수 : {len(pd.unique(kospi_df.name))}') "
   ]
  },
  {
   "cell_type": "markdown",
   "metadata": {},
   "source": [
    "#### (3) 2019년 12월 08일 이후의 날짜별 평균 상승률을 소수 셋째자리까지 리스트의 딕셔너리 형태로 데이터를 출력하세요. (dt: 날짜, cr: 상승률)\n",
    "\n",
    "(출력 포맷 예시: [{'dt':20191109, 'cr':-1.234}, {'dt':20191110, 'cr':5.512}]"
   ]
  },
  {
   "cell_type": "code",
   "execution_count": 138,
   "metadata": {},
   "outputs": [],
   "source": [
    "df1 = kospi_df[kospi_df.dt > 20191208].groupby('dt').mean()\n",
    "df1 = df1.reset_index()[['dt', 'cr']]\n",
    "df1['cr'] = round(df1.cr, 3)"
   ]
  },
  {
   "cell_type": "code",
   "execution_count": 139,
   "metadata": {},
   "outputs": [
    {
     "data": {
      "text/plain": [
       "[{'dt': 20191209, 'cr': -0.041}, {'dt': 20191210, 'cr': 0.545}]"
      ]
     },
     "execution_count": 139,
     "metadata": {},
     "output_type": "execute_result"
    }
   ],
   "source": [
    "df1.to_dict('records')"
   ]
  },
  {
   "cell_type": "markdown",
   "metadata": {},
   "source": [
    "#### (4) 2019년 10월 21일 상승률 상위 5개 회사를 출력하세요. (cr: 상승률)"
   ]
  },
  {
   "cell_type": "code",
   "execution_count": 141,
   "metadata": {},
   "outputs": [
    {
     "data": {
      "text/plain": [
       "['LG디스플레이', '엔씨소프트', '오리온', '삼성전기', 'CJ제일제당']"
      ]
     },
     "execution_count": 141,
     "metadata": {},
     "output_type": "execute_result"
    }
   ],
   "source": [
    "df2 = kospi_df[kospi_df.dt == 20191021].sort_values(by='cr', ascending=False)\n",
    "top5_list = list(df2.head().name)\n",
    "top5_list"
   ]
  },
  {
   "cell_type": "code",
   "execution_count": 83,
   "metadata": {},
   "outputs": [
    {
     "data": {
      "text/html": [
       "<div>\n",
       "<style scoped>\n",
       "    .dataframe tbody tr th:only-of-type {\n",
       "        vertical-align: middle;\n",
       "    }\n",
       "\n",
       "    .dataframe tbody tr th {\n",
       "        vertical-align: top;\n",
       "    }\n",
       "\n",
       "    .dataframe thead th {\n",
       "        text-align: right;\n",
       "    }\n",
       "</style>\n",
       "<table border=\"1\" class=\"dataframe\">\n",
       "  <thead>\n",
       "    <tr style=\"text-align: right;\">\n",
       "      <th></th>\n",
       "      <th>aq</th>\n",
       "      <th>cr</th>\n",
       "      <th>cv</th>\n",
       "      <th>dt</th>\n",
       "      <th>hv</th>\n",
       "      <th>lv</th>\n",
       "      <th>ncv</th>\n",
       "      <th>ov</th>\n",
       "      <th>rf</th>\n",
       "      <th>name</th>\n",
       "    </tr>\n",
       "  </thead>\n",
       "  <tbody>\n",
       "    <tr>\n",
       "      <td>5536</td>\n",
       "      <td>472459</td>\n",
       "      <td>-2.486188</td>\n",
       "      <td>-900</td>\n",
       "      <td>20191021</td>\n",
       "      <td>36250.0</td>\n",
       "      <td>35250.0</td>\n",
       "      <td>35300</td>\n",
       "      <td>36250.0</td>\n",
       "      <td>5</td>\n",
       "      <td>현대제철</td>\n",
       "    </tr>\n",
       "    <tr>\n",
       "      <td>6236</td>\n",
       "      <td>114854</td>\n",
       "      <td>-2.594034</td>\n",
       "      <td>-1000</td>\n",
       "      <td>20191021</td>\n",
       "      <td>38900.0</td>\n",
       "      <td>37500.0</td>\n",
       "      <td>37550</td>\n",
       "      <td>38600.0</td>\n",
       "      <td>5</td>\n",
       "      <td>롯데지주</td>\n",
       "    </tr>\n",
       "  </tbody>\n",
       "</table>\n",
       "</div>"
      ],
      "text/plain": [
       "          aq        cr    cv        dt       hv       lv    ncv       ov  rf  \\\n",
       "5536  472459 -2.486188  -900  20191021  36250.0  35250.0  35300  36250.0   5   \n",
       "6236  114854 -2.594034 -1000  20191021  38900.0  37500.0  37550  38600.0   5   \n",
       "\n",
       "      name  \n",
       "5536  현대제철  \n",
       "6236  롯데지주  "
      ]
     },
     "execution_count": 83,
     "metadata": {},
     "output_type": "execute_result"
    }
   ],
   "source": [
    "df2.tail(2)"
   ]
  },
  {
   "cell_type": "markdown",
   "metadata": {},
   "source": [
    "#### (5) 2019년 11월 30일에서 2019년 12월 5일까지 일별 상승률 상위 5개 회사의 평균 상승률을 소수점 셋째 자리까지 출력하세요. (cr: 상승률)"
   ]
  },
  {
   "cell_type": "code",
   "execution_count": 164,
   "metadata": {},
   "outputs": [
    {
     "data": {
      "text/plain": [
       "2.901"
      ]
     },
     "execution_count": 164,
     "metadata": {},
     "output_type": "execute_result"
    }
   ],
   "source": [
    "df4 = kospi_df[(kospi_df.dt >= 20191130) & (kospi_df.dt <= 20191205)]\n",
    "df4 = df4.sort_values(['dt', 'cr'], ascending=False)[['dt', 'name', 'cr']]\n",
    "df4 = df4.groupby('dt').head(5)\n",
    "np.round(np.average(df4.cr), 3)"
   ]
  },
  {
   "cell_type": "markdown",
   "metadata": {},
   "source": [
    "#### (6) 전체 기간에서 평균 등락이 높은 3개의 회사이름과 평균 등락수치를 출력하세요. (cv: 등락)"
   ]
  },
  {
   "cell_type": "code",
   "execution_count": 96,
   "metadata": {},
   "outputs": [
    {
     "data": {
      "text/html": [
       "<div>\n",
       "<style scoped>\n",
       "    .dataframe tbody tr th:only-of-type {\n",
       "        vertical-align: middle;\n",
       "    }\n",
       "\n",
       "    .dataframe tbody tr th {\n",
       "        vertical-align: top;\n",
       "    }\n",
       "\n",
       "    .dataframe thead th {\n",
       "        text-align: right;\n",
       "    }\n",
       "</style>\n",
       "<table border=\"1\" class=\"dataframe\">\n",
       "  <thead>\n",
       "    <tr style=\"text-align: right;\">\n",
       "      <th></th>\n",
       "      <th>cv</th>\n",
       "    </tr>\n",
       "    <tr>\n",
       "      <th>name</th>\n",
       "      <th></th>\n",
       "    </tr>\n",
       "  </thead>\n",
       "  <tbody>\n",
       "    <tr>\n",
       "      <td>삼성바이오로직스</td>\n",
       "      <td>945.0</td>\n",
       "    </tr>\n",
       "    <tr>\n",
       "      <td>NAVER</td>\n",
       "      <td>545.0</td>\n",
       "    </tr>\n",
       "    <tr>\n",
       "      <td>엔씨소프트</td>\n",
       "      <td>400.0</td>\n",
       "    </tr>\n",
       "  </tbody>\n",
       "</table>\n",
       "</div>"
      ],
      "text/plain": [
       "             cv\n",
       "name           \n",
       "삼성바이오로직스  945.0\n",
       "NAVER     545.0\n",
       "엔씨소프트     400.0"
      ]
     },
     "execution_count": 96,
     "metadata": {},
     "output_type": "execute_result"
    }
   ],
   "source": [
    "pd.DataFrame(kospi_df.groupby(by='name').mean().sort_values(by='cv', ascending=False).head(3)['cv'])"
   ]
  },
  {
   "cell_type": "markdown",
   "metadata": {},
   "source": [
    "#### (7) NAVER와 한국전력의 종가 데이터의 상관계수를 소수 둘째 자리까지 출력하세요. (ncv: 종가)\n",
    "\n",
    "$r =$ $ \\Sigma(x-\\overline{x})(y-\\overline{y}) \\over \\sqrt{\\Sigma(x-\\overline{x})^2\\Sigma(y-\\overline{y})^2}$"
   ]
  },
  {
   "cell_type": "code",
   "execution_count": 104,
   "metadata": {},
   "outputs": [],
   "source": [
    "df_naver = kospi_df[kospi_df.name == 'NAVER']\n",
    "df_kepco = kospi_df[kospi_df.name == '한국전력']"
   ]
  },
  {
   "cell_type": "code",
   "execution_count": 121,
   "metadata": {},
   "outputs": [
    {
     "data": {
      "text/plain": [
       "(153420.0, 26316.0)"
      ]
     },
     "execution_count": 121,
     "metadata": {},
     "output_type": "execute_result"
    }
   ],
   "source": [
    "naver = np.array(df_naver.ncv)\n",
    "n_mean = np.mean(naver)\n",
    "kepco = np.array(df_kepco.ncv)\n",
    "k_mean = np.mean(kepco)\n",
    "n_mean, k_mean"
   ]
  },
  {
   "cell_type": "code",
   "execution_count": 125,
   "metadata": {
    "scrolled": true
   },
   "outputs": [
    {
     "data": {
      "text/plain": [
       "759578000.0"
      ]
     },
     "execution_count": 125,
     "metadata": {},
     "output_type": "execute_result"
    }
   ],
   "source": [
    "np.sum((naver - n_mean) * (kepco - k_mean))"
   ]
  },
  {
   "cell_type": "code",
   "execution_count": 129,
   "metadata": {},
   "outputs": [
    {
     "data": {
      "text/plain": [
       "18759860000.0"
      ]
     },
     "execution_count": 129,
     "metadata": {},
     "output_type": "execute_result"
    }
   ],
   "source": [
    "np.sum((naver - n_mean)**2)"
   ]
  },
  {
   "cell_type": "code",
   "execution_count": 131,
   "metadata": {},
   "outputs": [
    {
     "data": {
      "text/plain": [
       "0.48"
      ]
     },
     "execution_count": 131,
     "metadata": {},
     "output_type": "execute_result"
    }
   ],
   "source": [
    "round(np.sum((naver - n_mean) * (kepco - k_mean))/ np.sqrt(np.sum((naver - n_mean)**2) * np.sum((kepco - k_mean)**2)), 2)"
   ]
  },
  {
   "cell_type": "code",
   "execution_count": null,
   "metadata": {},
   "outputs": [],
   "source": []
  }
 ],
 "metadata": {
  "kernelspec": {
   "display_name": "Python 3",
   "language": "python",
   "name": "python3"
  },
  "language_info": {
   "codemirror_mode": {
    "name": "ipython",
    "version": 3
   },
   "file_extension": ".py",
   "mimetype": "text/x-python",
   "name": "python",
   "nbconvert_exporter": "python",
   "pygments_lexer": "ipython3",
   "version": "3.7.4"
  }
 },
 "nbformat": 4,
 "nbformat_minor": 2
}
