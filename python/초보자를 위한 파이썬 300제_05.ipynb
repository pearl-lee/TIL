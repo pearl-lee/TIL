{
 "cells": [
  {
   "cell_type": "code",
   "execution_count": 1,
   "metadata": {},
   "outputs": [],
   "source": [
    "# 231\n",
    "def print_coin():\n",
    "    print(\"비트코인\")"
   ]
  },
  {
   "cell_type": "code",
   "execution_count": 2,
   "metadata": {},
   "outputs": [
    {
     "name": "stdout",
     "output_type": "stream",
     "text": [
      "비트코인\n"
     ]
    }
   ],
   "source": [
    "# p232\n",
    "print_coin()"
   ]
  },
  {
   "cell_type": "code",
   "execution_count": 3,
   "metadata": {},
   "outputs": [
    {
     "name": "stdout",
     "output_type": "stream",
     "text": [
      "비트코인\n",
      "비트코인\n",
      "비트코인\n",
      "비트코인\n",
      "비트코인\n",
      "비트코인\n",
      "비트코인\n",
      "비트코인\n",
      "비트코인\n",
      "비트코인\n",
      "비트코인\n",
      "비트코인\n",
      "비트코인\n",
      "비트코인\n",
      "비트코인\n",
      "비트코인\n",
      "비트코인\n",
      "비트코인\n",
      "비트코인\n",
      "비트코인\n",
      "비트코인\n",
      "비트코인\n",
      "비트코인\n",
      "비트코인\n",
      "비트코인\n",
      "비트코인\n",
      "비트코인\n",
      "비트코인\n",
      "비트코인\n",
      "비트코인\n",
      "비트코인\n",
      "비트코인\n",
      "비트코인\n",
      "비트코인\n",
      "비트코인\n",
      "비트코인\n",
      "비트코인\n",
      "비트코인\n",
      "비트코인\n",
      "비트코인\n",
      "비트코인\n",
      "비트코인\n",
      "비트코인\n",
      "비트코인\n",
      "비트코인\n",
      "비트코인\n",
      "비트코인\n",
      "비트코인\n",
      "비트코인\n",
      "비트코인\n",
      "비트코인\n",
      "비트코인\n",
      "비트코인\n",
      "비트코인\n",
      "비트코인\n",
      "비트코인\n",
      "비트코인\n",
      "비트코인\n",
      "비트코인\n",
      "비트코인\n",
      "비트코인\n",
      "비트코인\n",
      "비트코인\n",
      "비트코인\n",
      "비트코인\n",
      "비트코인\n",
      "비트코인\n",
      "비트코인\n",
      "비트코인\n",
      "비트코인\n",
      "비트코인\n",
      "비트코인\n",
      "비트코인\n",
      "비트코인\n",
      "비트코인\n",
      "비트코인\n",
      "비트코인\n",
      "비트코인\n",
      "비트코인\n",
      "비트코인\n",
      "비트코인\n",
      "비트코인\n",
      "비트코인\n",
      "비트코인\n",
      "비트코인\n",
      "비트코인\n",
      "비트코인\n",
      "비트코인\n",
      "비트코인\n",
      "비트코인\n",
      "비트코인\n",
      "비트코인\n",
      "비트코인\n",
      "비트코인\n",
      "비트코인\n",
      "비트코인\n",
      "비트코인\n",
      "비트코인\n",
      "비트코인\n",
      "비트코인\n"
     ]
    }
   ],
   "source": [
    "# 233\n",
    "for i in range(100):\n",
    "    print_coin()"
   ]
  },
  {
   "cell_type": "code",
   "execution_count": 7,
   "metadata": {},
   "outputs": [],
   "source": [
    "# 234\n",
    "def print_coins():\n",
    "    for i in range(100):\n",
    "        print('비트코인 보트코인')"
   ]
  },
  {
   "cell_type": "code",
   "execution_count": 8,
   "metadata": {},
   "outputs": [
    {
     "name": "stdout",
     "output_type": "stream",
     "text": [
      "비트코인 보트코인\n",
      "비트코인 보트코인\n",
      "비트코인 보트코인\n",
      "비트코인 보트코인\n",
      "비트코인 보트코인\n",
      "비트코인 보트코인\n",
      "비트코인 보트코인\n",
      "비트코인 보트코인\n",
      "비트코인 보트코인\n",
      "비트코인 보트코인\n",
      "비트코인 보트코인\n",
      "비트코인 보트코인\n",
      "비트코인 보트코인\n",
      "비트코인 보트코인\n",
      "비트코인 보트코인\n",
      "비트코인 보트코인\n",
      "비트코인 보트코인\n",
      "비트코인 보트코인\n",
      "비트코인 보트코인\n",
      "비트코인 보트코인\n",
      "비트코인 보트코인\n",
      "비트코인 보트코인\n",
      "비트코인 보트코인\n",
      "비트코인 보트코인\n",
      "비트코인 보트코인\n",
      "비트코인 보트코인\n",
      "비트코인 보트코인\n",
      "비트코인 보트코인\n",
      "비트코인 보트코인\n",
      "비트코인 보트코인\n",
      "비트코인 보트코인\n",
      "비트코인 보트코인\n",
      "비트코인 보트코인\n",
      "비트코인 보트코인\n",
      "비트코인 보트코인\n",
      "비트코인 보트코인\n",
      "비트코인 보트코인\n",
      "비트코인 보트코인\n",
      "비트코인 보트코인\n",
      "비트코인 보트코인\n",
      "비트코인 보트코인\n",
      "비트코인 보트코인\n",
      "비트코인 보트코인\n",
      "비트코인 보트코인\n",
      "비트코인 보트코인\n",
      "비트코인 보트코인\n",
      "비트코인 보트코인\n",
      "비트코인 보트코인\n",
      "비트코인 보트코인\n",
      "비트코인 보트코인\n",
      "비트코인 보트코인\n",
      "비트코인 보트코인\n",
      "비트코인 보트코인\n",
      "비트코인 보트코인\n",
      "비트코인 보트코인\n",
      "비트코인 보트코인\n",
      "비트코인 보트코인\n",
      "비트코인 보트코인\n",
      "비트코인 보트코인\n",
      "비트코인 보트코인\n",
      "비트코인 보트코인\n",
      "비트코인 보트코인\n",
      "비트코인 보트코인\n",
      "비트코인 보트코인\n",
      "비트코인 보트코인\n",
      "비트코인 보트코인\n",
      "비트코인 보트코인\n",
      "비트코인 보트코인\n",
      "비트코인 보트코인\n",
      "비트코인 보트코인\n",
      "비트코인 보트코인\n",
      "비트코인 보트코인\n",
      "비트코인 보트코인\n",
      "비트코인 보트코인\n",
      "비트코인 보트코인\n",
      "비트코인 보트코인\n",
      "비트코인 보트코인\n",
      "비트코인 보트코인\n",
      "비트코인 보트코인\n",
      "비트코인 보트코인\n",
      "비트코인 보트코인\n",
      "비트코인 보트코인\n",
      "비트코인 보트코인\n",
      "비트코인 보트코인\n",
      "비트코인 보트코인\n",
      "비트코인 보트코인\n",
      "비트코인 보트코인\n",
      "비트코인 보트코인\n",
      "비트코인 보트코인\n",
      "비트코인 보트코인\n",
      "비트코인 보트코인\n",
      "비트코인 보트코인\n",
      "비트코인 보트코인\n",
      "비트코인 보트코인\n",
      "비트코인 보트코인\n",
      "비트코인 보트코인\n",
      "비트코인 보트코인\n",
      "비트코인 보트코인\n",
      "비트코인 보트코인\n",
      "비트코인 보트코인\n"
     ]
    }
   ],
   "source": [
    "print_coins()"
   ]
  },
  {
   "cell_type": "code",
   "execution_count": 9,
   "metadata": {},
   "outputs": [
    {
     "ename": "NameError",
     "evalue": "name 'hello' is not defined",
     "output_type": "error",
     "traceback": [
      "\u001b[1;31m---------------------------------------------------------------------------\u001b[0m",
      "\u001b[1;31mNameError\u001b[0m                                 Traceback (most recent call last)",
      "\u001b[1;32m<ipython-input-9-78dd21f320c7>\u001b[0m in \u001b[0;36m<module>\u001b[1;34m\u001b[0m\n\u001b[0;32m      1\u001b[0m \u001b[1;31m# 235\u001b[0m\u001b[1;33m\u001b[0m\u001b[1;33m\u001b[0m\u001b[1;33m\u001b[0m\u001b[0m\n\u001b[1;32m----> 2\u001b[1;33m \u001b[0mhello\u001b[0m\u001b[1;33m(\u001b[0m\u001b[1;33m)\u001b[0m\u001b[1;33m\u001b[0m\u001b[1;33m\u001b[0m\u001b[0m\n\u001b[0m\u001b[0;32m      3\u001b[0m \u001b[1;32mdef\u001b[0m \u001b[0mhello\u001b[0m\u001b[1;33m(\u001b[0m\u001b[1;33m)\u001b[0m\u001b[1;33m:\u001b[0m\u001b[1;33m\u001b[0m\u001b[1;33m\u001b[0m\u001b[0m\n\u001b[0;32m      4\u001b[0m     \u001b[0mprint\u001b[0m\u001b[1;33m(\u001b[0m\u001b[1;34m'Hi'\u001b[0m\u001b[1;33m)\u001b[0m\u001b[1;33m\u001b[0m\u001b[1;33m\u001b[0m\u001b[0m\n",
      "\u001b[1;31mNameError\u001b[0m: name 'hello' is not defined"
     ]
    }
   ],
   "source": [
    "# 235\n",
    "hello()\n",
    "def hello():\n",
    "    print('Hi')\n",
    "# 함수가 정의되기 전에 호출해서 오류 발생"
   ]
  },
  {
   "cell_type": "code",
   "execution_count": 10,
   "metadata": {},
   "outputs": [
    {
     "name": "stdout",
     "output_type": "stream",
     "text": [
      "A\n",
      "B\n",
      "C\n",
      "A\n",
      "B\n"
     ]
    }
   ],
   "source": [
    "# 236\n",
    "def message() :\n",
    "    print(\"A\")\n",
    "    print(\"B\")\n",
    "\n",
    "message()\n",
    "print(\"C\")\n",
    "message()\n",
    "\n",
    "# A\n",
    "# B\n",
    "# C\n",
    "# A\n",
    "# B"
   ]
  },
  {
   "cell_type": "code",
   "execution_count": 11,
   "metadata": {},
   "outputs": [
    {
     "name": "stdout",
     "output_type": "stream",
     "text": [
      "A\n",
      "C\n",
      "B\n"
     ]
    }
   ],
   "source": [
    "# 237\n",
    "print(\"A\")\n",
    "\n",
    "def message() :\n",
    "    print(\"B\")\n",
    "\n",
    "print(\"C\")\n",
    "message()\n",
    "\n",
    "# A\n",
    "# C\n",
    "# B"
   ]
  },
  {
   "cell_type": "code",
   "execution_count": 13,
   "metadata": {},
   "outputs": [
    {
     "name": "stdout",
     "output_type": "stream",
     "text": [
      "A\n",
      "C\n",
      "B\n",
      "E\n",
      "D\n"
     ]
    }
   ],
   "source": [
    "# 238\n",
    "print('A')\n",
    "def message1():\n",
    "    print('B')\n",
    "print('C')\n",
    "def message2():\n",
    "    print('D')\n",
    "message1()\n",
    "print('E')\n",
    "message2()\n",
    "\n",
    "# A\n",
    "# C\n",
    "# B\n",
    "# E\n",
    "# D"
   ]
  },
  {
   "cell_type": "code",
   "execution_count": 14,
   "metadata": {},
   "outputs": [
    {
     "name": "stdout",
     "output_type": "stream",
     "text": [
      "B\n",
      "A\n"
     ]
    }
   ],
   "source": [
    "# 239\n",
    "def message1():\n",
    "    print('A')\n",
    "def message2():\n",
    "    print('B')\n",
    "    message1()\n",
    "    \n",
    "message2()\n",
    "\n",
    "# B\n",
    "# A"
   ]
  },
  {
   "cell_type": "code",
   "execution_count": 16,
   "metadata": {},
   "outputs": [
    {
     "name": "stdout",
     "output_type": "stream",
     "text": [
      "B\n",
      "C\n",
      "B\n",
      "C\n",
      "B\n",
      "C\n",
      "A\n"
     ]
    }
   ],
   "source": [
    "# 240\n",
    "def message1():\n",
    "    print('A')\n",
    "def message2():\n",
    "    print('B')\n",
    "def message3():\n",
    "    for i in range(3):\n",
    "        message2()\n",
    "        print('C')\n",
    "    message1()\n",
    "message3()\n",
    "\n",
    "# B\n",
    "# C\n",
    "# B\n",
    "# C\n",
    "# B\n",
    "# C\n",
    "# A"
   ]
  }
 ],
 "metadata": {
  "kernelspec": {
   "display_name": "Python 3",
   "language": "python",
   "name": "python3"
  },
  "language_info": {
   "codemirror_mode": {
    "name": "ipython",
    "version": 3
   },
   "file_extension": ".py",
   "mimetype": "text/x-python",
   "name": "python",
   "nbconvert_exporter": "python",
   "pygments_lexer": "ipython3",
   "version": "3.7.4"
  }
 },
 "nbformat": 4,
 "nbformat_minor": 2
}
