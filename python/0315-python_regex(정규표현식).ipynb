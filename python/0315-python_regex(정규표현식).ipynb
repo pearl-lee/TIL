{
 "cells": [
  {
   "cell_type": "markdown",
   "metadata": {},
   "source": [
    "### 정규표현식 (regex)\n",
    "- 문자열을 처리할 때 __특정 패턴__으로 문자열을 처리하는 방법\n",
    "- 예제\n",
    "    - 문자열에서 정규표현식 패턴으로 이메일 찾아내기\n",
    "    - 문자열에서 주민등록번호 패턴 찾아서 마지막 6자리 숫자를 `*`로 치환하기\n",
    "    - 중고나라의 전화번호 패턴을 찾아서 숫자로 치환하기\n",
    "        - O10-팔3구구-일5칠삼 -> 010-8399-1573"
   ]
  },
  {
   "cell_type": "code",
   "execution_count": 2,
   "metadata": {},
   "outputs": [],
   "source": [
    "import re\n",
    "import string"
   ]
  },
  {
   "cell_type": "markdown",
   "metadata": {},
   "source": [
    "#### 함수\n",
    "- findall : 일치하는 패턴의 문자열을 찾아서 리스트로 리턴해주는 함수\n",
    "- sub : 특정 패턴에 맞는 문자열을 찾아서 특정 규칙에 따라서 치환해주는 함수"
   ]
  },
  {
   "cell_type": "code",
   "execution_count": 5,
   "metadata": {},
   "outputs": [
    {
     "data": {
      "text/plain": [
       "'0123456789abcdefghijklmnopqrstuvwxyzABCDEFGHIJKLMNOPQRSTUVWXYZ!\"#$%&\\'()*+,-./:;<=>?@[\\\\]^_`{|}~ \\t\\n\\r\\x0b\\x0c'"
      ]
     },
     "execution_count": 5,
     "metadata": {},
     "output_type": "execute_result"
    }
   ],
   "source": [
    "data = string.printable\n",
    "data\n",
    "# 파이썬에서 쓸 수 있는 모든 문자 100개"
   ]
  },
  {
   "cell_type": "code",
   "execution_count": 6,
   "metadata": {},
   "outputs": [
    {
     "data": {
      "text/plain": [
       "['on', 'on']"
      ]
     },
     "execution_count": 6,
     "metadata": {},
     "output_type": "execute_result"
    }
   ],
   "source": [
    "re.findall('on', 'python data pyton 010 data 111')"
   ]
  },
  {
   "cell_type": "code",
   "execution_count": 8,
   "metadata": {},
   "outputs": [
    {
     "data": {
      "text/plain": [
       "'python fast pyton 010 fast 111'"
      ]
     },
     "execution_count": 8,
     "metadata": {},
     "output_type": "execute_result"
    }
   ],
   "source": [
    "re.sub('data', 'fast', 'python data pyton 010 data 111')"
   ]
  },
  {
   "cell_type": "markdown",
   "metadata": {},
   "source": [
    "#### 패턴\n",
    "- `[]` : 하나의 문자\n",
    "- `-` : 범위\n",
    "    - 소문자, 대문자, 숫자는 나눠서 작성\n",
    "- `.` : 하나의 문자 \n",
    "    - 문자열로도 사용 가능 : [.] or \\.\n",
    "- `?` : 0 또는 1회 반복\n",
    "- `*` : 0회 이상 반복\n",
    "- `+` : 1회 이상 반복\n",
    "- `{m}` : m회 반복\n",
    "- `{m,n}` : m~n회 반복\n",
    "- `()` : 그루핑"
   ]
  },
  {
   "cell_type": "code",
   "execution_count": 9,
   "metadata": {},
   "outputs": [
    {
     "data": {
      "text/plain": [
       "'0123456789abcdefghijklmnopqrstuvwxyzABCDEFGHIJKLMNOPQRSTUVWXYZ!\"#$%&\\'()*+,-./:;<=>?@[\\\\]^_`{|}~ \\t\\n\\r\\x0b\\x0c'"
      ]
     },
     "execution_count": 9,
     "metadata": {},
     "output_type": "execute_result"
    }
   ],
   "source": [
    "data = string.printable\n",
    "data"
   ]
  },
  {
   "cell_type": "code",
   "execution_count": 12,
   "metadata": {},
   "outputs": [
    {
     "data": {
      "text/plain": [
       "['o', 'n', 'o', 'n']"
      ]
     },
     "execution_count": 12,
     "metadata": {},
     "output_type": "execute_result"
    }
   ],
   "source": [
    "# [] : 하나의 문자\n",
    "re.findall('[on]', 'python data pyton 010 data 111')\n",
    "# o 또는 n이 있는거 찾음"
   ]
  },
  {
   "cell_type": "code",
   "execution_count": 14,
   "metadata": {},
   "outputs": [
    {
     "data": {
      "text/plain": [
       "['1', '2', '3', '4', '5', '6']"
      ]
     },
     "execution_count": 14,
     "metadata": {},
     "output_type": "execute_result"
    }
   ],
   "source": [
    "# - : 범위 \n",
    "re.findall('[123456]', data)"
   ]
  },
  {
   "cell_type": "code",
   "execution_count": 15,
   "metadata": {},
   "outputs": [
    {
     "data": {
      "text/plain": [
       "['a', 'b', 'c', 'd', 'e', 'f']"
      ]
     },
     "execution_count": 15,
     "metadata": {},
     "output_type": "execute_result"
    }
   ],
   "source": [
    "re.findall('[abcdef]', data)"
   ]
  },
  {
   "cell_type": "code",
   "execution_count": 17,
   "metadata": {},
   "outputs": [
    {
     "data": {
      "text/plain": [
       "['a', 'b', 'c', 'd', 'e', 'f']"
      ]
     },
     "execution_count": 17,
     "metadata": {},
     "output_type": "execute_result"
    }
   ],
   "source": [
    "re.findall('[a-f]', data)"
   ]
  },
  {
   "cell_type": "code",
   "execution_count": 24,
   "metadata": {},
   "outputs": [
    {
     "data": {
      "text/plain": [
       "'0123456789abcdefghijklmnopqrstuvwxyzABCDEFGHIJKLMNOPQRSTUVWXYZ.'"
      ]
     },
     "execution_count": 24,
     "metadata": {},
     "output_type": "execute_result"
    }
   ],
   "source": [
    "# 소문자, 대문자, 숫자는 나눠서 작성이 돼야 함\n",
    "result = re.findall('[0-9a-zA-Z.]', data)\n",
    "''.join(result)"
   ]
  },
  {
   "cell_type": "code",
   "execution_count": 28,
   "metadata": {},
   "outputs": [
    {
     "name": "stdout",
     "output_type": "stream",
     "text": [
      "123aab123a!bddd ['aab', 'a!b']\n",
      "a0b ['a0b']\n",
      "abc []\n"
     ]
    }
   ],
   "source": [
    "# . : 아무 문자 하나\n",
    "datas = ['123aab123a!bddd', 'a0b', 'abc']\n",
    "for data in datas:\n",
    "    result = re.findall('a.b', data)\n",
    "    print(data, result)"
   ]
  },
  {
   "cell_type": "code",
   "execution_count": 34,
   "metadata": {},
   "outputs": [
    {
     "name": "stdout",
     "output_type": "stream",
     "text": [
      "a3db []\n",
      "a0b ['a0b']\n",
      "abc ['ab']\n"
     ]
    }
   ],
   "source": [
    "# ? : 앞에 있는 문자의 패턴을 0회 또는 1회 반복\n",
    "datas = ['a3db', 'a0b', 'abc']\n",
    "for data in datas:\n",
    "    result = re.findall('a.?b', data)\n",
    "    print(data, result)"
   ]
  },
  {
   "cell_type": "code",
   "execution_count": 41,
   "metadata": {},
   "outputs": [
    {
     "name": "stdout",
     "output_type": "stream",
     "text": [
      "a3db ['a3db']\n",
      "a0b ['a0b']\n",
      "abc ['ab']\n"
     ]
    }
   ],
   "source": [
    "# * : 앞에 있는 문자의 패턴을 0회 이상 반복\n",
    "datas = ['a3db', 'a0b', 'abc']\n",
    "for data in datas:\n",
    "    result = re.findall('a.*b', data)\n",
    "    print(data, result)"
   ]
  },
  {
   "cell_type": "code",
   "execution_count": 43,
   "metadata": {},
   "outputs": [
    {
     "name": "stdout",
     "output_type": "stream",
     "text": [
      "a3db []\n",
      "a0b []\n",
      "abc ['ab']\n"
     ]
    }
   ],
   "source": [
    "datas = ['a3db', 'a0b', 'abc']\n",
    "for data in datas:\n",
    "    result = re.findall('a3*b', data)\n",
    "    print(data, result)"
   ]
  },
  {
   "cell_type": "code",
   "execution_count": 42,
   "metadata": {},
   "outputs": [
    {
     "name": "stdout",
     "output_type": "stream",
     "text": [
      "ac []\n",
      "abc ['abc']\n",
      "abbbc ['abbbc']\n"
     ]
    }
   ],
   "source": [
    "# + : 앞에 있는 문자의 패턴을 1회 이상 반복\n",
    "datas = ['ac', 'abc', 'abbbc']\n",
    "for data in datas:\n",
    "    result = re.findall('ab+c', data)\n",
    "    print(data, result)"
   ]
  },
  {
   "cell_type": "code",
   "execution_count": 46,
   "metadata": {},
   "outputs": [
    {
     "name": "stdout",
     "output_type": "stream",
     "text": [
      "ac []\n",
      "abc []\n",
      "abbbc ['abbbc']\n"
     ]
    }
   ],
   "source": [
    "# {m} : m회 반복\n",
    "datas = ['ac', 'abc', 'abbbc']\n",
    "for data in datas:\n",
    "    result = re.findall('ab{3}c', data)\n",
    "    print(data, result)"
   ]
  },
  {
   "cell_type": "code",
   "execution_count": 48,
   "metadata": {},
   "outputs": [
    {
     "name": "stdout",
     "output_type": "stream",
     "text": [
      "ac []\n",
      "abc ['abc']\n",
      "abbbc ['abbbc']\n",
      "abbbbbc []\n"
     ]
    }
   ],
   "source": [
    "# {m,n} : m~n회 반복\n",
    "datas = ['ac', 'abc', 'abbbc', 'abbbbbc']\n",
    "for data in datas:\n",
    "    result = re.findall('ab{1,3}c', data)\n",
    "    print(data, result)"
   ]
  },
  {
   "cell_type": "code",
   "execution_count": 53,
   "metadata": {},
   "outputs": [
    {
     "name": "stdout",
     "output_type": "stream",
     "text": [
      "fast campus123 data science! date fast campus3 ['fast campus123', 'fast campus3']\n",
      "fast campus123 data science! date fast campus3 [' campus12', ' campus']\n"
     ]
    }
   ],
   "source": [
    "# () : 특정 패턴에서 () 안에 있는 문자열만 출력\n",
    "datas = ['fast campus123 data science! date fast campus3']\n",
    "for data in datas:\n",
    "    result1 = re.findall('fast[a-z0-9 ]*3', data)\n",
    "    result2 = re.findall('fast([a-z0-9 ]*)3', data)\n",
    "    print(data, result1)\n",
    "    print(data, result2)    "
   ]
  },
  {
   "cell_type": "markdown",
   "metadata": {},
   "source": [
    "예제 1 : 이메일 주소 찾기"
   ]
  },
  {
   "cell_type": "code",
   "execution_count": 56,
   "metadata": {},
   "outputs": [
    {
     "data": {
      "text/plain": [
       "['fast_campus@gmail.com', 'data.science@daum.co.kr']"
      ]
     },
     "execution_count": 56,
     "metadata": {},
     "output_type": "execute_result"
    }
   ],
   "source": [
    "data = '저의 이메일 주소는 fast_campus@gmail.com과 data.science@daum.co.kr이 있습니다.'\n",
    "re.findall('[0-9a-zA-Z_.]{4,30}@[a-z0-9]+\\.[a-z.]+', data)"
   ]
  },
  {
   "cell_type": "code",
   "execution_count": 55,
   "metadata": {},
   "outputs": [
    {
     "data": {
      "text/plain": [
       "['gmail', 'daum']"
      ]
     },
     "execution_count": 55,
     "metadata": {},
     "output_type": "execute_result"
    }
   ],
   "source": [
    "# 도메인만 찾기\n",
    "data = '저의 이메일 주소는 fast_campus@gmail.com과 data.science@daum.co.kr이 있습니다.'\n",
    "re.findall('[0-9a-zA-Z_.]{4,30}@([a-z0-9]+)\\.[a-z.]+', data)"
   ]
  },
  {
   "cell_type": "markdown",
   "metadata": {},
   "source": [
    "예제 2 : 주민등록번호 패턴을 찾아서 마지막 6자리숫자는 *로 치환"
   ]
  },
  {
   "cell_type": "code",
   "execution_count": 64,
   "metadata": {},
   "outputs": [
    {
     "data": {
      "text/plain": [
       "['781230^1098454']"
      ]
     },
     "execution_count": 64,
     "metadata": {},
     "output_type": "execute_result"
    }
   ],
   "source": [
    "data = '저의 주민등록번호는 781230^1098454입니다. 마음껏 활용하세요!!'\n",
    "re.findall('[0-9]{6}.?[1-4][0-9]{6}', data)"
   ]
  },
  {
   "cell_type": "code",
   "execution_count": 65,
   "metadata": {},
   "outputs": [
    {
     "data": {
      "text/plain": [
       "'저의 주민등록번호는 781230^1******입니다. 마음껏 활용하세요!!'"
      ]
     },
     "execution_count": 65,
     "metadata": {},
     "output_type": "execute_result"
    }
   ],
   "source": [
    "re.sub('([0-9]{6}.?[1-4])[0-9]{6}', '\\g<1>******', data)"
   ]
  },
  {
   "cell_type": "code",
   "execution_count": 66,
   "metadata": {},
   "outputs": [
    {
     "data": {
      "text/plain": [
       "'저의 주민등록번호는 781230-1******입니다. 마음껏 활용하세요!!'"
      ]
     },
     "execution_count": 66,
     "metadata": {},
     "output_type": "execute_result"
    }
   ],
   "source": [
    "re.sub('([0-9]{6}).?([1-4])[0-9]{6}', '\\g<1>-\\g<2>******', data)"
   ]
  },
  {
   "cell_type": "markdown",
   "metadata": {},
   "source": [
    "예제 3 : 중고나라 전화번호 패턴 찾아서 숫자로 치환하기"
   ]
  },
  {
   "cell_type": "code",
   "execution_count": 75,
   "metadata": {},
   "outputs": [],
   "source": [
    "data = '안녕하세요 맥북 16인치 메모리 64기가 하드디스크 4테라 50만원에 팝니다. \\\n",
    "제 전화번호는 010사팔9삼-칠O3오나 010사팔9빵-빵O3오입니다. 선착순 입니다.' # 01048937035"
   ]
  },
  {
   "cell_type": "code",
   "execution_count": 76,
   "metadata": {},
   "outputs": [],
   "source": [
    "pt = '[0-9영공일이둘삼사오육칠팔구빵oOㅇ]{3}[-._ ]?[0-9영공일이둘삼사오육칠팔구빵oOㅇ]{3,4}[-._ ]?[0-9영공일이둘삼사오육칠팔구빵oOㅇ]{4}'"
   ]
  },
  {
   "cell_type": "code",
   "execution_count": 77,
   "metadata": {},
   "outputs": [
    {
     "data": {
      "text/plain": [
       "['010사팔9삼-칠O3오', '010사팔9빵-빵O3오']"
      ]
     },
     "execution_count": 77,
     "metadata": {},
     "output_type": "execute_result"
    }
   ],
   "source": [
    "numbers = re.findall(pt, data)\n",
    "numbers"
   ]
  },
  {
   "cell_type": "code",
   "execution_count": 80,
   "metadata": {},
   "outputs": [],
   "source": [
    "number_dict = {\n",
    "    '영':0, '공':0, '일':1, '이':2, '둘':2, '삼':3, '사':4, '오':5,\n",
    "    '육':6, '칠':7, '팔':8, '구':9, 'o':0, 'O':0, '빵':0,\n",
    "}"
   ]
  },
  {
   "cell_type": "code",
   "execution_count": 81,
   "metadata": {},
   "outputs": [
    {
     "data": {
      "text/plain": [
       "['01048937035', '01048900035']"
      ]
     },
     "execution_count": 81,
     "metadata": {},
     "output_type": "execute_result"
    }
   ],
   "source": [
    "result = []\n",
    "for number in numbers:\n",
    "    for key, value in number_dict.items():\n",
    "        number = number.replace(key, str(value))\n",
    "    number = number.replace('-', '')\n",
    "    result.append(number)\n",
    "    \n",
    "result"
   ]
  }
 ],
 "metadata": {
  "kernelspec": {
   "display_name": "Python 3",
   "language": "python",
   "name": "python3"
  },
  "language_info": {
   "codemirror_mode": {
    "name": "ipython",
    "version": 3
   },
   "file_extension": ".py",
   "mimetype": "text/x-python",
   "name": "python",
   "nbconvert_exporter": "python",
   "pygments_lexer": "ipython3",
   "version": "3.6.9"
  }
 },
 "nbformat": 4,
 "nbformat_minor": 4
}
