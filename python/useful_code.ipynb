{
 "cells": [
  {
   "cell_type": "markdown",
   "metadata": {},
   "source": [
    "주피터노트북 작업화면 넓게 보기"
   ]
  },
  {
   "cell_type": "code",
   "execution_count": 1,
   "metadata": {},
   "outputs": [
    {
     "data": {
      "text/html": [
       "<style>.container { width: 100% !important; }</style>"
      ],
      "text/plain": [
       "<IPython.core.display.HTML object>"
      ]
     },
     "metadata": {},
     "output_type": "display_data"
    }
   ],
   "source": [
    "from IPython.core.display import display, HTML\n",
    "display(HTML(\"<style>.container { width: 100% !important; }</style>\"))"
   ]
  },
  {
   "cell_type": "markdown",
   "metadata": {},
   "source": [
    "판다스 모든 열 볼 수있도록 최대 출력 열 개수 지정하기(default: 20)"
   ]
  },
  {
   "cell_type": "code",
   "execution_count": 2,
   "metadata": {},
   "outputs": [],
   "source": [
    "pd.set_option(\"display.max_columns\", 40)"
   ]
  },
  {
   "cell_type": "markdown",
   "metadata": {},
   "source": [
    "pyplot figure 파일로 저장하기"
   ]
  },
  {
   "cell_type": "code",
   "execution_count": null,
   "metadata": {},
   "outputs": [],
   "source": [
    "plt.savefig('image.png', dpi=300)"
   ]
  },
  {
   "cell_type": "markdown",
   "metadata": {},
   "source": [
    "주피터노트북에 이미지 넣기"
   ]
  },
  {
   "cell_type": "code",
   "execution_count": null,
   "metadata": {},
   "outputs": [],
   "source": [
    "from IPython.display import Image\n",
    " \n",
    "Image(\"img/picture.png\") # code안에서 나오게 할 때\n",
    "![title](img/picture.png) # markdown안에서 나오게 할 때"
   ]
  },
  {
   "cell_type": "markdown",
   "metadata": {},
   "source": [
    "딕셔너리 형의 키 이름 변경하기"
   ]
  },
  {
   "cell_type": "code",
   "execution_count": null,
   "metadata": {},
   "outputs": [],
   "source": [
    "dictionary = {old_key: value}\n",
    "dictionary[new_key] = dictionary.pop(old_key)"
   ]
  },
  {
   "cell_type": "markdown",
   "metadata": {},
   "source": [
    "리스트의 딕셔너리 중복 제거"
   ]
  },
  {
   "cell_type": "code",
   "execution_count": 2,
   "metadata": {},
   "outputs": [
    {
     "name": "stdout",
     "output_type": "stream",
     "text": [
      "[{'age': 29, 'id': 3, 'name': 'john'}, {'age': 31, 'id': 2, 'name': 'mike'}, {'age': 30, 'id': 1, 'name': 'jane'}]\n",
      "[{'age': 30, 'id': 1, 'name': 'jane'}, {'age': 31, 'id': 2, 'name': 'mike'}, {'age': 29, 'id': 3, 'name': 'john'}]\n"
     ]
    }
   ],
   "source": [
    "import collections\n",
    "\n",
    "data = [{'id': 1, 'name': 'jane', 'age': 30}, \n",
    "        {'id': 2, 'name': 'mike', 'age': 31}, \n",
    "        {'id': 1, 'name': 'jane', 'age': 30},\n",
    "        {'id': 3, 'name': 'john', 'age': 29}, \n",
    "       ] \n",
    "# 순서대로 X\n",
    "data1 = list(map(dict, set(tuple(sorted(d.items())) for d in data))) \n",
    "# 순서대로 O\n",
    "data2 = list(map(dict, collections.OrderedDict.fromkeys(tuple(sorted(d.items())) for d in data))) \n",
    "print(data1) \n",
    "print(data2)"
   ]
  },
  {
   "cell_type": "code",
   "execution_count": null,
   "metadata": {},
   "outputs": [],
   "source": []
  }
 ],
 "metadata": {
  "kernelspec": {
   "display_name": "Python 3",
   "language": "python",
   "name": "python3"
  },
  "language_info": {
   "codemirror_mode": {
    "name": "ipython",
    "version": 3
   },
   "file_extension": ".py",
   "mimetype": "text/x-python",
   "name": "python",
   "nbconvert_exporter": "python",
   "pygments_lexer": "ipython3",
   "version": "3.7.6"
  }
 },
 "nbformat": 4,
 "nbformat_minor": 4
}
