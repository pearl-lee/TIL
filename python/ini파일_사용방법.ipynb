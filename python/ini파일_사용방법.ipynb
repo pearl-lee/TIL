{
 "cells": [
  {
   "cell_type": "markdown",
   "metadata": {},
   "source": [
    "1. 그 코드를 쓸 위치에 ini 파일 만들기\n",
    "\n",
    "'login.ini'\n",
    "```\n",
    "[section1]\n",
    "ID = id\n",
    "PW = password\n",
    "```\n",
    "(여러개의 section을 만들어도 된다)\n",
    "\n",
    "2. '.gitignore' 만들어서 `*.ini` 추가\n",
    "    - https://www.gitignore.io/\n",
    "    - 꼭 해야만 함(중요)\n",
    "    - 추가하고, ini 파일을 github에 올려도 보이지 않음\n",
    "    \n",
    "3. pip install configparser\n",
    "\n",
    "4. 실행하기\n",
    "\n",
    "```python\n",
    "import configparser\n",
    "\n",
    "config = configparser.ConfigParser()\n",
    "config.read('login.ini')\n",
    "\n",
    "login_data = {'user': {'email': config.get('section1', 'ID'), \n",
    "                       'password': config.get('section1', 'PW'), \n",
    "                       'remember_me':'true'}}\n",
    "```"
   ]
  }
 ],
 "metadata": {
  "kernelspec": {
   "display_name": "Python 3",
   "language": "python",
   "name": "python3"
  },
  "language_info": {
   "codemirror_mode": {
    "name": "ipython",
    "version": 3
   },
   "file_extension": ".py",
   "mimetype": "text/x-python",
   "name": "python",
   "nbconvert_exporter": "python",
   "pygments_lexer": "ipython3",
   "version": "3.7.4"
  }
 },
 "nbformat": 4,
 "nbformat_minor": 2
}
