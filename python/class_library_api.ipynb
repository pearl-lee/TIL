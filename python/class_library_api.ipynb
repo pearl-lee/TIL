{
 "cells": [
  {
   "cell_type": "markdown",
   "metadata": {},
   "source": [
    "### 자료구조 복습"
   ]
  },
  {
   "cell_type": "code",
   "execution_count": 2,
   "metadata": {},
   "outputs": [
    {
     "name": "stdout",
     "output_type": "stream",
     "text": [
      "{'사과': 2, '바나나': 2, '딸기': 1, '키위': 1, '복숭아': 3}\n"
     ]
    }
   ],
   "source": [
    "fruit = ['사과', '사과', '바나나', '바나나', '딸기', '키위', '복숭아', '복숭아', '복숭아']\n",
    "\n",
    "d = {}\n",
    "for f in fruit:\n",
    "    if f in d: # '사과'라는 key가 d라는 딕셔너리에 들어있어?\n",
    "        d[f] += 1 # 그럼 개수를 하나 올려줘\n",
    "    else:\n",
    "        d[f] = 1 # 만약에 없으면 키 값을 추가하고 개수를 1로\n",
    "        \n",
    "print(d)"
   ]
  },
  {
   "cell_type": "markdown",
   "metadata": {},
   "source": [
    "### 클래스와 오브젝트\n",
    "- 클래스 == 빵틀\n",
    "- 오브젝트(인스턴스) == 빵"
   ]
  },
  {
   "cell_type": "code",
   "execution_count": 4,
   "metadata": {},
   "outputs": [],
   "source": [
    "class Person:\n",
    "    name = '진주'\n",
    "    def say_hello(self):\n",
    "        print('안녕! 나는 ' + self.name)"
   ]
  },
  {
   "cell_type": "code",
   "execution_count": 5,
   "metadata": {
    "scrolled": true
   },
   "outputs": [
    {
     "name": "stdout",
     "output_type": "stream",
     "text": [
      "안녕! 나는진주\n"
     ]
    }
   ],
   "source": [
    "p = Person() # 오브젝트\n",
    "p.say_hello()"
   ]
  },
  {
   "cell_type": "code",
   "execution_count": 7,
   "metadata": {},
   "outputs": [],
   "source": [
    "class Person:\n",
    "    def __init__(self, name):\n",
    "        self.name = name\n",
    "        \n",
    "    def say_hello(self):\n",
    "        print('안녕! 나는 ' + self.name)"
   ]
  },
  {
   "cell_type": "code",
   "execution_count": 8,
   "metadata": {},
   "outputs": [
    {
     "name": "stdout",
     "output_type": "stream",
     "text": [
      "안녕! 나는 진주\n",
      "안녕! 나는 마이클\n",
      "안녕! 나는 제니\n"
     ]
    }
   ],
   "source": [
    "jinju = Person('진주')\n",
    "michael = Person('마이클')\n",
    "jenny = Person('제니')\n",
    "\n",
    "jinju.say_hello()\n",
    "michael.say_hello()\n",
    "jenny.say_hello()"
   ]
  },
  {
   "cell_type": "code",
   "execution_count": 9,
   "metadata": {},
   "outputs": [],
   "source": [
    "class Person:\n",
    "    def __init__(self, name):\n",
    "        self.name = name\n",
    "        \n",
    "    def say_hello(self, to_name):\n",
    "        print('안녕! ' + to_name + ' 나는 ' + self.name)"
   ]
  },
  {
   "cell_type": "code",
   "execution_count": 10,
   "metadata": {
    "scrolled": true
   },
   "outputs": [
    {
     "name": "stdout",
     "output_type": "stream",
     "text": [
      "안녕! 철수 나는 진주\n",
      "안녕! 영희 나는 마이클\n",
      "안녕! 미지 나는 제니\n"
     ]
    }
   ],
   "source": [
    "jinju = Person('진주')\n",
    "michael = Person('마이클')\n",
    "jenny = Person('제니')\n",
    "\n",
    "jinju.say_hello('철수')\n",
    "michael.say_hello('영희')\n",
    "jenny.say_hello('미지')"
   ]
  },
  {
   "cell_type": "code",
   "execution_count": 11,
   "metadata": {},
   "outputs": [],
   "source": [
    "class Person:\n",
    "    def __init__(self, name, age):\n",
    "        self.name = name\n",
    "        self.age = age\n",
    "        \n",
    "    def say_hello(self, to_name):\n",
    "        print('안녕! ' + to_name + ' 나는 ' + self.name)\n",
    "        \n",
    "    def introduce(self):\n",
    "        print(f'내 이름은 {self.name} 그리고 나는 {self.age}살이야')"
   ]
  },
  {
   "cell_type": "code",
   "execution_count": 12,
   "metadata": {},
   "outputs": [],
   "source": [
    "jinju = Person('진주', '20')"
   ]
  },
  {
   "cell_type": "code",
   "execution_count": 13,
   "metadata": {},
   "outputs": [
    {
     "name": "stdout",
     "output_type": "stream",
     "text": [
      "내 이름은 진주 그리고 나는 20살이야\n"
     ]
    }
   ],
   "source": [
    "jinju.introduce()"
   ]
  },
  {
   "cell_type": "markdown",
   "metadata": {},
   "source": [
    "#### 상속"
   ]
  },
  {
   "cell_type": "code",
   "execution_count": 14,
   "metadata": {},
   "outputs": [],
   "source": [
    "class Police(Person): # Police class가 Person class 상속\n",
    "    def arrest(self, to_arrest):\n",
    "        print('넌 체포됐다 ' + to_arrest)\n",
    "        \n",
    "class Programmer(Person):\n",
    "    def program(self, to_program):\n",
    "        print('다음엔 뭘 만들지? 아 이걸 만들어야겠다 ' + to_program)"
   ]
  },
  {
   "cell_type": "code",
   "execution_count": 20,
   "metadata": {},
   "outputs": [
    {
     "name": "stdout",
     "output_type": "stream",
     "text": [
      "내 이름은 진주 그리고 나는 20살이야\n",
      "내 이름은 제니 그리고 나는 21살이야\n",
      "넌 체포됐다 진주\n",
      "내 이름은 마이클 그리고 나는 22살이야\n",
      "다음엔 뭘 만들지? 아 이걸 만들어야겠다 이메일 클라이언트\n"
     ]
    }
   ],
   "source": [
    "jinju = Person('진주', 20)\n",
    "jenny = Police('제니', 21)\n",
    "michael = Programmer('마이클', 22)\n",
    "\n",
    "jinju.introduce()\n",
    "jenny.introduce()\n",
    "jenny.arrest('진주')\n",
    "michael.introduce()\n",
    "michael.program('이메일 클라이언트')"
   ]
  },
  {
   "cell_type": "markdown",
   "metadata": {},
   "source": [
    "### 패키지와 모듈\n",
    "- animal **package**\n",
    "- dog, cat **modules**\n",
    "- dog, cat modules can say \"hi\""
   ]
  },
  {
   "cell_type": "code",
   "execution_count": 21,
   "metadata": {},
   "outputs": [],
   "source": [
    "!mkdir animal"
   ]
  },
  {
   "cell_type": "code",
   "execution_count": 27,
   "metadata": {},
   "outputs": [
    {
     "name": "stdout",
     "output_type": "stream",
     "text": [
      "Writing ./animal/dog.py\n"
     ]
    }
   ],
   "source": [
    "%%writefile ./animal/dog.py\n",
    "class Dog:\n",
    "    def hi(self):\n",
    "        print('bark!')"
   ]
  },
  {
   "cell_type": "code",
   "execution_count": 28,
   "metadata": {},
   "outputs": [
    {
     "name": "stdout",
     "output_type": "stream",
     "text": [
      "Writing ./animal/cat.py\n"
     ]
    }
   ],
   "source": [
    "%%writefile ./animal/cat.py\n",
    "class Cat:\n",
    "    def hi(self):\n",
    "        print('meow')"
   ]
  },
  {
   "cell_type": "code",
   "execution_count": 29,
   "metadata": {},
   "outputs": [
    {
     "name": "stdout",
     "output_type": "stream",
     "text": [
      "Writing ./animal/__init__.py\n"
     ]
    }
   ],
   "source": [
    "%%writefile ./animal/__init__.py\n",
    "from .cat import Cat # \".\" : 이 폴더에 있는 cat.py 라는 파일에서 Cat이라는 클래스를 불러오기\n",
    "from .dog import Dog"
   ]
  },
  {
   "cell_type": "code",
   "execution_count": 30,
   "metadata": {},
   "outputs": [
    {
     "name": "stdout",
     "output_type": "stream",
     "text": [
      "bark!\n"
     ]
    }
   ],
   "source": [
    "from animal import dog # animal 패키지에서 dog라는 모듈을 가져와죠\n",
    "from animal import cat\n",
    "\n",
    "d = dog.Dog() # instance\n",
    "d.hi()"
   ]
  },
  {
   "cell_type": "code",
   "execution_count": 31,
   "metadata": {},
   "outputs": [
    {
     "name": "stdout",
     "output_type": "stream",
     "text": [
      "meow\n"
     ]
    }
   ],
   "source": [
    "c = cat.Cat()\n",
    "c.hi()"
   ]
  },
  {
   "cell_type": "code",
   "execution_count": 32,
   "metadata": {},
   "outputs": [
    {
     "name": "stdout",
     "output_type": "stream",
     "text": [
      "bark!\n",
      "meow\n"
     ]
    }
   ],
   "source": [
    "from animal import * # animal 패키지가 가지고 있는 모든 모듈 불러오기\n",
    "d = Dog()\n",
    "c = Cat()\n",
    "\n",
    "d.hi()\n",
    "c.hi()"
   ]
  },
  {
   "cell_type": "markdown",
   "metadata": {},
   "source": [
    "### geopy"
   ]
  },
  {
   "cell_type": "code",
   "execution_count": 33,
   "metadata": {},
   "outputs": [
    {
     "name": "stdout",
     "output_type": "stream",
     "text": [
      "Collecting geopy\n",
      "  Downloading geopy-2.0.0-py3-none-any.whl (111 kB)\n",
      "\u001b[K     |████████████████████████████████| 111 kB 225 kB/s eta 0:00:01\n",
      "\u001b[?25hCollecting geographiclib<2,>=1.49\n",
      "  Downloading geographiclib-1.50-py3-none-any.whl (38 kB)\n",
      "Installing collected packages: geographiclib, geopy\n",
      "Successfully installed geographiclib-1.50 geopy-2.0.0\n"
     ]
    }
   ],
   "source": [
    "!pip install geopy"
   ]
  },
  {
   "cell_type": "code",
   "execution_count": 45,
   "metadata": {
    "scrolled": true
   },
   "outputs": [
    {
     "name": "stdout",
     "output_type": "stream",
     "text": [
      "서울, 대한민국\n",
      "37.5666791\n",
      "126.9782914\n"
     ]
    }
   ],
   "source": [
    "# from animal.dog import Dog 와 같음\n",
    "\n",
    "from geopy.geocoders import Nominatim\n",
    "geolocator = Nominatim(user_agent='jinju')\n",
    "location = geolocator.geocode('Seoul, South Korea')\n",
    "print(location.address)\n",
    "print(location.latitude)\n",
    "print(location.longitude)"
   ]
  },
  {
   "cell_type": "code",
   "execution_count": 46,
   "metadata": {},
   "outputs": [
    {
     "data": {
      "text/plain": [
       "{'place_id': 279111120,\n",
       " 'licence': 'Data © OpenStreetMap contributors, ODbL 1.0. https://osm.org/copyright',\n",
       " 'osm_type': 'relation',\n",
       " 'osm_id': 2297418,\n",
       " 'boundingbox': ['37.4285424', '37.7013911', '126.7644328', '127.1832695'],\n",
       " 'lat': '37.5666791',\n",
       " 'lon': '126.9782914',\n",
       " 'display_name': '서울, 대한민국',\n",
       " 'class': 'boundary',\n",
       " 'type': 'administrative',\n",
       " 'importance': 0.6297939847554467,\n",
       " 'icon': 'https://nominatim.openstreetmap.org/images/mapicons/poi_boundary_administrative.p.20.png'}"
      ]
     },
     "execution_count": 46,
     "metadata": {},
     "output_type": "execute_result"
    }
   ],
   "source": [
    "location.raw"
   ]
  },
  {
   "cell_type": "markdown",
   "metadata": {},
   "source": [
    "### 문자보내기\n",
    "- 라이브러리(패키지)\n",
    "- API (https://www.twilio.com/)"
   ]
  },
  {
   "cell_type": "code",
   "execution_count": 47,
   "metadata": {},
   "outputs": [
    {
     "name": "stdout",
     "output_type": "stream",
     "text": [
      "Collecting twilio\n",
      "  Downloading twilio-6.43.0.tar.gz (431 kB)\n",
      "\u001b[K     |████████████████████████████████| 431 kB 293 kB/s eta 0:00:01\n",
      "\u001b[?25hRequirement already satisfied: six in /Users/jinjulee/anaconda3/lib/python3.7/site-packages (from twilio) (1.14.0)\n",
      "Requirement already satisfied: pytz in /Users/jinjulee/anaconda3/lib/python3.7/site-packages (from twilio) (2019.3)\n",
      "Collecting PyJWT>=1.4.2\n",
      "  Downloading PyJWT-1.7.1-py2.py3-none-any.whl (18 kB)\n",
      "Requirement already satisfied: requests>=2.0.0 in /Users/jinjulee/anaconda3/lib/python3.7/site-packages (from twilio) (2.22.0)\n",
      "Requirement already satisfied: urllib3!=1.25.0,!=1.25.1,<1.26,>=1.21.1 in /Users/jinjulee/anaconda3/lib/python3.7/site-packages (from requests>=2.0.0->twilio) (1.25.8)\n",
      "Requirement already satisfied: chardet<3.1.0,>=3.0.2 in /Users/jinjulee/anaconda3/lib/python3.7/site-packages (from requests>=2.0.0->twilio) (3.0.4)\n",
      "Requirement already satisfied: idna<2.9,>=2.5 in /Users/jinjulee/anaconda3/lib/python3.7/site-packages (from requests>=2.0.0->twilio) (2.8)\n",
      "Requirement already satisfied: certifi>=2017.4.17 in /Users/jinjulee/anaconda3/lib/python3.7/site-packages (from requests>=2.0.0->twilio) (2019.11.28)\n",
      "Building wheels for collected packages: twilio\n",
      "  Building wheel for twilio (setup.py) ... \u001b[?25ldone\n",
      "\u001b[?25h  Created wheel for twilio: filename=twilio-6.43.0-py2.py3-none-any.whl size=1140663 sha256=60727be4f0da4a845efb63152a718029f2673969e66b25608b6f28b84d5cb514\n",
      "  Stored in directory: /Users/jinjulee/Library/Caches/pip/wheels/af/4e/cb/8f7cd00a75dbf448be3a06a1b13608af3f918e211c5ad7c0be\n",
      "Successfully built twilio\n",
      "Installing collected packages: PyJWT, twilio\n",
      "Successfully installed PyJWT-1.7.1 twilio-6.43.0\n"
     ]
    }
   ],
   "source": [
    "!pip install twilio"
   ]
  },
  {
   "cell_type": "code",
   "execution_count": 49,
   "metadata": {},
   "outputs": [
    {
     "name": "stdout",
     "output_type": "stream",
     "text": [
      "SMf703990546834e1685d3eb1785df66a1\n"
     ]
    }
   ],
   "source": [
    "# Download the helper library from https://www.twilio.com/docs/python/install\n",
    "from twilio.rest import Client\n",
    "\n",
    "# Your Account Sid and Auth Token from twilio.com/console\n",
    "# DANGER! This is insecure. See http://twil.io/secure\n",
    "account_sid = 'AC2f74bcb037dc93fa12bd2b1610697441'\n",
    "auth_token = '388da7399d63f54a94b1d0cfbc67d3f2'\n",
    "client = Client(account_sid, auth_token)\n",
    "\n",
    "message = client.messages \\\n",
    "                .create(\n",
    "                     body=\"안녕뭐해?\",\n",
    "                     from_='+12014250957',\n",
    "                     to='+821064236098'\n",
    "                 )\n",
    "\n",
    "print(message.sid)"
   ]
  },
  {
   "cell_type": "code",
   "execution_count": null,
   "metadata": {},
   "outputs": [],
   "source": []
  }
 ],
 "metadata": {
  "kernelspec": {
   "display_name": "Python 3",
   "language": "python",
   "name": "python3"
  },
  "language_info": {
   "codemirror_mode": {
    "name": "ipython",
    "version": 3
   },
   "file_extension": ".py",
   "mimetype": "text/x-python",
   "name": "python",
   "nbconvert_exporter": "python",
   "pygments_lexer": "ipython3",
   "version": "3.7.6"
  }
 },
 "nbformat": 4,
 "nbformat_minor": 4
}
